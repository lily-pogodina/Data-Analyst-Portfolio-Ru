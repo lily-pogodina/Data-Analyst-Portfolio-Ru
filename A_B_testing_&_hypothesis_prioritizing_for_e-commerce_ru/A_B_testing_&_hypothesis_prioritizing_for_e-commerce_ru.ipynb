{
 "cells": [
  {
   "cell_type": "markdown",
   "metadata": {},
   "source": [
    "\n",
    "# Приоритизация гипотез и анализ A/B-теста для интернет-магазина.\n",
    "\n",
    "---\n",
    "\n",
    "В нашем распоряжении файлы, содержащие ряд гипотез для увеличения выручки, а также результаты A/B-теста.\n",
    "\\\n",
    "В исследовании мы применим ряд фреймворков и выберем наиболее приоритетные гипотезы, а также проанализируем результаты A/B-теста.\n",
    "\n",
    "**Цели исследования**\n",
    "\n",
    "* выяснить наиболее перспективную гипотезу\n",
    "* проанализировать результаты A/B-теста и принять решение о продолжении теста или его остановки\n",
    "* yзнать, есть ли значимая разница между группами `A` и `B`, на основе уже имеющихся данных\n",
    "\n",
    "---\n",
    "**Ход исследования**\n",
    "\n",
    "Данные мы получили из нескольких файлов. О качестве данных пока ничего не известно.\n",
    "Поэтому перед проведением исследования нам понадобится обзор данных.\n",
    "\n",
    "Таким образом, исследование пройдёт в несколько этапов:\n",
    "\n",
    "1 — Обзор данных\\\n",
    "2 — Предобработка данных\\\n",
    "3 — Приоритизация гипотез\\\n",
    "4 — Анализ A/B-теста и принятие решения на основе выводов\\\n",
    "5 — Общий вывод\n",
    "\n",
    "---\n",
    "**Описание данных**\n",
    "\n",
    "**Данные для выбора приоритетной гипотезы**\n",
    "\n",
    "Файл `/datasets/hypothesis.csv.`:\n",
    "\n",
    "`Hypothesis` — краткое описание гипотезы\\\n",
    "`Reach` — охват пользователей по 10-балльной шкале\\\n",
    "`Impact` — влияние на пользователей по 10-балльной шкале\\\n",
    "`Confidence` — уверенность в гипотезе по 10-балльной шкале\\\n",
    "`Efforts` — затраты ресурсов на проверку гипотезы по 10-балльной шкале. Чем больше значение Efforts, тем дороже проверка гипотезы.\n",
    "\n",
    "\n",
    "**Данные с результатами A/B-теста**\n",
    "\n",
    "Файл `/datasets/orders.csv`\\\n",
    "\n",
    "`transactionId` — идентификатор заказа\\\n",
    "`visitorId` — идентификатор пользователя, совершившего заказ\\\n",
    "`date` — дата, когда был совершён заказ\\\n",
    "`revenue` — выручка заказа\\\n",
    "`group` — группа A/B-теста, в которую попал заказ.\n",
    "\n",
    "\n",
    "Файл `/datasets/visitors.csv`:\\\n",
    "\n",
    "`date` — дата\\\n",
    "`group` — группа A/B-теста\\\n",
    "`visitors` — количество пользователей в указанную дату в указанной группе A/B-теста"
   ]
  },
  {
   "cell_type": "markdown",
   "metadata": {},
   "source": [
    "<div class=\"alert alert-info\">В ходе проекта использован код, данный в главе теории к проекту.\n",
    "В ходе проекта, я укажу на него такими голубыми ячейками.\n",
    "</div>"
   ]
  },
  {
   "cell_type": "markdown",
   "metadata": {},
   "source": [
    "## Обзор данных"
   ]
  },
  {
   "cell_type": "code",
   "execution_count": 1,
   "metadata": {},
   "outputs": [],
   "source": [
    "#импорт библиотек\n",
    "import pandas as pd\n",
    "import numpy as np\n",
    "import matplotlib.pyplot as plt\n",
    "import scipy.stats as stats\n",
    "import datetime as dt"
   ]
  },
  {
   "cell_type": "code",
   "execution_count": 2,
   "metadata": {},
   "outputs": [],
   "source": [
    "#сохраняем файлы в датафреймы\n",
    "hypothesis = pd.read_csv('hypothesis.csv')\n",
    "orders = pd.read_csv('orders.csv')\n",
    "visitors = pd.read_csv('visitors.csv')"
   ]
  },
  {
   "cell_type": "code",
   "execution_count": 3,
   "metadata": {},
   "outputs": [],
   "source": [
    "pd.options.display.max_colwidth = 1 # настраиваем максимальную ширину столбца"
   ]
  },
  {
   "cell_type": "markdown",
   "metadata": {},
   "source": [
    "Начнем с датасета `hypothesis`.\\\n",
    "Выведем на экран первые строки датасета и применим метод info():"
   ]
  },
  {
   "cell_type": "code",
   "execution_count": 4,
   "metadata": {},
   "outputs": [
    {
     "data": {
      "text/html": [
       "<div>\n",
       "<style scoped>\n",
       "    .dataframe tbody tr th:only-of-type {\n",
       "        vertical-align: middle;\n",
       "    }\n",
       "\n",
       "    .dataframe tbody tr th {\n",
       "        vertical-align: top;\n",
       "    }\n",
       "\n",
       "    .dataframe thead th {\n",
       "        text-align: right;\n",
       "    }\n",
       "</style>\n",
       "<table border=\"1\" class=\"dataframe\">\n",
       "  <thead>\n",
       "    <tr style=\"text-align: right;\">\n",
       "      <th></th>\n",
       "      <th>Hypothesis</th>\n",
       "      <th>Reach</th>\n",
       "      <th>Impact</th>\n",
       "      <th>Confidence</th>\n",
       "      <th>Efforts</th>\n",
       "    </tr>\n",
       "  </thead>\n",
       "  <tbody>\n",
       "    <tr>\n",
       "      <th>0</th>\n",
       "      <td>Добавить два новых канала привлечения трафика, что позволит привлекать на 30% больше пользователей</td>\n",
       "      <td>3</td>\n",
       "      <td>10</td>\n",
       "      <td>8</td>\n",
       "      <td>6</td>\n",
       "    </tr>\n",
       "    <tr>\n",
       "      <th>1</th>\n",
       "      <td>Запустить собственную службу доставки, что сократит срок доставки заказов</td>\n",
       "      <td>2</td>\n",
       "      <td>5</td>\n",
       "      <td>4</td>\n",
       "      <td>10</td>\n",
       "    </tr>\n",
       "    <tr>\n",
       "      <th>2</th>\n",
       "      <td>Добавить блоки рекомендаций товаров на сайт интернет магазина, чтобы повысить конверсию и средний чек заказа</td>\n",
       "      <td>8</td>\n",
       "      <td>3</td>\n",
       "      <td>7</td>\n",
       "      <td>3</td>\n",
       "    </tr>\n",
       "    <tr>\n",
       "      <th>3</th>\n",
       "      <td>Изменить структура категорий, что увеличит конверсию, т.к. пользователи быстрее найдут нужный товар</td>\n",
       "      <td>8</td>\n",
       "      <td>3</td>\n",
       "      <td>3</td>\n",
       "      <td>8</td>\n",
       "    </tr>\n",
       "    <tr>\n",
       "      <th>4</th>\n",
       "      <td>Изменить цвет фона главной страницы, чтобы увеличить вовлеченность пользователей</td>\n",
       "      <td>3</td>\n",
       "      <td>1</td>\n",
       "      <td>1</td>\n",
       "      <td>1</td>\n",
       "    </tr>\n",
       "    <tr>\n",
       "      <th>5</th>\n",
       "      <td>Добавить страницу отзывов клиентов о магазине, что позволит увеличить количество заказов</td>\n",
       "      <td>3</td>\n",
       "      <td>2</td>\n",
       "      <td>2</td>\n",
       "      <td>3</td>\n",
       "    </tr>\n",
       "    <tr>\n",
       "      <th>6</th>\n",
       "      <td>Показать на главной странице баннеры с актуальными акциями и распродажами, чтобы увеличить конверсию</td>\n",
       "      <td>5</td>\n",
       "      <td>3</td>\n",
       "      <td>8</td>\n",
       "      <td>3</td>\n",
       "    </tr>\n",
       "    <tr>\n",
       "      <th>7</th>\n",
       "      <td>Добавить форму подписки на все основные страницы, чтобы собрать базу клиентов для email-рассылок</td>\n",
       "      <td>10</td>\n",
       "      <td>7</td>\n",
       "      <td>8</td>\n",
       "      <td>5</td>\n",
       "    </tr>\n",
       "    <tr>\n",
       "      <th>8</th>\n",
       "      <td>Запустить акцию, дающую скидку на товар в день рождения</td>\n",
       "      <td>1</td>\n",
       "      <td>9</td>\n",
       "      <td>9</td>\n",
       "      <td>5</td>\n",
       "    </tr>\n",
       "  </tbody>\n",
       "</table>\n",
       "</div>"
      ],
      "text/plain": [
       "                                                                                                     Hypothesis  \\\n",
       "0  Добавить два новых канала привлечения трафика, что позволит привлекать на 30% больше пользователей             \n",
       "1  Запустить собственную службу доставки, что сократит срок доставки заказов                                      \n",
       "2  Добавить блоки рекомендаций товаров на сайт интернет магазина, чтобы повысить конверсию и средний чек заказа   \n",
       "3  Изменить структура категорий, что увеличит конверсию, т.к. пользователи быстрее найдут нужный товар            \n",
       "4  Изменить цвет фона главной страницы, чтобы увеличить вовлеченность пользователей                               \n",
       "5  Добавить страницу отзывов клиентов о магазине, что позволит увеличить количество заказов                       \n",
       "6  Показать на главной странице баннеры с актуальными акциями и распродажами, чтобы увеличить конверсию           \n",
       "7  Добавить форму подписки на все основные страницы, чтобы собрать базу клиентов для email-рассылок               \n",
       "8  Запустить акцию, дающую скидку на товар в день рождения                                                        \n",
       "\n",
       "   Reach  Impact  Confidence  Efforts  \n",
       "0  3      10      8           6        \n",
       "1  2      5       4           10       \n",
       "2  8      3       7           3        \n",
       "3  8      3       3           8        \n",
       "4  3      1       1           1        \n",
       "5  3      2       2           3        \n",
       "6  5      3       8           3        \n",
       "7  10     7       8           5        \n",
       "8  1      9       9           5        "
      ]
     },
     "execution_count": 4,
     "metadata": {},
     "output_type": "execute_result"
    }
   ],
   "source": [
    "hypothesis.head(10)"
   ]
  },
  {
   "cell_type": "code",
   "execution_count": 5,
   "metadata": {},
   "outputs": [
    {
     "name": "stdout",
     "output_type": "stream",
     "text": [
      "<class 'pandas.core.frame.DataFrame'>\n",
      "RangeIndex: 9 entries, 0 to 8\n",
      "Data columns (total 5 columns):\n",
      " #   Column      Non-Null Count  Dtype \n",
      "---  ------      --------------  ----- \n",
      " 0   Hypothesis  9 non-null      object\n",
      " 1   Reach       9 non-null      int64 \n",
      " 2   Impact      9 non-null      int64 \n",
      " 3   Confidence  9 non-null      int64 \n",
      " 4   Efforts     9 non-null      int64 \n",
      "dtypes: int64(4), object(1)\n",
      "memory usage: 492.0+ bytes\n"
     ]
    }
   ],
   "source": [
    "hypothesis.info()"
   ]
  },
  {
   "cell_type": "markdown",
   "metadata": {},
   "source": [
    "**Наблюдения**\n",
    "\n",
    "* Пропусков и дубликатов в датасете нет\n",
    "* Желательно привести названия столбцов к змеиному регистру\n",
    "* Типы данных в датасете корректные"
   ]
  },
  {
   "cell_type": "markdown",
   "metadata": {},
   "source": [
    "Теперь изучим `orders`.\\\n",
    "Выведем на экран первые строки датасета и применим метод info():"
   ]
  },
  {
   "cell_type": "code",
   "execution_count": 6,
   "metadata": {},
   "outputs": [
    {
     "data": {
      "text/html": [
       "<div>\n",
       "<style scoped>\n",
       "    .dataframe tbody tr th:only-of-type {\n",
       "        vertical-align: middle;\n",
       "    }\n",
       "\n",
       "    .dataframe tbody tr th {\n",
       "        vertical-align: top;\n",
       "    }\n",
       "\n",
       "    .dataframe thead th {\n",
       "        text-align: right;\n",
       "    }\n",
       "</style>\n",
       "<table border=\"1\" class=\"dataframe\">\n",
       "  <thead>\n",
       "    <tr style=\"text-align: right;\">\n",
       "      <th></th>\n",
       "      <th>transactionId</th>\n",
       "      <th>visitorId</th>\n",
       "      <th>date</th>\n",
       "      <th>revenue</th>\n",
       "      <th>group</th>\n",
       "    </tr>\n",
       "  </thead>\n",
       "  <tbody>\n",
       "    <tr>\n",
       "      <th>0</th>\n",
       "      <td>3667963787</td>\n",
       "      <td>3312258926</td>\n",
       "      <td>2019-08-15</td>\n",
       "      <td>1650</td>\n",
       "      <td>B</td>\n",
       "    </tr>\n",
       "    <tr>\n",
       "      <th>1</th>\n",
       "      <td>2804400009</td>\n",
       "      <td>3642806036</td>\n",
       "      <td>2019-08-15</td>\n",
       "      <td>730</td>\n",
       "      <td>B</td>\n",
       "    </tr>\n",
       "    <tr>\n",
       "      <th>2</th>\n",
       "      <td>2961555356</td>\n",
       "      <td>4069496402</td>\n",
       "      <td>2019-08-15</td>\n",
       "      <td>400</td>\n",
       "      <td>A</td>\n",
       "    </tr>\n",
       "    <tr>\n",
       "      <th>3</th>\n",
       "      <td>3797467345</td>\n",
       "      <td>1196621759</td>\n",
       "      <td>2019-08-15</td>\n",
       "      <td>9759</td>\n",
       "      <td>B</td>\n",
       "    </tr>\n",
       "    <tr>\n",
       "      <th>4</th>\n",
       "      <td>2282983706</td>\n",
       "      <td>2322279887</td>\n",
       "      <td>2019-08-15</td>\n",
       "      <td>2308</td>\n",
       "      <td>B</td>\n",
       "    </tr>\n",
       "  </tbody>\n",
       "</table>\n",
       "</div>"
      ],
      "text/plain": [
       "   transactionId   visitorId        date  revenue group\n",
       "0  3667963787     3312258926  2019-08-15  1650     B   \n",
       "1  2804400009     3642806036  2019-08-15  730      B   \n",
       "2  2961555356     4069496402  2019-08-15  400      A   \n",
       "3  3797467345     1196621759  2019-08-15  9759     B   \n",
       "4  2282983706     2322279887  2019-08-15  2308     B   "
      ]
     },
     "execution_count": 6,
     "metadata": {},
     "output_type": "execute_result"
    }
   ],
   "source": [
    "orders.head()"
   ]
  },
  {
   "cell_type": "code",
   "execution_count": 7,
   "metadata": {},
   "outputs": [
    {
     "name": "stdout",
     "output_type": "stream",
     "text": [
      "<class 'pandas.core.frame.DataFrame'>\n",
      "RangeIndex: 1197 entries, 0 to 1196\n",
      "Data columns (total 5 columns):\n",
      " #   Column         Non-Null Count  Dtype \n",
      "---  ------         --------------  ----- \n",
      " 0   transactionId  1197 non-null   int64 \n",
      " 1   visitorId      1197 non-null   int64 \n",
      " 2   date           1197 non-null   object\n",
      " 3   revenue        1197 non-null   int64 \n",
      " 4   group          1197 non-null   object\n",
      "dtypes: int64(3), object(2)\n",
      "memory usage: 46.9+ KB\n"
     ]
    }
   ],
   "source": [
    "orders.info()"
   ]
  },
  {
   "cell_type": "markdown",
   "metadata": {},
   "source": [
    "**Наблюдения**\n",
    "\n",
    "* Пропусков в датасете нет\n",
    "* Желательно привести названия столбцов к змеиному регистру\n",
    "* Нужно изменить тип данных столбца `date` с object на datetime\n",
    "* Следует проверить датасет на дубликаты\n",
    "* Нужно проверить нет ли пользователей, попавших в обе группы исследования"
   ]
  },
  {
   "cell_type": "markdown",
   "metadata": {},
   "source": [
    "Перейдем к датасету `visitors`.\\\n",
    "Выведем на экран первые строки датасета и применим метод info():"
   ]
  },
  {
   "cell_type": "code",
   "execution_count": 8,
   "metadata": {},
   "outputs": [
    {
     "data": {
      "text/html": [
       "<div>\n",
       "<style scoped>\n",
       "    .dataframe tbody tr th:only-of-type {\n",
       "        vertical-align: middle;\n",
       "    }\n",
       "\n",
       "    .dataframe tbody tr th {\n",
       "        vertical-align: top;\n",
       "    }\n",
       "\n",
       "    .dataframe thead th {\n",
       "        text-align: right;\n",
       "    }\n",
       "</style>\n",
       "<table border=\"1\" class=\"dataframe\">\n",
       "  <thead>\n",
       "    <tr style=\"text-align: right;\">\n",
       "      <th></th>\n",
       "      <th>date</th>\n",
       "      <th>group</th>\n",
       "      <th>visitors</th>\n",
       "    </tr>\n",
       "  </thead>\n",
       "  <tbody>\n",
       "    <tr>\n",
       "      <th>0</th>\n",
       "      <td>2019-08-01</td>\n",
       "      <td>A</td>\n",
       "      <td>719</td>\n",
       "    </tr>\n",
       "    <tr>\n",
       "      <th>1</th>\n",
       "      <td>2019-08-02</td>\n",
       "      <td>A</td>\n",
       "      <td>619</td>\n",
       "    </tr>\n",
       "    <tr>\n",
       "      <th>2</th>\n",
       "      <td>2019-08-03</td>\n",
       "      <td>A</td>\n",
       "      <td>507</td>\n",
       "    </tr>\n",
       "    <tr>\n",
       "      <th>3</th>\n",
       "      <td>2019-08-04</td>\n",
       "      <td>A</td>\n",
       "      <td>717</td>\n",
       "    </tr>\n",
       "    <tr>\n",
       "      <th>4</th>\n",
       "      <td>2019-08-05</td>\n",
       "      <td>A</td>\n",
       "      <td>756</td>\n",
       "    </tr>\n",
       "  </tbody>\n",
       "</table>\n",
       "</div>"
      ],
      "text/plain": [
       "         date group  visitors\n",
       "0  2019-08-01  A     719     \n",
       "1  2019-08-02  A     619     \n",
       "2  2019-08-03  A     507     \n",
       "3  2019-08-04  A     717     \n",
       "4  2019-08-05  A     756     "
      ]
     },
     "execution_count": 8,
     "metadata": {},
     "output_type": "execute_result"
    }
   ],
   "source": [
    "visitors.head()"
   ]
  },
  {
   "cell_type": "code",
   "execution_count": 9,
   "metadata": {},
   "outputs": [
    {
     "name": "stdout",
     "output_type": "stream",
     "text": [
      "<class 'pandas.core.frame.DataFrame'>\n",
      "RangeIndex: 62 entries, 0 to 61\n",
      "Data columns (total 3 columns):\n",
      " #   Column    Non-Null Count  Dtype \n",
      "---  ------    --------------  ----- \n",
      " 0   date      62 non-null     object\n",
      " 1   group     62 non-null     object\n",
      " 2   visitors  62 non-null     int64 \n",
      "dtypes: int64(1), object(2)\n",
      "memory usage: 1.6+ KB\n"
     ]
    }
   ],
   "source": [
    "visitors.info()"
   ]
  },
  {
   "cell_type": "markdown",
   "metadata": {},
   "source": [
    "**Наблюдения**\n",
    "\n",
    "* Пропусков в датасете нет\n",
    "* Нужно изменить тип данных столбца `date` с object на datetime\n",
    "* Следует проверить датасет на дубликаты"
   ]
  },
  {
   "cell_type": "markdown",
   "metadata": {},
   "source": [
    "### Промежуточный вывод\n",
    "\n",
    "Мы изучили полученные для исследования данных и выяснили необходимые шаги для предобработки.\\\n",
    "Далее подготовим файлы для работы:\n",
    "\n",
    "**`hypothesis`**\n",
    "\n",
    "* приведем названия столбцов к змеиному регистру\n",
    "\n",
    "**`orders`**\n",
    "\n",
    "* приведем названия столбцов к змеиному регистру\n",
    "* изменим тип данных столбца `date` с object на datetime\n",
    "* проверим датасет на дубликаты\n",
    "* проверим нет ли пользователей, попавших в обе группы\n",
    "\n",
    "**`visitors`**\n",
    "\n",
    "* изменим тип данных столбца `date` с object на datetime\n",
    "* проверим датасет на дубликаты"
   ]
  },
  {
   "cell_type": "markdown",
   "metadata": {},
   "source": [
    "## Предобработка данных"
   ]
  },
  {
   "cell_type": "markdown",
   "metadata": {},
   "source": [
    "### Переименование столбцов"
   ]
  },
  {
   "cell_type": "code",
   "execution_count": 10,
   "metadata": {},
   "outputs": [
    {
     "data": {
      "text/plain": [
       "Index(['transaction_id', 'visitor_id', 'date', 'revenue', 'group'], dtype='object')"
      ]
     },
     "metadata": {},
     "output_type": "display_data"
    },
    {
     "data": {
      "text/plain": [
       "Index(['hypothesis', 'reach', 'impact', 'confidence', 'efforts'], dtype='object')"
      ]
     },
     "execution_count": 10,
     "metadata": {},
     "output_type": "execute_result"
    }
   ],
   "source": [
    "#переводим названия столбцов в змеиный регистр\n",
    "hypothesis.columns = hypothesis.columns.str.lower()\n",
    "orders.columns = orders.columns.str.lower()\n",
    "orders = orders.rename(columns={'transactionid': 'transaction_id','visitorid':'visitor_id'})\n",
    "\n",
    "#проверка\n",
    "display(orders.columns)\n",
    "hypothesis.columns"
   ]
  },
  {
   "cell_type": "markdown",
   "metadata": {},
   "source": [
    "### Изменение типов данных"
   ]
  },
  {
   "cell_type": "code",
   "execution_count": 11,
   "metadata": {},
   "outputs": [
    {
     "name": "stdout",
     "output_type": "stream",
     "text": [
      "<class 'pandas.core.frame.DataFrame'>\n",
      "RangeIndex: 1197 entries, 0 to 1196\n",
      "Data columns (total 5 columns):\n",
      " #   Column          Non-Null Count  Dtype         \n",
      "---  ------          --------------  -----         \n",
      " 0   transaction_id  1197 non-null   int64         \n",
      " 1   visitor_id      1197 non-null   int64         \n",
      " 2   date            1197 non-null   datetime64[ns]\n",
      " 3   revenue         1197 non-null   int64         \n",
      " 4   group           1197 non-null   object        \n",
      "dtypes: datetime64[ns](1), int64(3), object(1)\n",
      "memory usage: 46.9+ KB\n"
     ]
    },
    {
     "data": {
      "text/plain": [
       "None"
      ]
     },
     "metadata": {},
     "output_type": "display_data"
    },
    {
     "name": "stdout",
     "output_type": "stream",
     "text": [
      "<class 'pandas.core.frame.DataFrame'>\n",
      "RangeIndex: 62 entries, 0 to 61\n",
      "Data columns (total 3 columns):\n",
      " #   Column    Non-Null Count  Dtype         \n",
      "---  ------    --------------  -----         \n",
      " 0   date      62 non-null     datetime64[ns]\n",
      " 1   group     62 non-null     object        \n",
      " 2   visitors  62 non-null     int64         \n",
      "dtypes: datetime64[ns](1), int64(1), object(1)\n",
      "memory usage: 1.6+ KB\n"
     ]
    }
   ],
   "source": [
    "#переводим столбцы `date` в датасетах orders и visitors в тип datetime\n",
    "orders['date'] = pd.to_datetime(orders['date'])\n",
    "visitors['date'] = pd.to_datetime(visitors['date'])\n",
    "\n",
    "#проверка\n",
    "display(orders.info())\n",
    "visitors.info()"
   ]
  },
  {
   "cell_type": "markdown",
   "metadata": {},
   "source": [
    "### Поиск дубликатов"
   ]
  },
  {
   "cell_type": "markdown",
   "metadata": {},
   "source": [
    "#### Поиск явных дубликатов"
   ]
  },
  {
   "cell_type": "code",
   "execution_count": 12,
   "metadata": {},
   "outputs": [
    {
     "data": {
      "text/plain": [
       "0"
      ]
     },
     "execution_count": 12,
     "metadata": {},
     "output_type": "execute_result"
    }
   ],
   "source": [
    "orders.duplicated().sum()"
   ]
  },
  {
   "cell_type": "code",
   "execution_count": 13,
   "metadata": {},
   "outputs": [
    {
     "data": {
      "text/plain": [
       "0"
      ]
     },
     "execution_count": 13,
     "metadata": {},
     "output_type": "execute_result"
    }
   ],
   "source": [
    "visitors.duplicated().sum()"
   ]
  },
  {
   "cell_type": "markdown",
   "metadata": {},
   "source": [
    "Полностью повторяющихся строк нет. \n",
    "\n",
    "---\n",
    "#### Поиск неявных дубликатов:\n",
    "\n",
    "В датасете `orders`:\n",
    "\n",
    "* В столбце `transaction_id` должны быть только уникальные значения\n",
    "* В столбце `group` должны быть только значения `A и B`\n",
    "\n",
    "\n",
    "В датасете `visitors`:\n",
    "\n",
    "* В столбце `group` должны быть только значения `A и B`\n",
    "* В столбце `date` каждая дата должна появляться 2 раза\n",
    "\n",
    "Проверим вышеуказанные столбцы."
   ]
  },
  {
   "cell_type": "code",
   "execution_count": 14,
   "metadata": {},
   "outputs": [
    {
     "data": {
      "text/plain": [
       "1"
      ]
     },
     "execution_count": 14,
     "metadata": {},
     "output_type": "execute_result"
    }
   ],
   "source": [
    "# столбце transaction_id датасета orders считаем сколько максимально выстречаются уникальные значения\n",
    "orders['transaction_id'].value_counts().max()"
   ]
  },
  {
   "cell_type": "code",
   "execution_count": 15,
   "metadata": {},
   "outputs": [
    {
     "data": {
      "text/plain": [
       "array(['B', 'A'], dtype=object)"
      ]
     },
     "metadata": {},
     "output_type": "display_data"
    },
    {
     "data": {
      "text/plain": [
       "array(['A', 'B'], dtype=object)"
      ]
     },
     "execution_count": 15,
     "metadata": {},
     "output_type": "execute_result"
    }
   ],
   "source": [
    "# столбце group датасета orders и visitors проверяем уникальные значения\n",
    "display(orders['group'].unique())\n",
    "visitors['group'].unique()"
   ]
  },
  {
   "cell_type": "code",
   "execution_count": 16,
   "metadata": {},
   "outputs": [
    {
     "data": {
      "text/plain": [
       "2"
      ]
     },
     "metadata": {},
     "output_type": "display_data"
    },
    {
     "data": {
      "text/plain": [
       "2"
      ]
     },
     "execution_count": 16,
     "metadata": {},
     "output_type": "execute_result"
    }
   ],
   "source": [
    "# столбце date датасета visitors считаем сколько максимально и минимально выстречаются уникальные даты\n",
    "display(visitors['date'].value_counts().max())\n",
    "visitors['date'].value_counts().min()"
   ]
  },
  {
   "cell_type": "markdown",
   "metadata": {},
   "source": [
    "### Проверка распределения пользователей по группам\n",
    "\n",
    "Проверим нет ли пользователей, который попали сразу в обе группы. Для этого создадим срезы по группам и найдем строки, в которых id посетителя совпадает для обеих групп."
   ]
  },
  {
   "cell_type": "code",
   "execution_count": 17,
   "metadata": {},
   "outputs": [
    {
     "data": {
      "text/html": [
       "<div>\n",
       "<style scoped>\n",
       "    .dataframe tbody tr th:only-of-type {\n",
       "        vertical-align: middle;\n",
       "    }\n",
       "\n",
       "    .dataframe tbody tr th {\n",
       "        vertical-align: top;\n",
       "    }\n",
       "\n",
       "    .dataframe thead th {\n",
       "        text-align: right;\n",
       "    }\n",
       "</style>\n",
       "<table border=\"1\" class=\"dataframe\">\n",
       "  <thead>\n",
       "    <tr style=\"text-align: right;\">\n",
       "      <th></th>\n",
       "      <th>transaction_id_x</th>\n",
       "      <th>visitor_id</th>\n",
       "      <th>date_x</th>\n",
       "      <th>revenue_x</th>\n",
       "      <th>group_x</th>\n",
       "      <th>transaction_id_y</th>\n",
       "      <th>date_y</th>\n",
       "      <th>revenue_y</th>\n",
       "      <th>group_y</th>\n",
       "    </tr>\n",
       "  </thead>\n",
       "  <tbody>\n",
       "    <tr>\n",
       "      <th>0</th>\n",
       "      <td>2904772834</td>\n",
       "      <td>963407295</td>\n",
       "      <td>2019-08-15</td>\n",
       "      <td>300</td>\n",
       "      <td>B</td>\n",
       "      <td>1458356232</td>\n",
       "      <td>2019-08-14</td>\n",
       "      <td>4940</td>\n",
       "      <td>A</td>\n",
       "    </tr>\n",
       "    <tr>\n",
       "      <th>1</th>\n",
       "      <td>4252514150</td>\n",
       "      <td>351125977</td>\n",
       "      <td>2019-08-15</td>\n",
       "      <td>15185</td>\n",
       "      <td>B</td>\n",
       "      <td>3075639014</td>\n",
       "      <td>2019-08-06</td>\n",
       "      <td>4485</td>\n",
       "      <td>A</td>\n",
       "    </tr>\n",
       "    <tr>\n",
       "      <th>2</th>\n",
       "      <td>1162046357</td>\n",
       "      <td>3234906277</td>\n",
       "      <td>2019-08-15</td>\n",
       "      <td>7555</td>\n",
       "      <td>B</td>\n",
       "      <td>1360774578</td>\n",
       "      <td>2019-08-18</td>\n",
       "      <td>7555</td>\n",
       "      <td>A</td>\n",
       "    </tr>\n",
       "    <tr>\n",
       "      <th>3</th>\n",
       "      <td>1630050528</td>\n",
       "      <td>237748145</td>\n",
       "      <td>2019-08-15</td>\n",
       "      <td>7620</td>\n",
       "      <td>B</td>\n",
       "      <td>2594268419</td>\n",
       "      <td>2019-08-15</td>\n",
       "      <td>1090</td>\n",
       "      <td>A</td>\n",
       "    </tr>\n",
       "    <tr>\n",
       "      <th>4</th>\n",
       "      <td>1630050528</td>\n",
       "      <td>237748145</td>\n",
       "      <td>2019-08-15</td>\n",
       "      <td>7620</td>\n",
       "      <td>B</td>\n",
       "      <td>3702128013</td>\n",
       "      <td>2019-08-20</td>\n",
       "      <td>1290</td>\n",
       "      <td>A</td>\n",
       "    </tr>\n",
       "  </tbody>\n",
       "</table>\n",
       "</div>"
      ],
      "text/plain": [
       "   transaction_id_x  visitor_id     date_x  revenue_x group_x  \\\n",
       "0  2904772834        963407295  2019-08-15  300        B        \n",
       "1  4252514150        351125977  2019-08-15  15185      B        \n",
       "2  1162046357        3234906277 2019-08-15  7555       B        \n",
       "3  1630050528        237748145  2019-08-15  7620       B        \n",
       "4  1630050528        237748145  2019-08-15  7620       B        \n",
       "\n",
       "   transaction_id_y     date_y  revenue_y group_y  \n",
       "0  1458356232       2019-08-14  4940       A       \n",
       "1  3075639014       2019-08-06  4485       A       \n",
       "2  1360774578       2019-08-18  7555       A       \n",
       "3  2594268419       2019-08-15  1090       A       \n",
       "4  3702128013       2019-08-20  1290       A       "
      ]
     },
     "execution_count": 17,
     "metadata": {},
     "output_type": "execute_result"
    }
   ],
   "source": [
    "wrong_orders = orders.query('group == \"B\"').merge(orders.query('group == \"A\"'),on='visitor_id')\n",
    "\n",
    "wrong_orders.head()"
   ]
  },
  {
   "cell_type": "markdown",
   "metadata": {},
   "source": [
    "Теперь создадим список пользователей, которые появляются в обеих группах"
   ]
  },
  {
   "cell_type": "code",
   "execution_count": 18,
   "metadata": {},
   "outputs": [
    {
     "data": {
      "text/plain": [
       "58"
      ]
     },
     "execution_count": 18,
     "metadata": {},
     "output_type": "execute_result"
    }
   ],
   "source": [
    "delete_users = wrong_orders['visitor_id'].unique().tolist()\n",
    "len(delete_users)"
   ]
  },
  {
   "cell_type": "markdown",
   "metadata": {},
   "source": [
    "Таких пользователей — 58, теперь отфильтруем заказы, сделанные этими пользователями из исходного датафрейма."
   ]
  },
  {
   "cell_type": "code",
   "execution_count": 19,
   "metadata": {},
   "outputs": [
    {
     "name": "stdout",
     "output_type": "stream",
     "text": [
      "Количество строк в таблице orders до фильтрации — 1197\n",
      "Количество строк в таблице orders после фильтрации — 1016\n"
     ]
    },
    {
     "data": {
      "text/html": [
       "<div>\n",
       "<style scoped>\n",
       "    .dataframe tbody tr th:only-of-type {\n",
       "        vertical-align: middle;\n",
       "    }\n",
       "\n",
       "    .dataframe tbody tr th {\n",
       "        vertical-align: top;\n",
       "    }\n",
       "\n",
       "    .dataframe thead th {\n",
       "        text-align: right;\n",
       "    }\n",
       "</style>\n",
       "<table border=\"1\" class=\"dataframe\">\n",
       "  <thead>\n",
       "    <tr style=\"text-align: right;\">\n",
       "      <th></th>\n",
       "      <th>transaction_id_x</th>\n",
       "      <th>visitor_id</th>\n",
       "      <th>date_x</th>\n",
       "      <th>revenue_x</th>\n",
       "      <th>group_x</th>\n",
       "      <th>transaction_id_y</th>\n",
       "      <th>date_y</th>\n",
       "      <th>revenue_y</th>\n",
       "      <th>group_y</th>\n",
       "    </tr>\n",
       "  </thead>\n",
       "  <tbody>\n",
       "  </tbody>\n",
       "</table>\n",
       "</div>"
      ],
      "text/plain": [
       "Empty DataFrame\n",
       "Columns: [transaction_id_x, visitor_id, date_x, revenue_x, group_x, transaction_id_y, date_y, revenue_y, group_y]\n",
       "Index: []"
      ]
     },
     "execution_count": 19,
     "metadata": {},
     "output_type": "execute_result"
    }
   ],
   "source": [
    "print('Количество строк в таблице orders до фильтрации —', orders.shape[0])\n",
    "\n",
    "#фильтруем таблицу\n",
    "orders = orders.query('visitor_id not in @delete_users')\n",
    "\n",
    "print('Количество строк в таблице orders после фильтрации —', orders.shape[0])\n",
    "\n",
    "#Проверим, остались ли в таблице пользователи, которые попадают в обе группы\n",
    "orders.query('group == \"B\"').merge(orders.query('group == \"A\"'),on='visitor_id')"
   ]
  },
  {
   "cell_type": "markdown",
   "metadata": {},
   "source": [
    "Теперь в каждой группе остались только уникальные для группы пользователи."
   ]
  },
  {
   "cell_type": "markdown",
   "metadata": {},
   "source": [
    "#### Промежуточный вывод\n",
    "\n",
    "Мы подготовили датасеты к работе:\n",
    "\n",
    "Переименовали столбцы, проверили на наличие явных и неявных дубликатов, исправили, где это необходимо тип данных.Также проверили датасет orders на наличие пользователей, попавших в обе группы и удалили заказы таких пользователей из таблицы\\\n",
    "Можно приступать к заданиям."
   ]
  },
  {
   "cell_type": "markdown",
   "metadata": {},
   "source": [
    "###  Приоритизация гипотез."
   ]
  },
  {
   "cell_type": "markdown",
   "metadata": {},
   "source": [
    "#### Фреймворк ICE\n",
    "\n",
    "Для начала снова выведем датасет `hypothesis`, содержащего информацию о гипотезах на экран:"
   ]
  },
  {
   "cell_type": "code",
   "execution_count": 20,
   "metadata": {},
   "outputs": [
    {
     "data": {
      "text/html": [
       "<div>\n",
       "<style scoped>\n",
       "    .dataframe tbody tr th:only-of-type {\n",
       "        vertical-align: middle;\n",
       "    }\n",
       "\n",
       "    .dataframe tbody tr th {\n",
       "        vertical-align: top;\n",
       "    }\n",
       "\n",
       "    .dataframe thead th {\n",
       "        text-align: right;\n",
       "    }\n",
       "</style>\n",
       "<table border=\"1\" class=\"dataframe\">\n",
       "  <thead>\n",
       "    <tr style=\"text-align: right;\">\n",
       "      <th></th>\n",
       "      <th>hypothesis</th>\n",
       "      <th>reach</th>\n",
       "      <th>impact</th>\n",
       "      <th>confidence</th>\n",
       "      <th>efforts</th>\n",
       "    </tr>\n",
       "  </thead>\n",
       "  <tbody>\n",
       "    <tr>\n",
       "      <th>0</th>\n",
       "      <td>Добавить два новых канала привлечения трафика, что позволит привлекать на 30% больше пользователей</td>\n",
       "      <td>3</td>\n",
       "      <td>10</td>\n",
       "      <td>8</td>\n",
       "      <td>6</td>\n",
       "    </tr>\n",
       "    <tr>\n",
       "      <th>1</th>\n",
       "      <td>Запустить собственную службу доставки, что сократит срок доставки заказов</td>\n",
       "      <td>2</td>\n",
       "      <td>5</td>\n",
       "      <td>4</td>\n",
       "      <td>10</td>\n",
       "    </tr>\n",
       "    <tr>\n",
       "      <th>2</th>\n",
       "      <td>Добавить блоки рекомендаций товаров на сайт интернет магазина, чтобы повысить конверсию и средний чек заказа</td>\n",
       "      <td>8</td>\n",
       "      <td>3</td>\n",
       "      <td>7</td>\n",
       "      <td>3</td>\n",
       "    </tr>\n",
       "    <tr>\n",
       "      <th>3</th>\n",
       "      <td>Изменить структура категорий, что увеличит конверсию, т.к. пользователи быстрее найдут нужный товар</td>\n",
       "      <td>8</td>\n",
       "      <td>3</td>\n",
       "      <td>3</td>\n",
       "      <td>8</td>\n",
       "    </tr>\n",
       "    <tr>\n",
       "      <th>4</th>\n",
       "      <td>Изменить цвет фона главной страницы, чтобы увеличить вовлеченность пользователей</td>\n",
       "      <td>3</td>\n",
       "      <td>1</td>\n",
       "      <td>1</td>\n",
       "      <td>1</td>\n",
       "    </tr>\n",
       "    <tr>\n",
       "      <th>5</th>\n",
       "      <td>Добавить страницу отзывов клиентов о магазине, что позволит увеличить количество заказов</td>\n",
       "      <td>3</td>\n",
       "      <td>2</td>\n",
       "      <td>2</td>\n",
       "      <td>3</td>\n",
       "    </tr>\n",
       "    <tr>\n",
       "      <th>6</th>\n",
       "      <td>Показать на главной странице баннеры с актуальными акциями и распродажами, чтобы увеличить конверсию</td>\n",
       "      <td>5</td>\n",
       "      <td>3</td>\n",
       "      <td>8</td>\n",
       "      <td>3</td>\n",
       "    </tr>\n",
       "    <tr>\n",
       "      <th>7</th>\n",
       "      <td>Добавить форму подписки на все основные страницы, чтобы собрать базу клиентов для email-рассылок</td>\n",
       "      <td>10</td>\n",
       "      <td>7</td>\n",
       "      <td>8</td>\n",
       "      <td>5</td>\n",
       "    </tr>\n",
       "    <tr>\n",
       "      <th>8</th>\n",
       "      <td>Запустить акцию, дающую скидку на товар в день рождения</td>\n",
       "      <td>1</td>\n",
       "      <td>9</td>\n",
       "      <td>9</td>\n",
       "      <td>5</td>\n",
       "    </tr>\n",
       "  </tbody>\n",
       "</table>\n",
       "</div>"
      ],
      "text/plain": [
       "                                                                                                     hypothesis  \\\n",
       "0  Добавить два новых канала привлечения трафика, что позволит привлекать на 30% больше пользователей             \n",
       "1  Запустить собственную службу доставки, что сократит срок доставки заказов                                      \n",
       "2  Добавить блоки рекомендаций товаров на сайт интернет магазина, чтобы повысить конверсию и средний чек заказа   \n",
       "3  Изменить структура категорий, что увеличит конверсию, т.к. пользователи быстрее найдут нужный товар            \n",
       "4  Изменить цвет фона главной страницы, чтобы увеличить вовлеченность пользователей                               \n",
       "5  Добавить страницу отзывов клиентов о магазине, что позволит увеличить количество заказов                       \n",
       "6  Показать на главной странице баннеры с актуальными акциями и распродажами, чтобы увеличить конверсию           \n",
       "7  Добавить форму подписки на все основные страницы, чтобы собрать базу клиентов для email-рассылок               \n",
       "8  Запустить акцию, дающую скидку на товар в день рождения                                                        \n",
       "\n",
       "   reach  impact  confidence  efforts  \n",
       "0  3      10      8           6        \n",
       "1  2      5       4           10       \n",
       "2  8      3       7           3        \n",
       "3  8      3       3           8        \n",
       "4  3      1       1           1        \n",
       "5  3      2       2           3        \n",
       "6  5      3       8           3        \n",
       "7  10     7       8           5        \n",
       "8  1      9       9           5        "
      ]
     },
     "execution_count": 20,
     "metadata": {},
     "output_type": "execute_result"
    }
   ],
   "source": [
    "hypothesis"
   ]
  },
  {
   "cell_type": "markdown",
   "metadata": {},
   "source": [
    "Для вычисления ICE мы будем использовать формулу **ICE Score = (Impact * Confidence / Efforts)**\n",
    "\n",
    "Добавим в существующую таблицу новый столбец `ice` и выведем полученные данные с сортировкой по убыванию приоритета."
   ]
  },
  {
   "cell_type": "code",
   "execution_count": 21,
   "metadata": {},
   "outputs": [
    {
     "data": {
      "text/html": [
       "<div>\n",
       "<style scoped>\n",
       "    .dataframe tbody tr th:only-of-type {\n",
       "        vertical-align: middle;\n",
       "    }\n",
       "\n",
       "    .dataframe tbody tr th {\n",
       "        vertical-align: top;\n",
       "    }\n",
       "\n",
       "    .dataframe thead th {\n",
       "        text-align: right;\n",
       "    }\n",
       "</style>\n",
       "<table border=\"1\" class=\"dataframe\">\n",
       "  <thead>\n",
       "    <tr style=\"text-align: right;\">\n",
       "      <th></th>\n",
       "      <th>hypothesis</th>\n",
       "      <th>ice</th>\n",
       "    </tr>\n",
       "  </thead>\n",
       "  <tbody>\n",
       "    <tr>\n",
       "      <th>8</th>\n",
       "      <td>Запустить акцию, дающую скидку на товар в день рождения</td>\n",
       "      <td>16.20</td>\n",
       "    </tr>\n",
       "    <tr>\n",
       "      <th>0</th>\n",
       "      <td>Добавить два новых канала привлечения трафика, что позволит привлекать на 30% больше пользователей</td>\n",
       "      <td>13.33</td>\n",
       "    </tr>\n",
       "    <tr>\n",
       "      <th>7</th>\n",
       "      <td>Добавить форму подписки на все основные страницы, чтобы собрать базу клиентов для email-рассылок</td>\n",
       "      <td>11.20</td>\n",
       "    </tr>\n",
       "    <tr>\n",
       "      <th>6</th>\n",
       "      <td>Показать на главной странице баннеры с актуальными акциями и распродажами, чтобы увеличить конверсию</td>\n",
       "      <td>8.00</td>\n",
       "    </tr>\n",
       "    <tr>\n",
       "      <th>2</th>\n",
       "      <td>Добавить блоки рекомендаций товаров на сайт интернет магазина, чтобы повысить конверсию и средний чек заказа</td>\n",
       "      <td>7.00</td>\n",
       "    </tr>\n",
       "    <tr>\n",
       "      <th>1</th>\n",
       "      <td>Запустить собственную службу доставки, что сократит срок доставки заказов</td>\n",
       "      <td>2.00</td>\n",
       "    </tr>\n",
       "    <tr>\n",
       "      <th>5</th>\n",
       "      <td>Добавить страницу отзывов клиентов о магазине, что позволит увеличить количество заказов</td>\n",
       "      <td>1.33</td>\n",
       "    </tr>\n",
       "    <tr>\n",
       "      <th>3</th>\n",
       "      <td>Изменить структура категорий, что увеличит конверсию, т.к. пользователи быстрее найдут нужный товар</td>\n",
       "      <td>1.12</td>\n",
       "    </tr>\n",
       "    <tr>\n",
       "      <th>4</th>\n",
       "      <td>Изменить цвет фона главной страницы, чтобы увеличить вовлеченность пользователей</td>\n",
       "      <td>1.00</td>\n",
       "    </tr>\n",
       "  </tbody>\n",
       "</table>\n",
       "</div>"
      ],
      "text/plain": [
       "                                                                                                     hypothesis  \\\n",
       "8  Запустить акцию, дающую скидку на товар в день рождения                                                        \n",
       "0  Добавить два новых канала привлечения трафика, что позволит привлекать на 30% больше пользователей             \n",
       "7  Добавить форму подписки на все основные страницы, чтобы собрать базу клиентов для email-рассылок               \n",
       "6  Показать на главной странице баннеры с актуальными акциями и распродажами, чтобы увеличить конверсию           \n",
       "2  Добавить блоки рекомендаций товаров на сайт интернет магазина, чтобы повысить конверсию и средний чек заказа   \n",
       "1  Запустить собственную службу доставки, что сократит срок доставки заказов                                      \n",
       "5  Добавить страницу отзывов клиентов о магазине, что позволит увеличить количество заказов                       \n",
       "3  Изменить структура категорий, что увеличит конверсию, т.к. пользователи быстрее найдут нужный товар            \n",
       "4  Изменить цвет фона главной страницы, чтобы увеличить вовлеченность пользователей                               \n",
       "\n",
       "     ice  \n",
       "8  16.20  \n",
       "0  13.33  \n",
       "7  11.20  \n",
       "6  8.00   \n",
       "2  7.00   \n",
       "1  2.00   \n",
       "5  1.33   \n",
       "3  1.12   \n",
       "4  1.00   "
      ]
     },
     "execution_count": 21,
     "metadata": {},
     "output_type": "execute_result"
    }
   ],
   "source": [
    "hypothesis['ice'] = round(hypothesis['impact'] * hypothesis['confidence'] / hypothesis['efforts'],2)\n",
    "hypothesis[['hypothesis','ice']].sort_values(by='ice', ascending=False)"
   ]
  },
  {
   "cell_type": "markdown",
   "metadata": {},
   "source": [
    "**Наблюдения**\n",
    "\n",
    "* Наиболее приоритетная гипотеза №8\n",
    "* В топ 3 попали гипотезы №№ 8,0,7\n",
    "* Наименее приоритетная гипотеза №4"
   ]
  },
  {
   "cell_type": "markdown",
   "metadata": {},
   "source": [
    "#### Фреймворк RICE\n",
    "\n",
    "Для вычисления RICE мы будем использовать формулу **RICE Score = (Reach * Impact * Confidence / Efforts)**\n",
    "\n",
    "Добавим в существующую таблицу новый столбец `rice` и выведем полученные данные с сортировкой по убыванию приоритета."
   ]
  },
  {
   "cell_type": "code",
   "execution_count": 22,
   "metadata": {},
   "outputs": [
    {
     "data": {
      "text/html": [
       "<div>\n",
       "<style scoped>\n",
       "    .dataframe tbody tr th:only-of-type {\n",
       "        vertical-align: middle;\n",
       "    }\n",
       "\n",
       "    .dataframe tbody tr th {\n",
       "        vertical-align: top;\n",
       "    }\n",
       "\n",
       "    .dataframe thead th {\n",
       "        text-align: right;\n",
       "    }\n",
       "</style>\n",
       "<table border=\"1\" class=\"dataframe\">\n",
       "  <thead>\n",
       "    <tr style=\"text-align: right;\">\n",
       "      <th></th>\n",
       "      <th>hypothesis</th>\n",
       "      <th>rice</th>\n",
       "    </tr>\n",
       "  </thead>\n",
       "  <tbody>\n",
       "    <tr>\n",
       "      <th>7</th>\n",
       "      <td>Добавить форму подписки на все основные страницы, чтобы собрать базу клиентов для email-рассылок</td>\n",
       "      <td>112.0</td>\n",
       "    </tr>\n",
       "    <tr>\n",
       "      <th>2</th>\n",
       "      <td>Добавить блоки рекомендаций товаров на сайт интернет магазина, чтобы повысить конверсию и средний чек заказа</td>\n",
       "      <td>56.0</td>\n",
       "    </tr>\n",
       "    <tr>\n",
       "      <th>0</th>\n",
       "      <td>Добавить два новых канала привлечения трафика, что позволит привлекать на 30% больше пользователей</td>\n",
       "      <td>40.0</td>\n",
       "    </tr>\n",
       "    <tr>\n",
       "      <th>6</th>\n",
       "      <td>Показать на главной странице баннеры с актуальными акциями и распродажами, чтобы увеличить конверсию</td>\n",
       "      <td>40.0</td>\n",
       "    </tr>\n",
       "    <tr>\n",
       "      <th>8</th>\n",
       "      <td>Запустить акцию, дающую скидку на товар в день рождения</td>\n",
       "      <td>16.2</td>\n",
       "    </tr>\n",
       "    <tr>\n",
       "      <th>3</th>\n",
       "      <td>Изменить структура категорий, что увеличит конверсию, т.к. пользователи быстрее найдут нужный товар</td>\n",
       "      <td>9.0</td>\n",
       "    </tr>\n",
       "    <tr>\n",
       "      <th>1</th>\n",
       "      <td>Запустить собственную службу доставки, что сократит срок доставки заказов</td>\n",
       "      <td>4.0</td>\n",
       "    </tr>\n",
       "    <tr>\n",
       "      <th>5</th>\n",
       "      <td>Добавить страницу отзывов клиентов о магазине, что позволит увеличить количество заказов</td>\n",
       "      <td>4.0</td>\n",
       "    </tr>\n",
       "    <tr>\n",
       "      <th>4</th>\n",
       "      <td>Изменить цвет фона главной страницы, чтобы увеличить вовлеченность пользователей</td>\n",
       "      <td>3.0</td>\n",
       "    </tr>\n",
       "  </tbody>\n",
       "</table>\n",
       "</div>"
      ],
      "text/plain": [
       "                                                                                                     hypothesis  \\\n",
       "7  Добавить форму подписки на все основные страницы, чтобы собрать базу клиентов для email-рассылок               \n",
       "2  Добавить блоки рекомендаций товаров на сайт интернет магазина, чтобы повысить конверсию и средний чек заказа   \n",
       "0  Добавить два новых канала привлечения трафика, что позволит привлекать на 30% больше пользователей             \n",
       "6  Показать на главной странице баннеры с актуальными акциями и распродажами, чтобы увеличить конверсию           \n",
       "8  Запустить акцию, дающую скидку на товар в день рождения                                                        \n",
       "3  Изменить структура категорий, что увеличит конверсию, т.к. пользователи быстрее найдут нужный товар            \n",
       "1  Запустить собственную службу доставки, что сократит срок доставки заказов                                      \n",
       "5  Добавить страницу отзывов клиентов о магазине, что позволит увеличить количество заказов                       \n",
       "4  Изменить цвет фона главной страницы, чтобы увеличить вовлеченность пользователей                               \n",
       "\n",
       "    rice  \n",
       "7  112.0  \n",
       "2  56.0   \n",
       "0  40.0   \n",
       "6  40.0   \n",
       "8  16.2   \n",
       "3  9.0    \n",
       "1  4.0    \n",
       "5  4.0    \n",
       "4  3.0    "
      ]
     },
     "execution_count": 22,
     "metadata": {},
     "output_type": "execute_result"
    }
   ],
   "source": [
    "hypothesis['rice'] = round(hypothesis['reach'] * hypothesis['impact'] * hypothesis['confidence'] / hypothesis['efforts'],2)\n",
    "hypothesis[['hypothesis','rice']].sort_values(by='rice', ascending=False)"
   ]
  },
  {
   "cell_type": "markdown",
   "metadata": {},
   "source": [
    "**Наблюдения**\n",
    "\n",
    "* Наиболее приоритетной стала гипотеза №7\n",
    "* В топ 3 попали гипотезы №№ 7,2,0\n",
    "* Наименее приоритетна опять гипотеза №4"
   ]
  },
  {
   "cell_type": "markdown",
   "metadata": {},
   "source": [
    "####  Промежуточный вывод\n",
    "\n",
    "Мы применили два способа приоритизации гипотез RICE и ICE. \n",
    "\n",
    "* При применении способа ICE в топ 3 попали гипотезы №№ 8,0,7, с №8 на первом месте.\n",
    "* После применения способа RICE на первое место по приоритетности вышла гипотеза №7\n",
    "№8 ушла в середину списка, 0 остался в топ 3, также в топ 3 поднялась гипотеза под номером №2\n",
    "* на последнем месте в обоих случая гипотеза №4\n",
    "\n",
    "На изменение положения гипотез в шкале приоритетности повлиял параметр `reach` (англ. «охват»).\\\n",
    "У гипотезы **№8** (\"Запустить акцию, дающую скидку на товар в день рождения\") этот параметр всего 1 из 10, поэтому она опустилась в середину списка.\\\n",
    "У гипотезы **№7** (\"Добавить форму подписки на все основные страницы, чтобы собрать базу клиентов для email-рассылок\") параметр `reach`, напротив, 10 из 10, что стало причиной его попадания на 1-е место при оценке RICE."
   ]
  },
  {
   "cell_type": "markdown",
   "metadata": {},
   "source": [
    "### Анализ A/B-теста"
   ]
  },
  {
   "cell_type": "markdown",
   "metadata": {},
   "source": [
    "####  График кумулятивной выручки по группам\n",
    "\n",
    "Выведем на экран первые строки датасетов `orders` и `visitors`"
   ]
  },
  {
   "cell_type": "code",
   "execution_count": 23,
   "metadata": {},
   "outputs": [
    {
     "data": {
      "text/html": [
       "<div>\n",
       "<style scoped>\n",
       "    .dataframe tbody tr th:only-of-type {\n",
       "        vertical-align: middle;\n",
       "    }\n",
       "\n",
       "    .dataframe tbody tr th {\n",
       "        vertical-align: top;\n",
       "    }\n",
       "\n",
       "    .dataframe thead th {\n",
       "        text-align: right;\n",
       "    }\n",
       "</style>\n",
       "<table border=\"1\" class=\"dataframe\">\n",
       "  <thead>\n",
       "    <tr style=\"text-align: right;\">\n",
       "      <th></th>\n",
       "      <th>transaction_id</th>\n",
       "      <th>visitor_id</th>\n",
       "      <th>date</th>\n",
       "      <th>revenue</th>\n",
       "      <th>group</th>\n",
       "    </tr>\n",
       "  </thead>\n",
       "  <tbody>\n",
       "    <tr>\n",
       "      <th>0</th>\n",
       "      <td>3667963787</td>\n",
       "      <td>3312258926</td>\n",
       "      <td>2019-08-15</td>\n",
       "      <td>1650</td>\n",
       "      <td>B</td>\n",
       "    </tr>\n",
       "    <tr>\n",
       "      <th>1</th>\n",
       "      <td>2804400009</td>\n",
       "      <td>3642806036</td>\n",
       "      <td>2019-08-15</td>\n",
       "      <td>730</td>\n",
       "      <td>B</td>\n",
       "    </tr>\n",
       "    <tr>\n",
       "      <th>3</th>\n",
       "      <td>3797467345</td>\n",
       "      <td>1196621759</td>\n",
       "      <td>2019-08-15</td>\n",
       "      <td>9759</td>\n",
       "      <td>B</td>\n",
       "    </tr>\n",
       "    <tr>\n",
       "      <th>4</th>\n",
       "      <td>2282983706</td>\n",
       "      <td>2322279887</td>\n",
       "      <td>2019-08-15</td>\n",
       "      <td>2308</td>\n",
       "      <td>B</td>\n",
       "    </tr>\n",
       "    <tr>\n",
       "      <th>5</th>\n",
       "      <td>182168103</td>\n",
       "      <td>935554773</td>\n",
       "      <td>2019-08-15</td>\n",
       "      <td>2210</td>\n",
       "      <td>B</td>\n",
       "    </tr>\n",
       "  </tbody>\n",
       "</table>\n",
       "</div>"
      ],
      "text/plain": [
       "   transaction_id  visitor_id       date  revenue group\n",
       "0  3667963787      3312258926 2019-08-15  1650     B   \n",
       "1  2804400009      3642806036 2019-08-15  730      B   \n",
       "3  3797467345      1196621759 2019-08-15  9759     B   \n",
       "4  2282983706      2322279887 2019-08-15  2308     B   \n",
       "5  182168103       935554773  2019-08-15  2210     B   "
      ]
     },
     "metadata": {},
     "output_type": "display_data"
    },
    {
     "data": {
      "text/html": [
       "<div>\n",
       "<style scoped>\n",
       "    .dataframe tbody tr th:only-of-type {\n",
       "        vertical-align: middle;\n",
       "    }\n",
       "\n",
       "    .dataframe tbody tr th {\n",
       "        vertical-align: top;\n",
       "    }\n",
       "\n",
       "    .dataframe thead th {\n",
       "        text-align: right;\n",
       "    }\n",
       "</style>\n",
       "<table border=\"1\" class=\"dataframe\">\n",
       "  <thead>\n",
       "    <tr style=\"text-align: right;\">\n",
       "      <th></th>\n",
       "      <th>date</th>\n",
       "      <th>group</th>\n",
       "      <th>visitors</th>\n",
       "    </tr>\n",
       "  </thead>\n",
       "  <tbody>\n",
       "    <tr>\n",
       "      <th>0</th>\n",
       "      <td>2019-08-01</td>\n",
       "      <td>A</td>\n",
       "      <td>719</td>\n",
       "    </tr>\n",
       "    <tr>\n",
       "      <th>1</th>\n",
       "      <td>2019-08-02</td>\n",
       "      <td>A</td>\n",
       "      <td>619</td>\n",
       "    </tr>\n",
       "    <tr>\n",
       "      <th>2</th>\n",
       "      <td>2019-08-03</td>\n",
       "      <td>A</td>\n",
       "      <td>507</td>\n",
       "    </tr>\n",
       "    <tr>\n",
       "      <th>3</th>\n",
       "      <td>2019-08-04</td>\n",
       "      <td>A</td>\n",
       "      <td>717</td>\n",
       "    </tr>\n",
       "    <tr>\n",
       "      <th>4</th>\n",
       "      <td>2019-08-05</td>\n",
       "      <td>A</td>\n",
       "      <td>756</td>\n",
       "    </tr>\n",
       "  </tbody>\n",
       "</table>\n",
       "</div>"
      ],
      "text/plain": [
       "        date group  visitors\n",
       "0 2019-08-01  A     719     \n",
       "1 2019-08-02  A     619     \n",
       "2 2019-08-03  A     507     \n",
       "3 2019-08-04  A     717     \n",
       "4 2019-08-05  A     756     "
      ]
     },
     "execution_count": 23,
     "metadata": {},
     "output_type": "execute_result"
    }
   ],
   "source": [
    "display(orders.head())\n",
    "visitors.head()"
   ]
  },
  {
   "cell_type": "markdown",
   "metadata": {},
   "source": [
    "Для создания графиков создадим переменную `cumulativeData` со столбцами: \n",
    "* `date` — дата;\n",
    "* `group` — группа A/B-теста (A или B)\n",
    "* `order`s — кумулятивное количество заказов на указанную дату в указанной группе\n",
    "* `buyers` — кумулятивное количество пользователей, совершивших хотя бы один заказ, на указанную дату в указанной группе\n",
    "* `revenue` — кумулятивная выручка на указанную дату в указанной группе (средний чек)\n",
    "* `visitors` — кумулятивное количество посетителей интернет-магазина на указанную дату в определённой группе."
   ]
  },
  {
   "cell_type": "markdown",
   "metadata": {},
   "source": [
    "<div class=\"alert alert-info\">⚠️ В ячейке ниже частично используется код из главы теории Яндекс.Практикум</div>"
   ]
  },
  {
   "cell_type": "code",
   "execution_count": 24,
   "metadata": {},
   "outputs": [
    {
     "data": {
      "text/html": [
       "<div>\n",
       "<style scoped>\n",
       "    .dataframe tbody tr th:only-of-type {\n",
       "        vertical-align: middle;\n",
       "    }\n",
       "\n",
       "    .dataframe tbody tr th {\n",
       "        vertical-align: top;\n",
       "    }\n",
       "\n",
       "    .dataframe thead th {\n",
       "        text-align: right;\n",
       "    }\n",
       "</style>\n",
       "<table border=\"1\" class=\"dataframe\">\n",
       "  <thead>\n",
       "    <tr style=\"text-align: right;\">\n",
       "      <th></th>\n",
       "      <th>date</th>\n",
       "      <th>group</th>\n",
       "      <th>orders</th>\n",
       "      <th>buyers</th>\n",
       "      <th>revenue</th>\n",
       "      <th>visitors</th>\n",
       "    </tr>\n",
       "  </thead>\n",
       "  <tbody>\n",
       "    <tr>\n",
       "      <th>0</th>\n",
       "      <td>2019-08-01</td>\n",
       "      <td>A</td>\n",
       "      <td>23</td>\n",
       "      <td>19</td>\n",
       "      <td>142779</td>\n",
       "      <td>719</td>\n",
       "    </tr>\n",
       "    <tr>\n",
       "      <th>1</th>\n",
       "      <td>2019-08-01</td>\n",
       "      <td>B</td>\n",
       "      <td>17</td>\n",
       "      <td>17</td>\n",
       "      <td>59758</td>\n",
       "      <td>713</td>\n",
       "    </tr>\n",
       "    <tr>\n",
       "      <th>2</th>\n",
       "      <td>2019-08-02</td>\n",
       "      <td>A</td>\n",
       "      <td>42</td>\n",
       "      <td>36</td>\n",
       "      <td>234381</td>\n",
       "      <td>1338</td>\n",
       "    </tr>\n",
       "    <tr>\n",
       "      <th>3</th>\n",
       "      <td>2019-08-02</td>\n",
       "      <td>B</td>\n",
       "      <td>40</td>\n",
       "      <td>39</td>\n",
       "      <td>221801</td>\n",
       "      <td>1294</td>\n",
       "    </tr>\n",
       "    <tr>\n",
       "      <th>4</th>\n",
       "      <td>2019-08-03</td>\n",
       "      <td>A</td>\n",
       "      <td>66</td>\n",
       "      <td>60</td>\n",
       "      <td>346854</td>\n",
       "      <td>1845</td>\n",
       "    </tr>\n",
       "  </tbody>\n",
       "</table>\n",
       "</div>"
      ],
      "text/plain": [
       "        date group  orders  buyers  revenue  visitors\n",
       "0 2019-08-01  A     23      19      142779   719     \n",
       "1 2019-08-01  B     17      17      59758    713     \n",
       "2 2019-08-02  A     42      36      234381   1338    \n",
       "3 2019-08-02  B     40      39      221801   1294    \n",
       "4 2019-08-03  A     66      60      346854   1845    "
      ]
     },
     "execution_count": 24,
     "metadata": {},
     "output_type": "execute_result"
    }
   ],
   "source": [
    "# создаем массив уникальных пар значений дат и групп теста\n",
    "datesGroups = orders[['date','group']].drop_duplicates()\n",
    "\n",
    "# получаем агрегированные кумулятивные по дням данные о заказах \n",
    "ordersAggregated = datesGroups.apply(lambda x: orders[np.logical_and(orders['date'] <= x['date'], orders['group'] == x['group'])].agg({'date' : 'max', 'group' : 'max', 'transaction_id' : 'nunique', 'visitor_id' : 'nunique', 'revenue' : 'sum'}), axis=1).sort_values(by=['date','group'])\n",
    "\n",
    "# получаем агрегированные кумулятивные по дням данные о посетителях интернет-магазина \n",
    "visitorsAggregated = datesGroups.apply(lambda x: visitors[np.logical_and(visitors['date'] <= x['date'], visitors['group'] == x['group'])].agg({'date' : 'max', 'group' : 'max', 'visitors' : 'sum'}), axis=1).sort_values(by=['date','group'])\n",
    "\n",
    "# объединяем кумулятивные данные в одной таблице и присваиваем ее столбцам понятные названия\n",
    "cumulativeData = ordersAggregated.merge(visitorsAggregated, left_on=['date', 'group'], right_on=['date', 'group'])\n",
    "cumulativeData.columns = ['date', 'group', 'orders', 'buyers', 'revenue', 'visitors']\n",
    "\n",
    "#выведем 5 первый строк получившейся таблицы на экран\n",
    "cumulativeData.head(5)"
   ]
  },
  {
   "cell_type": "code",
   "execution_count": 25,
   "metadata": {},
   "outputs": [
    {
     "data": {
      "image/png": "[encoded data removed]",
      "text/plain": [
       "<Figure size 1300x500 with 1 Axes>"
      ]
     },
     "metadata": {},
     "output_type": "display_data"
    }
   ],
   "source": [
    "# датафрейм с кумулятивным количеством заказов и кумулятивной выручкой по дням в группе А\n",
    "cumulativeRevenueA = cumulativeData[cumulativeData['group']=='A'][['date','revenue', 'orders']]\n",
    "\n",
    "# датафрейм с кумулятивным количеством заказов и кумулятивной выручкой по дням в группе B\n",
    "cumulativeRevenueB = cumulativeData[cumulativeData['group']=='B'][['date','revenue', 'orders']]\n",
    "\n",
    "# Строим график выручки группы А\n",
    "plt.figure(figsize=(13, 5))\n",
    "plt.plot(cumulativeRevenueA['date'], cumulativeRevenueA['revenue'], label='A')\n",
    "\n",
    "# Строим график выручки группы B\n",
    "plt.plot(cumulativeRevenueB['date'], cumulativeRevenueB['revenue'], label='B')\n",
    "\n",
    "#прописываем оси и названия\n",
    "plt.title('Кумулятивная выручка по группам')\n",
    "plt.xlabel('Дата проведения теста') \n",
    "plt.ylabel('Кумулятивная выручка');\n",
    "\n",
    "plt.legend();"
   ]
  },
  {
   "cell_type": "markdown",
   "metadata": {},
   "source": [
    "**Промежуточный вывод**\n",
    "\n",
    "* У группы `A` выручка растет равномерно в течении всего времени\n",
    "* У группы `B` наблюдается резкий всплеск 19-го августа это может свидетельствовать об аномально дорогих заказах. Выясним аномально дорогие заказы, а также пользователей, которые совершили аномально много покупок позже. Группа `B` опережает группу `A` после 13 августа."
   ]
  },
  {
   "cell_type": "markdown",
   "metadata": {},
   "source": [
    "####  График кумулятивного среднего чека по группам\n",
    "\n",
    "<div class=\"alert alert-info\">⚠️ В ячейке ниже частично используется код из главы теории Яндекс.Практикум</div>"
   ]
  },
  {
   "cell_type": "code",
   "execution_count": 26,
   "metadata": {},
   "outputs": [
    {
     "data": {
      "image/png": "[encoded data removed]",
      "text/plain": [
       "<Figure size 1300x500 with 1 Axes>"
      ]
     },
     "metadata": {},
     "output_type": "display_data"
    }
   ],
   "source": [
    "plt.figure(figsize=(13, 5))\n",
    "\n",
    "# Строим график среднего чека группы А\n",
    "plt.plot(cumulativeRevenueA['date'], cumulativeRevenueA['revenue']/cumulativeRevenueA['orders'], label='A')\n",
    "\n",
    "# Строим график среднего чека группы B\n",
    "plt.plot(cumulativeRevenueB['date'], cumulativeRevenueB['revenue']/cumulativeRevenueB['orders'], label='B')\n",
    "\n",
    "#прописываем оси и названия\n",
    "plt.title('Кумулятивноый средний чек по группам')\n",
    "plt.xlabel('Дата проведения теста') \n",
    "plt.ylabel('Кумулятивный средний чек')\n",
    "\n",
    "plt.legend();"
   ]
  },
  {
   "cell_type": "markdown",
   "metadata": {},
   "source": [
    "**Промежуточный вывод**\n",
    "\n",
    "* у группы `A` средний становится равномерным ближе к концу теста\n",
    "* У группы `B` опять наблюдается резкий скачок 19 августа, и потом понемногу начинает падать, при этом группа `B` после 15 числа стабильно опережает группу `A`"
   ]
  },
  {
   "cell_type": "markdown",
   "metadata": {},
   "source": [
    "#### График относительного изменения кумулятивного среднего чека группы B к группе A\n",
    "\n",
    "<div class=\"alert alert-info\">⚠️ В ячейке ниже частично используется код из главы теории Яндекс.Практикум</div>"
   ]
  },
  {
   "cell_type": "code",
   "execution_count": 27,
   "metadata": {},
   "outputs": [
    {
     "data": {
      "image/png": "[encoded data removed]",
      "text/plain": [
       "<Figure size 1300x500 with 1 Axes>"
      ]
     },
     "metadata": {},
     "output_type": "display_data"
    }
   ],
   "source": [
    "# собираем данные в одном датафрейме\n",
    "mergedCumulativeRevenue = cumulativeRevenueA.merge(cumulativeRevenueB,\n",
    "                                                   left_on='date',\n",
    "                                                   right_on='date',\n",
    "                                                   how='left',\n",
    "                                                   suffixes=['A', 'B'])\n",
    "\n",
    "# cтроим отношение средних чеков\n",
    "plt.figure(figsize=(13, 5))\n",
    "\n",
    "\n",
    "plt.plot(mergedCumulativeRevenue['date'],\n",
    "         (mergedCumulativeRevenue['revenueB']\n",
    "          /mergedCumulativeRevenue['ordersB'])\n",
    "         /(mergedCumulativeRevenue['revenueA']\n",
    "           /mergedCumulativeRevenue['ordersA'])-1)\n",
    "\n",
    "#прописываем оси и названия\n",
    "plt.title('Относительное изменение кумулятивного среднего чека группы B к группе A')\n",
    "plt.xlabel('Дата проведения теста') \n",
    "plt.ylabel('(Кумулятивный средний чек гр. B \\n / Кумулятивный средний чек гр. А) - 1')\n",
    "\n",
    "\n",
    "# добавляем ось X\n",
    "plt.axhline(y=0, color='black', linestyle='--');"
   ]
  },
  {
   "cell_type": "markdown",
   "metadata": {},
   "source": [
    "**Промежуточный вывод**\n",
    "\n",
    "* График резко проседает после 7 августа и резко растет 19-го. Причиной первого пика стало то, что 6-7 августа средний чек группы B стал расти, а средний чек группы A — падать, соответственно их отношение резко начало расти, что и вызвало пик на графике.\n",
    "* После 19-го и до конца периода наблюдений отношение понемногу падает.\n",
    "* Отношение (B/A-1) почти все время больше ноля (30% к концу наблюдений)."
   ]
  },
  {
   "cell_type": "markdown",
   "metadata": {},
   "source": [
    "#### График кумулятивного среднего количества заказов на посетителя по группам"
   ]
  },
  {
   "cell_type": "markdown",
   "metadata": {},
   "source": [
    "Думаю, тут дело в том, что именно в даты первого пика (6-7 августа)\n",
    "средний чек группы B стал расти, а средний чек группы A — падать, соответственно их отношение резко начало расти, что и вызвало пик на графике.\n",
    "\n",
    "<div class=\"alert alert-info\">⚠️ В ячейке ниже частично используется код из главы теории Яндекс.Практикум</div>"
   ]
  },
  {
   "cell_type": "code",
   "execution_count": 28,
   "metadata": {},
   "outputs": [
    {
     "data": {
      "image/png": "[encoded data removed]",
      "text/plain": [
       "<Figure size 1300x500 with 1 Axes>"
      ]
     },
     "metadata": {},
     "output_type": "display_data"
    }
   ],
   "source": [
    "# считаем среднее количество заказов на посетителя\n",
    "cumulativeData['conversion'] = cumulativeData['orders']/cumulativeData['visitors']\n",
    "\n",
    "# отделяем данные по группе A\n",
    "cumulativeDataA = cumulativeData[cumulativeData['group']=='A']\n",
    "\n",
    "# отделяем данные по группе B\n",
    "cumulativeDataB = cumulativeData[cumulativeData['group']=='B']\n",
    "\n",
    "# строим графики\n",
    "plt.figure(figsize=(13, 5))\n",
    "\n",
    "plt.plot(cumulativeDataA['date'], cumulativeDataA['conversion'], label='A')\n",
    "plt.plot(cumulativeDataB['date'], cumulativeDataB['conversion'], label='B')\n",
    "\n",
    "#прописываем оси и названия\n",
    "plt.title('Кумулятивное среднее количество заказов на посетителя по группам')\n",
    "plt.xlabel('Дата проведения теста') \n",
    "plt.ylabel('Кумулятивное среднее кол-во заказов')\n",
    "\n",
    "plt.legend();"
   ]
  },
  {
   "cell_type": "markdown",
   "metadata": {},
   "source": [
    "**Промежуточный вывод**\n",
    "\n",
    "* В начале наблюдений группы колебались, но затем у группы `B` среднее количество заказов вырвалось вперёд и зафиксировалось\n",
    "* У группы `A` — просело, но тоже зафиксировалось."
   ]
  },
  {
   "cell_type": "markdown",
   "metadata": {},
   "source": [
    "#### График относительного изменения кумулятивного среднего количества заказов на посетителя группы B к группе A\n",
    "\n",
    "<div class=\"alert alert-info\">⚠️ В ячейке ниже частично используется код из главы теории Яндекс.Практикум</div>"
   ]
  },
  {
   "cell_type": "code",
   "execution_count": 29,
   "metadata": {},
   "outputs": [
    {
     "data": {
      "image/png": "[encoded data removed]",
      "text/plain": [
       "<Figure size 1300x500 with 1 Axes>"
      ]
     },
     "metadata": {},
     "output_type": "display_data"
    }
   ],
   "source": [
    "mergedCumulativeConversions = cumulativeDataA[['date','conversion']].merge(cumulativeDataB[['date','conversion']],\n",
    "                                                                           left_on='date',\n",
    "                                                                           right_on='date',\n",
    "                                                                           how='left',\n",
    "                                                                           suffixes=['A', 'B'])\n",
    "\n",
    "\n",
    "plt.figure(figsize=(13, 5))\n",
    "\n",
    "plt.plot(mergedCumulativeConversions['date'],\n",
    "         mergedCumulativeConversions['conversionB']\n",
    "         /mergedCumulativeConversions['conversionA']-1\n",
    "         )\n",
    "\n",
    "#прописываем оси и названия\n",
    "plt.title('Относительное изменение кумулятивного среднего количества заказов \\n на посетителя группы B к группе A')\n",
    "plt.xlabel('Дата проведения теста') \n",
    "plt.ylabel('(Кумулятивное среднее кол-во заказов гр. B \\n / Кумулятивное среднее кол-во заказов гр. А) - 1')\n",
    "\n",
    "\n",
    "plt.axhline(y=0, color='black', linestyle='--')\n",
    "plt.axhline(y=-0.1, color='grey', linestyle='--');"
   ]
  },
  {
   "cell_type": "markdown",
   "metadata": {},
   "source": [
    "**Промежуточный вывод**\n",
    "\n",
    "* В начале тест группы `B` проигрывает группе `A`, затем вырывается вперед.\n",
    "* После 6 августа в группе `B` стабильно больше заказов, чем в группе `A`, после 10-го августа это преимущество колеблется в районе 10-20%"
   ]
  },
  {
   "cell_type": "markdown",
   "metadata": {},
   "source": [
    "#### Точечный график количества заказов по пользователям"
   ]
  },
  {
   "cell_type": "code",
   "execution_count": 30,
   "metadata": {},
   "outputs": [
    {
     "data": {
      "image/png": "[encoded data removed]",
      "text/plain": [
       "<Figure size 640x480 with 1 Axes>"
      ]
     },
     "metadata": {},
     "output_type": "display_data"
    }
   ],
   "source": [
    "#сортируем датафрейм orders с группировкой по пользователям и считаем кол-во заказов\n",
    "ordersByUsers = (\n",
    "    orders.groupby('visitor_id', as_index=False)\n",
    "    .agg({'transaction_id': 'nunique'})\n",
    ")\n",
    "ordersByUsers.columns = ['visitor_id', 'orders']\n",
    "\n",
    "#создаем порядковые номера для оси x графика\n",
    "x_values = pd.Series(range(0,len(ordersByUsers)))\n",
    "\n",
    "#прописываем оси и названия\n",
    "plt.title('Количество заказов по пользователям')\n",
    "plt.xlabel('Порядковый номер пользователя') \n",
    "plt.ylabel('Количество заказов')\n",
    "\n",
    "plt.scatter(x_values, ordersByUsers['orders']);"
   ]
  },
  {
   "cell_type": "markdown",
   "metadata": {},
   "source": [
    "**Промежуточный вывод**\n",
    "\n",
    "* Есть несколько пользователей, с аномально большим количеством заказов\n",
    "* В основном пользователи заказывают 1-2 заказа, гораздо реже — 3 и более.\n",
    "\n",
    "Так как принято отсеивать от 1% до 5% наблюдений с крайними значениями, уточним 95-й и 99-й перцентили количества заказов на пользователя. "
   ]
  },
  {
   "cell_type": "markdown",
   "metadata": {},
   "source": [
    "#### Расчет 95-й и 99-й перцентили количества заказов на пользователя\n",
    "\n",
    "*Посчитайте 95-й и 99-й перцентили количества заказов на пользователя. Выберите границу для определения аномальных пользователей.*"
   ]
  },
  {
   "cell_type": "code",
   "execution_count": 31,
   "metadata": {},
   "outputs": [
    {
     "name": "stdout",
     "output_type": "stream",
     "text": [
      "95% перцентиль количества заказов на пользователя — 1.0\n",
      "99% перцентиль количества заказов на пользователя — 2.0\n"
     ]
    }
   ],
   "source": [
    "print('95% перцентиль количества заказов на пользователя —', np.percentile(ordersByUsers['orders'],[95])[0])\n",
    "print('99% перцентиль количества заказов на пользователя —', np.percentile(ordersByUsers['orders'],[99])[0])"
   ]
  },
  {
   "cell_type": "markdown",
   "metadata": {},
   "source": [
    "**Промежуточный вывод**\n",
    "\n",
    "* Не более 5% пользователей оформляли больше чем 1 заказа.\n",
    "* 1% пользователей заказывали более двух раз.\n",
    "\n",
    "**Выберем 2 заказа за верхнюю границу числа заказов, и отсеим аномальных пользователей по ней.**"
   ]
  },
  {
   "cell_type": "markdown",
   "metadata": {},
   "source": [
    "#### Точечный график стоимостей заказов"
   ]
  },
  {
   "cell_type": "code",
   "execution_count": 32,
   "metadata": {},
   "outputs": [
    {
     "data": {
      "text/plain": [
       "Text(0, 0.5, 'Стоимость')"
      ]
     },
     "execution_count": 32,
     "metadata": {},
     "output_type": "execute_result"
    },
    {
     "data": {
      "image/png": "[encoded data removed]",
      "text/plain": [
       "<Figure size 640x480 with 1 Axes>"
      ]
     },
     "metadata": {},
     "output_type": "display_data"
    }
   ],
   "source": [
    "#создаем порядковые номера для оси x графика\n",
    "x_values = pd.Series(range(0,len(orders['revenue'])))\n",
    "#рисуем график\n",
    "plt.scatter(x_values, orders['revenue'])\n",
    "\n",
    "#прописываем оси и названия\n",
    "plt.title('Точечный график стоимостей заказов')\n",
    "plt.xlabel('Порядковый номер заказа') \n",
    "plt.ylabel('Стоимость')"
   ]
  },
  {
   "cell_type": "markdown",
   "metadata": {},
   "source": [
    "По графику виден один аномально крупный заказ, но из-за него остальные данные на графике смешались. Приблизим нижнюю границу оси Y, ограничив ее значения."
   ]
  },
  {
   "cell_type": "code",
   "execution_count": 33,
   "metadata": {},
   "outputs": [
    {
     "data": {
      "text/plain": [
       "Text(0, 0.5, 'Стоимость')"
      ]
     },
     "execution_count": 33,
     "metadata": {},
     "output_type": "execute_result"
    },
    {
     "data": {
      "image/png": "[encoded data removed]",
      "text/plain": [
       "<Figure size 640x480 with 1 Axes>"
      ]
     },
     "metadata": {},
     "output_type": "display_data"
    }
   ],
   "source": [
    "plt.scatter(x_values, orders['revenue']) \n",
    "plt.ylim(0, 110000)\n",
    "\n",
    "#прописываем оси и названия\n",
    "plt.title('Точечный график стоимостей заказов')\n",
    "plt.xlabel('Порядковый номер заказа') \n",
    "plt.ylabel('Стоимость')"
   ]
  },
  {
   "cell_type": "markdown",
   "metadata": {},
   "source": [
    "**Промежуточный вывод**\n",
    "\n",
    "* Есть несколько аномально дорогих заказов\n",
    "* По графику можно выбрать границу аномальных заказов между 40 000 и 60 000 рублей\n",
    "\n",
    "Так как принято отсеивать от 1% до 5% наблюдений с крайними значениями, уточним 95-й и 99-й перцентили стоимости заказов."
   ]
  },
  {
   "cell_type": "markdown",
   "metadata": {},
   "source": [
    "#### Расчет 95-й и 99-й перцентили стоимости заказов\n",
    "\n",
    "*Посчитайте 95-й и 99-й перцентили стоимости заказов. Выберите границу для определения аномальных заказов.*"
   ]
  },
  {
   "cell_type": "code",
   "execution_count": 34,
   "metadata": {},
   "outputs": [
    {
     "name": "stdout",
     "output_type": "stream",
     "text": [
      "95% перцентиль стоимости заказов — 26785\n",
      "99% перцентиль стоимости заказов — 53904\n"
     ]
    }
   ],
   "source": [
    "print('95% перцентиль стоимости заказов —', int(np.percentile(orders['revenue'],[95])[0]))\n",
    "print('99% перцентиль стоимости заказов —', int(np.percentile(orders['revenue'],[99])[0]))"
   ]
  },
  {
   "cell_type": "markdown",
   "metadata": {},
   "source": [
    "**Промежуточный вывод**\n",
    "\n",
    "* Не более 5% заказов более чем на 26 785\n",
    "* 1% заказов крупнее 53 904\n",
    "\n",
    "**Выберем 40 000 за верхнюю границу числа заказов, и отсеим аномальных пользователей по ней.**"
   ]
  },
  {
   "cell_type": "markdown",
   "metadata": {},
   "source": [
    "#### Расчет стат. значимости различий в среднем количестве заказов на посетителя между группами по «сырым» данным"
   ]
  },
  {
   "cell_type": "markdown",
   "metadata": {},
   "source": [
    "**Сформулируем гипотезy**\n",
    "\n",
    "**Нулевая гипотеза** - различий в среднем количестве заказов между группами нет\\\n",
    "**Альтернативная гипотеза** — различия в среднем между группами есть\\\n",
    "Таким образом альтернативная гипотеза — двусторонняя.\n",
    "\n",
    "Зададим стат. значимость, **α = 5%**\\\n",
    "Для сравнения будем использовать **тест Уилкоксона-Манна-Уитни**\n",
    "\n",
    "---\n",
    "\n",
    "Начнём с подготовки данных.\n",
    "\n",
    "<div class=\"alert alert-info\">⚠️ В ячейках ниже частично используется код из главы теории Яндекс.Практикум</div>"
   ]
  },
  {
   "cell_type": "code",
   "execution_count": 35,
   "metadata": {},
   "outputs": [
    {
     "data": {
      "text/html": [
       "<div>\n",
       "<style scoped>\n",
       "    .dataframe tbody tr th:only-of-type {\n",
       "        vertical-align: middle;\n",
       "    }\n",
       "\n",
       "    .dataframe tbody tr th {\n",
       "        vertical-align: top;\n",
       "    }\n",
       "\n",
       "    .dataframe thead th {\n",
       "        text-align: right;\n",
       "    }\n",
       "</style>\n",
       "<table border=\"1\" class=\"dataframe\">\n",
       "  <thead>\n",
       "    <tr style=\"text-align: right;\">\n",
       "      <th></th>\n",
       "      <th>date</th>\n",
       "      <th>ordersPerDateA</th>\n",
       "      <th>revenuePerDateA</th>\n",
       "      <th>ordersPerDateB</th>\n",
       "      <th>revenuePerDateB</th>\n",
       "      <th>ordersCummulativeA</th>\n",
       "      <th>revenueCummulativeA</th>\n",
       "      <th>ordersCummulativeB</th>\n",
       "      <th>revenueCummulativeB</th>\n",
       "      <th>visitorsPerDateA</th>\n",
       "      <th>visitorsPerDateB</th>\n",
       "      <th>visitorsCummulativeA</th>\n",
       "      <th>visitorsCummulativeB</th>\n",
       "    </tr>\n",
       "  </thead>\n",
       "  <tbody>\n",
       "    <tr>\n",
       "      <th>0</th>\n",
       "      <td>2019-08-01</td>\n",
       "      <td>23</td>\n",
       "      <td>142779</td>\n",
       "      <td>17</td>\n",
       "      <td>59758</td>\n",
       "      <td>23</td>\n",
       "      <td>142779</td>\n",
       "      <td>17</td>\n",
       "      <td>59758</td>\n",
       "      <td>719</td>\n",
       "      <td>713</td>\n",
       "      <td>719</td>\n",
       "      <td>713</td>\n",
       "    </tr>\n",
       "    <tr>\n",
       "      <th>1</th>\n",
       "      <td>2019-08-02</td>\n",
       "      <td>19</td>\n",
       "      <td>91602</td>\n",
       "      <td>23</td>\n",
       "      <td>162043</td>\n",
       "      <td>42</td>\n",
       "      <td>234381</td>\n",
       "      <td>40</td>\n",
       "      <td>221801</td>\n",
       "      <td>619</td>\n",
       "      <td>581</td>\n",
       "      <td>1338</td>\n",
       "      <td>1294</td>\n",
       "    </tr>\n",
       "    <tr>\n",
       "      <th>2</th>\n",
       "      <td>2019-08-03</td>\n",
       "      <td>24</td>\n",
       "      <td>112473</td>\n",
       "      <td>14</td>\n",
       "      <td>67049</td>\n",
       "      <td>66</td>\n",
       "      <td>346854</td>\n",
       "      <td>54</td>\n",
       "      <td>288850</td>\n",
       "      <td>507</td>\n",
       "      <td>509</td>\n",
       "      <td>1845</td>\n",
       "      <td>1803</td>\n",
       "    </tr>\n",
       "    <tr>\n",
       "      <th>3</th>\n",
       "      <td>2019-08-04</td>\n",
       "      <td>11</td>\n",
       "      <td>41176</td>\n",
       "      <td>14</td>\n",
       "      <td>96890</td>\n",
       "      <td>77</td>\n",
       "      <td>388030</td>\n",
       "      <td>68</td>\n",
       "      <td>385740</td>\n",
       "      <td>717</td>\n",
       "      <td>770</td>\n",
       "      <td>2562</td>\n",
       "      <td>2573</td>\n",
       "    </tr>\n",
       "    <tr>\n",
       "      <th>4</th>\n",
       "      <td>2019-08-05</td>\n",
       "      <td>22</td>\n",
       "      <td>86383</td>\n",
       "      <td>21</td>\n",
       "      <td>89908</td>\n",
       "      <td>99</td>\n",
       "      <td>474413</td>\n",
       "      <td>89</td>\n",
       "      <td>475648</td>\n",
       "      <td>756</td>\n",
       "      <td>707</td>\n",
       "      <td>3318</td>\n",
       "      <td>3280</td>\n",
       "    </tr>\n",
       "  </tbody>\n",
       "</table>\n",
       "</div>"
      ],
      "text/plain": [
       "        date  ordersPerDateA  revenuePerDateA  ordersPerDateB  \\\n",
       "0 2019-08-01  23              142779           17               \n",
       "1 2019-08-02  19              91602            23               \n",
       "2 2019-08-03  24              112473           14               \n",
       "3 2019-08-04  11              41176            14               \n",
       "4 2019-08-05  22              86383            21               \n",
       "\n",
       "   revenuePerDateB  ordersCummulativeA  revenueCummulativeA  \\\n",
       "0  59758            23                  142779                \n",
       "1  162043           42                  234381                \n",
       "2  67049            66                  346854                \n",
       "3  96890            77                  388030                \n",
       "4  89908            99                  474413                \n",
       "\n",
       "   ordersCummulativeB  revenueCummulativeB  visitorsPerDateA  \\\n",
       "0  17                  59758                719                \n",
       "1  40                  221801               619                \n",
       "2  54                  288850               507                \n",
       "3  68                  385740               717                \n",
       "4  89                  475648               756                \n",
       "\n",
       "   visitorsPerDateB  visitorsCummulativeA  visitorsCummulativeB  \n",
       "0  713               719                   713                   \n",
       "1  581               1338                  1294                  \n",
       "2  509               1845                  1803                  \n",
       "3  770               2562                  2573                  \n",
       "4  707               3318                  3280                  "
      ]
     },
     "execution_count": 35,
     "metadata": {},
     "output_type": "execute_result"
    }
   ],
   "source": [
    "#создаем таблицу с количеством посетителей по дате для группы А\n",
    "visitorsADaily = visitors[visitors['group'] == 'A'][['date', 'visitors']]\n",
    "visitorsADaily.columns = ['date', 'visitorsPerDateA']\n",
    "\n",
    "#создаем таблицу кумулятивного кол-ва пользователей для группы А\n",
    "visitorsACummulative = cumulativeData.query('group == \"A\"')[['date','visitors']]\n",
    "visitorsACummulative.columns = ['date', 'visitorsCummulativeA']\n",
    "\n",
    "#создаем таблицу с количеством посетителей по дате для группы B\n",
    "visitorsBDaily = visitors[visitors['group'] == 'B'][['date', 'visitors']]\n",
    "visitorsBDaily.columns = ['date', 'visitorsPerDateB']\n",
    "\n",
    "#создаем таблицу кумулятивного кол-ва пользователей для группы B\n",
    "visitorsBCummulative = cumulativeData.query('group == \"B\"')[['date','visitors']]\n",
    "visitorsBCummulative.columns = ['date', 'visitorsCummulativeB']\n",
    "\n",
    "#создаем таблицу с общим количеством заказов и общей суммой по датам для группы А\n",
    "ordersADaily = (\n",
    "    orders[orders['group'] == 'A'][['date', 'transaction_id', 'visitor_id', 'revenue']]\n",
    "    .groupby('date', as_index=False)\n",
    "    .agg({'transaction_id': pd.Series.nunique, 'revenue': 'sum'})\n",
    ")\n",
    "ordersADaily.columns = ['date', 'ordersPerDateA', 'revenuePerDateA']\n",
    "\n",
    "#создаем таблицу с кумулятивным количеством заказов и кумулятивной суммой по датам для группы А\n",
    "ordersACummulative = cumulativeData.query('group == \"A\"')[['date','orders','revenue']]\n",
    "\n",
    "ordersACummulative.columns = [\n",
    "    'date',\n",
    "    'ordersCummulativeA',\n",
    "    'revenueCummulativeA',\n",
    "]\n",
    "\n",
    "#создаем таблицу с общим количеством заказов и общей суммой по датам для группы B\n",
    "ordersBDaily = (\n",
    "    orders[orders['group'] == 'B'][['date', 'transaction_id', 'visitor_id', 'revenue']]\n",
    "    .groupby('date', as_index=False)\n",
    "    .agg({'transaction_id': pd.Series.nunique, 'revenue': 'sum'})\n",
    ")\n",
    "ordersBDaily.columns = ['date', 'ordersPerDateB', 'revenuePerDateB']\n",
    "\n",
    "#создаем таблицу с кумулятивным количеством заказов и кумулятивной суммой по датам для группы B\n",
    "ordersBCummulative = cumulativeData.query('group == \"B\"')[['date','orders','revenue']]\n",
    "\n",
    "ordersBCummulative.columns = [\n",
    "    'date',\n",
    "    'ordersCummulativeB',\n",
    "    'revenueCummulativeB',\n",
    "]\n",
    "\n",
    "#соединяем полученные таблицы воедино\n",
    "data = (\n",
    "    ordersADaily.merge(\n",
    "        ordersBDaily, left_on='date', right_on='date', how='left'\n",
    "    )\n",
    "    .merge(ordersACummulative, left_on='date', right_on='date', how='left')\n",
    "    .merge(ordersBCummulative, left_on='date', right_on='date', how='left')\n",
    "    .merge(visitorsADaily, left_on='date', right_on='date', how='left')\n",
    "    .merge(visitorsBDaily, left_on='date', right_on='date', how='left')\n",
    "    .merge(visitorsACummulative, left_on='date', right_on='date', how='left')\n",
    "    .merge(visitorsBCummulative, left_on='date', right_on='date', how='left')\n",
    ")\n",
    "\n",
    "#выведем первые строки полученной таблицы на экран\n",
    "data.head()"
   ]
  },
  {
   "cell_type": "code",
   "execution_count": 36,
   "metadata": {},
   "outputs": [],
   "source": [
    "#создаем таблицу с количеством заказов для каждого посетителя для группы A\n",
    "ordersByUsersA = (\n",
    "    orders[orders['group'] == 'A']\n",
    "    .groupby('visitor_id', as_index=False)\n",
    "    .agg({'transaction_id': pd.Series.nunique})\n",
    ")\n",
    "ordersByUsersA.columns = ['visitor_id', 'orders']\n",
    "\n",
    "#создаем таблицу с количеством заказов для каждого посетителя для группы B\n",
    "ordersByUsersB = (\n",
    "    orders[orders['group'] == 'B']\n",
    "    .groupby('visitor_id', as_index=False)\n",
    "    .agg({'transaction_id': pd.Series.nunique})\n",
    ")\n",
    "ordersByUsersB.columns = ['visitor_id', 'orders']"
   ]
  },
  {
   "cell_type": "code",
   "execution_count": 37,
   "metadata": {},
   "outputs": [
    {
     "name": "stdout",
     "output_type": "stream",
     "text": [
      "p-value равен  0.011\n",
      "Отвергаем нулевую гипотезу\n",
      "\n",
      "* для \"сырых\" данных\n",
      "(Cреднее число заказов гр. B / среднее число заказов гр. A) - 1 =  0.160\n"
     ]
    }
   ],
   "source": [
    "#создаем семпл с количеством заказов по пользователей для группы А\n",
    "sampleA = pd.concat(\n",
    "    [\n",
    "        ordersByUsersA['orders'],\n",
    "        pd.Series(\n",
    "            0,\n",
    "            index=np.arange(\n",
    "                data['visitorsPerDateA'].sum() - len(ordersByUsersA['orders'])\n",
    "            ),\n",
    "            name='orders',\n",
    "        ),\n",
    "    ],\n",
    "    axis=0,\n",
    ")\n",
    "\n",
    "#создаем семпл с количеством заказов по пользователей для группы B\n",
    "sampleB = pd.concat(\n",
    "    [\n",
    "        ordersByUsersB['orders'],\n",
    "        pd.Series(\n",
    "            0,\n",
    "            index=np.arange(\n",
    "                data['visitorsPerDateB'].sum() - len(ordersByUsersB['orders'])\n",
    "            ),\n",
    "            name='orders',\n",
    "        ),\n",
    "    ],\n",
    "    axis=0,\n",
    ")\n",
    "\n",
    "#Считаем и выводим на экран p-value\n",
    "print('p-value равен ',\"{0:.3f}\".format(stats.mannwhitneyu(sampleA, sampleB)[1]))\n",
    "\n",
    "alpha = 0.05 # задаем уровень статистической значимости\n",
    "\n",
    "if (stats.mannwhitneyu(sampleA, sampleB)[1] < alpha):\n",
    "    print('Отвергаем нулевую гипотезу')\n",
    "else:\n",
    "    print('Не отвергаем нулевую гипотезу') \n",
    "\n",
    "\n",
    "print('\\n* для \"сырых\" данных\\n(Cреднее число заказов гр. B / среднее число заказов гр. A) - 1 = '\n",
    "      ,\"{0:.3f}\".format(sampleB.mean()/sampleA.mean() - 1))"
   ]
  },
  {
   "cell_type": "markdown",
   "metadata": {},
   "source": [
    "**Промежуточный вывод**\n",
    "\n",
    "* По «сырым» данным полученное значение p-value меньше заданного уровня значимости, есть основания предположить, что среднее количество заказов на посетителя между группами разные.\n",
    "\n",
    "* Относительный выигрыш группы `B` равен 16%"
   ]
  },
  {
   "cell_type": "markdown",
   "metadata": {},
   "source": [
    "#### Расчет стат. значимости различий в среднем чеке заказа между группами по «сырым» данным\n",
    "\n",
    "---\n",
    "\n",
    "**Сформулируем гипотезу**\n",
    "\n",
    "**Нулевая гипотеза** - различий в среднем чеке заказа между группами нет\\\n",
    "**Альтернативная гипотеза** — различия среднем чеке заказа между группами есть\\\n",
    "Таким образом альтернативная гипотеза — двусторонняя.\n",
    "\n",
    "Зададим стат. значимость, **α = 5%**\\\n",
    "Для сравнения будем использовать **тест Уилкоксона-Манна-Уитни**\n",
    "\n",
    "---\n"
   ]
  },
  {
   "cell_type": "code",
   "execution_count": 38,
   "metadata": {},
   "outputs": [
    {
     "name": "stdout",
     "output_type": "stream",
     "text": [
      "p-value равен  0.829\n",
      "Не отвергаем нулевую гипотезу\n",
      "\n",
      "* для \"сырых\" данных\n",
      "(Средний чек гр. B / средний чек гр. A) - 1 =  0.287\n"
     ]
    }
   ],
   "source": [
    "print('p-value равен ','{0:.3f}'.format(stats.mannwhitneyu(orders[orders['group']=='A']['revenue'], orders[orders['group']=='B']['revenue'])[1]))\n",
    "\n",
    "if (stats.mannwhitneyu(orders[orders['group']=='A']['revenue'], orders[orders['group']=='B']['revenue'])[1] < alpha):\n",
    "    print('Отвергаем нулевую гипотезу')\n",
    "else:\n",
    "    print('Не отвергаем нулевую гипотезу') \n",
    "\n",
    "print('\\n* для \"сырых\" данных\\n(Средний чек гр. B / средний чек гр. A) - 1 = ','{0:.3f}'\n",
    "      .format(orders[orders['group']=='B']['revenue']\n",
    "              .mean()/orders[orders['group']=='A']['revenue'].mean()-1))"
   ]
  },
  {
   "cell_type": "markdown",
   "metadata": {},
   "source": [
    "**Промежуточный вывод**\n",
    "\n",
    "* По «сырым» данным полученное значение p-value гораздо больше заданного уровня значимости, есть основания предположить, что средний чек заказа  между группами `A` и `B` — одинаковые\n",
    "\n",
    "* При этом относительный выигрыш группы `B` равен 28.7%"
   ]
  },
  {
   "cell_type": "markdown",
   "metadata": {},
   "source": [
    "#### Расчет стат. значимости различий в среднем количестве заказов на посетителя между группами по «очищенным» данным\n",
    "\n",
    "---\n",
    "\n",
    "**Сформулируем гипотезy**\n",
    "\n",
    "**Нулевая гипотеза** - различий в среднем количестве заказов между группами нет\\\n",
    "**Альтернативная гипотеза** — различия в среднем между группами есть\\\n",
    "Таким образом альтернативная гипотеза — двусторонняя.\n",
    "\n",
    "Зададим стат. значимость, **α = 5%**\\\n",
    "Для сравнения будем использовать **тест Уилкоксона-Манна-Уитни**\n",
    "\n",
    "\n",
    "---\n",
    "\n",
    "\n",
    "Для начала отбросим выбросы:\n",
    "Выше мы выяснили что аномальными считаются:\n",
    "* пользователи, совершившие более трех заказов\n",
    "* заказы крупнее 40 000\n",
    "---\n",
    "\n",
    "\n",
    "Узнаем, сколько всего аномальных пользователей атрибутом shape.\n"
   ]
  },
  {
   "cell_type": "code",
   "execution_count": 39,
   "metadata": {},
   "outputs": [
    {
     "data": {
      "text/plain": [
       "1099    148427295\n",
       "33      249864742\n",
       "684     358944393\n",
       "648     382846391\n",
       "58      611059232\n",
       "Name: visitor_id, dtype: int64"
      ]
     },
     "metadata": {},
     "output_type": "display_data"
    },
    {
     "data": {
      "text/plain": [
       "30"
      ]
     },
     "execution_count": 39,
     "metadata": {},
     "output_type": "execute_result"
    }
   ],
   "source": [
    "#создаем общую таблицу пользователей с более чем тремя заказами\n",
    "usersWithManyOrders = pd.concat(\n",
    "    [\n",
    "        ordersByUsersA[ordersByUsersA['orders'] > 2]['visitor_id'],\n",
    "        ordersByUsersB[ordersByUsersB['orders'] > 2]['visitor_id'],\n",
    "    ],\n",
    "    axis=0,\n",
    ")\n",
    "\n",
    "#создаем общую таблицу заказов дороже 40 000 \n",
    "usersWithExpensiveOrders = orders[orders['revenue'] > 40000]['visitor_id']\n",
    "\n",
    "#создаем общую таблицу с аномальными значениями\n",
    "abnormalUsers = (\n",
    "    pd.concat([usersWithManyOrders, usersWithExpensiveOrders], axis=0)\n",
    "    .drop_duplicates()\n",
    "    .sort_values()\n",
    ")\n",
    "display(abnormalUsers.head(5))\n",
    "\n",
    "#считаем количество аномальных пользователей\n",
    "abnormalUsers.shape[0]"
   ]
  },
  {
   "cell_type": "markdown",
   "metadata": {},
   "source": [
    "Всего 30 аномальных пользователей\n",
    "\n",
    "Отфильтруем этих пользователей и получим \"очищенные\" данные.\n",
    "\n",
    "<div class=\"alert alert-info\">⚠️ В ячейке ниже частично используется код из главы теории Яндекс.Практикум</div>"
   ]
  },
  {
   "cell_type": "code",
   "execution_count": 40,
   "metadata": {},
   "outputs": [],
   "source": [
    "#фильтруем сэмпл для группы A\n",
    "sampleAFiltered = pd.concat(\n",
    "    [\n",
    "        ordersByUsersA[\n",
    "            np.logical_not(ordersByUsersA['visitor_id'].isin(abnormalUsers))\n",
    "        ]['orders'],\n",
    "        pd.Series(\n",
    "            0,\n",
    "            index=np.arange(\n",
    "                data['visitorsPerDateA'].sum() - len(ordersByUsersA['orders'])\n",
    "            ),\n",
    "            name='orders',\n",
    "        ),\n",
    "    ],\n",
    "    axis=0,\n",
    ")\n",
    "\n",
    "#фильтруем сэмпл для группы B\n",
    "sampleBFiltered = pd.concat(\n",
    "    [\n",
    "        ordersByUsersB[\n",
    "            np.logical_not(ordersByUsersB['visitor_id'].isin(abnormalUsers))\n",
    "        ]['orders'],\n",
    "        pd.Series(\n",
    "            0,\n",
    "            index=np.arange(\n",
    "                data['visitorsPerDateB'].sum() - len(ordersByUsersB['orders'])\n",
    "            ),\n",
    "            name='orders',\n",
    "        ),\n",
    "    ],\n",
    "    axis=0,\n",
    ")"
   ]
  },
  {
   "cell_type": "markdown",
   "metadata": {},
   "source": [
    "Теперь можно посчитать статистическую значимость различий в среднем количестве заказов на посетителя между группами по «очищенным» данным."
   ]
  },
  {
   "cell_type": "code",
   "execution_count": 41,
   "metadata": {},
   "outputs": [
    {
     "name": "stdout",
     "output_type": "stream",
     "text": [
      "p-value равен  0.004\n",
      "Отвергаем нулевую гипотезу\n",
      "\n",
      "* для \"очищенных\" данных\n",
      "(Cреднее число заказов гр. B / среднее число заказов гр. A) - 1 =  0.205\n"
     ]
    }
   ],
   "source": [
    "print('p-value равен ',\"{0:.3f}\".format(stats.mannwhitneyu(sampleAFiltered, sampleBFiltered)[1]))\n",
    "\n",
    "alpha = 0.05 # уровень статистической значимости\n",
    "if (stats.mannwhitneyu(sampleAFiltered, sampleBFiltered)[1] < alpha):\n",
    "    print('Отвергаем нулевую гипотезу')\n",
    "else:\n",
    "    print('Не отвергаем нулевую гипотезу') \n",
    "\n",
    "\n",
    "print('\\n* для \"очищенных\" данных\\n(Cреднее число заказов гр. B / среднее число заказов гр. A) - 1 = '\n",
    "      ,\"{0:.3f}\".format(sampleBFiltered.mean()/sampleAFiltered.mean()-1))"
   ]
  },
  {
   "cell_type": "markdown",
   "metadata": {},
   "source": [
    "**Промежуточный вывод**\n",
    "\n",
    "Результат получился схожим с расчетом по \"сырым\" данным\n",
    "\n",
    "* По «очищенным» данным полученное значение p-value меньше заданного уровня значимости, есть основания предположить, что среднее количество заказов на посетителя между группами разные.\n",
    "\n",
    "* Однако относительный выигрыш группы `B` равен 20.5%"
   ]
  },
  {
   "cell_type": "markdown",
   "metadata": {},
   "source": [
    "#### Расчет стат. значимости различий в среднем чеке заказа между группами по «очищенным» данным\n",
    "\n",
    "*Посчитайте статистическую значимость различий в среднем чеке заказа между группами по «очищенным» данным. Сделайте выводы и предположения.*\n",
    "\n",
    "---\n",
    "\n",
    "**Сформулируем гипотезу**\n",
    "\n",
    "**Нулевая гипотеза** — различий в среднем чеке заказа между группами нет\\\n",
    "**Альтернативная гипотеза** — различия среднем чеке заказа между группами есть\\\n",
    "Таким образом альтернативная гипотеза — двусторонняя.\n",
    "\n",
    "Зададим стат. значимость, **α = 5%**\\\n",
    "Для сравнения будем использовать **тест Уилкоксона-Манна-Уитни**\n",
    "\n",
    "---"
   ]
  },
  {
   "cell_type": "markdown",
   "metadata": {},
   "source": [
    "<div class=\"alert alert-info\">⚠️ В ячейке ниже частично используется код из главы теории Яндекс.Практикум</div>"
   ]
  },
  {
   "cell_type": "code",
   "execution_count": 42,
   "metadata": {},
   "outputs": [
    {
     "name": "stdout",
     "output_type": "stream",
     "text": [
      "p-value равен  0.937\n",
      "Не отвергаем нулевую гипотезу\n",
      "\n",
      "* для \"очищенных\" данных\n",
      "(Средний чек гр. B / средний чек гр. A) - 1 =  0.055\n"
     ]
    }
   ],
   "source": [
    "#расчитываем p_value\n",
    "p_value = '{0:.3f}'.format(\n",
    "        stats.mannwhitneyu(\n",
    "            orders[\n",
    "                np.logical_and(\n",
    "                    orders['group'] == 'A',\n",
    "                    np.logical_not(orders['visitor_id'].isin(abnormalUsers)),\n",
    "                )\n",
    "            ]['revenue'],\n",
    "            orders[\n",
    "                np.logical_and(\n",
    "                    orders['group'] == 'B',\n",
    "                    np.logical_not(orders['visitor_id'].isin(abnormalUsers)),\n",
    "                )\n",
    "            ]['revenue'],\n",
    "        )[1]\n",
    "    )\n",
    "\n",
    "#расчитываем отношение среднего чека группы B к группе A\n",
    "dif = \"{0:.3f}\".format(\n",
    "        orders[\n",
    "            np.logical_and(\n",
    "                orders['group'] == 'B',\n",
    "                np.logical_not(orders['visitor_id'].isin(abnormalUsers)),\n",
    "            )\n",
    "        ]['revenue'].mean()\n",
    "        / orders[\n",
    "            np.logical_and(\n",
    "                orders['group'] == 'A',\n",
    "                np.logical_not(orders['visitor_id'].isin(abnormalUsers)),\n",
    "            )\n",
    "        ]['revenue'].mean()\n",
    "        - 1\n",
    "    )\n",
    "\n",
    "#выводим результат на экран\n",
    "print('p-value равен ',p_value)\n",
    "\n",
    "if (float(p_value) < alpha):\n",
    "    print('Отвергаем нулевую гипотезу')\n",
    "else:\n",
    "    print('Не отвергаем нулевую гипотезу') \n",
    "\n",
    "print('\\n* для \"очищенных\" данных\\n(Средний чек гр. B / средний чек гр. A) - 1 = ',dif)"
   ]
  },
  {
   "cell_type": "markdown",
   "metadata": {},
   "source": [
    "**Промежуточный вывод**\n",
    "\n",
    "Результат получился схожим с расчетом по \"сырым\" данным\n",
    "\n",
    "* По «очищенным» данным полученное значение p-value гораздо больше заданного уровня значимости, есть основания предположить, что средний чек заказа  между группами `A` и `B` — одинаковые\n",
    "\n",
    "* При этом относительный выигрыш группы `B` равен 5.5%. Доля относительно 'сырых' данных сильно уменьшилась, видимо как раз тут сильно повлияли аномально дорогие заказы."
   ]
  },
  {
   "cell_type": "markdown",
   "metadata": {},
   "source": [
    "#### Принятие решения по результатам теста\n",
    "\n",
    "*Примите решение по результатам теста и объясните его.*\n",
    "\n",
    "Сравним результаты тестов:\n",
    "\n",
    "<br>\n",
    "<center><b>Расчет стат. значимости различий<br>\n",
    "в среднем количестве заказов на посетителя между группами</b></center>\n",
    "\n",
    "|                   |p_value            |(среднее гр. B/ среднее гр. A) -1 | \n",
    "|-------------------|-------------------|----------------------------------|\n",
    "|'сырые' данные     | 0.110              |0.160                             | \n",
    "|'очищенные' данные | 0.004             |0.205                             |\n",
    "\n",
    "---\n",
    "\n",
    "\n",
    "<br>\n",
    "<center><b>\n",
    "Расчет стат. значимости различий в среднем чеке заказа</b></center>\n",
    "\n",
    "|                   |p_value            |(среднее гр. B/ среднее гр. A) -1 | \n",
    "|-------------------|-------------------|----------------------------------|\n",
    "|'сырые' данные     | 0.829             |0.287                             | \n",
    "|'очищенные' данные | 0.937             |0.055                             |\n",
    "\n",
    "\n",
    "---\n",
    "\n",
    "Еще раз взглянем на графики:\n",
    "\n",
    "* различия среднего количества заказов между группами \n",
    "* различия среднего чека между группами "
   ]
  },
  {
   "cell_type": "markdown",
   "metadata": {},
   "source": [
    "<div class=\"alert alert-info\">⚠️ В ячейке ниже частично используется код из главы теории Яндекс.Практикум</div>"
   ]
  },
  {
   "cell_type": "code",
   "execution_count": 43,
   "metadata": {},
   "outputs": [
    {
     "data": {
      "image/png": "[encoded data removed]",
      "text/plain": [
       "<Figure size 1300x500 with 1 Axes>"
      ]
     },
     "metadata": {},
     "output_type": "display_data"
    },
    {
     "data": {
      "image/png": "[encoded data removed]",
      "text/plain": [
       "<Figure size 1300x500 with 1 Axes>"
      ]
     },
     "metadata": {},
     "output_type": "display_data"
    }
   ],
   "source": [
    "plt.figure(figsize=(13, 5))\n",
    "\n",
    "plt.plot(mergedCumulativeConversions['date'],\n",
    "         mergedCumulativeConversions['conversionB']\n",
    "         /mergedCumulativeConversions['conversionA']-1\n",
    "         )\n",
    "\n",
    "#прописываем оси и названия\n",
    "plt.title('Относительное изменение кумулятивного среднего количества заказов \\n на посетителя группы B к группе A')\n",
    "plt.xlabel('Дата проведения теста') \n",
    "plt.ylabel('(Кумулятивное среднее кол-во заказов гр. B \\n / Кумулятивное среднее кол-во заказов гр. А) - 1')\n",
    "\n",
    "plt.axhline(y=0, color='black', linestyle='--')\n",
    "plt.axhline(y=-0.1, color='grey', linestyle='--')\n",
    "\n",
    "plt.show()\n",
    "\n",
    "# cтроим отношение средних чеков\n",
    "plt.figure(figsize=(13, 5))\n",
    "\n",
    "plt.plot(mergedCumulativeRevenue['date'],\n",
    "         (mergedCumulativeRevenue['revenueB']\n",
    "          /mergedCumulativeRevenue['ordersB'])\n",
    "         /(mergedCumulativeRevenue['revenueA']\n",
    "           /mergedCumulativeRevenue['ordersA'])-1)\n",
    "\n",
    "#прописываем оси и названия\n",
    "plt.title('Относительное изменение кумулятивного среднего чека группы B к группе A')\n",
    "plt.xlabel('Дата проведения теста') \n",
    "plt.ylabel('(Кумулятивный средний чек гр. B \\n / Кумулятивный средний чек гр. А) - 1')\n",
    "\n",
    "\n",
    "# добавляем ось X\n",
    "plt.axhline(y=0, color='black', linestyle='--')\n",
    "\n",
    "plt.show();"
   ]
  },
  {
   "cell_type": "markdown",
   "metadata": {},
   "source": [
    "**Выводы:**\n",
    "* Есть значимое различие по среднему количеству заказов между группами как по «сырым», так и по данным после фильтрации аномалий. Разница между сегментами равна 16% для \"сырых\" и 20,5% для \"очищенных\" данных в пользу группы `B` \n",
    "\n",
    "\n",
    "* Нет статистически значимого различия по среднему чеку между группами ни по «сырым», ни по данным после фильтрации аномалий. Разница между сегментами равна 28,7% для \"сырых\" и 5.5% для \"очищенных\" данных в пользу группы `B` \n",
    "\n",
    "\n",
    "* График различия среднего количества заказов между группами сообщает, что результаты группы `B` стабильно лучше группы `А` на 10-20%\n",
    "\n",
    "* График различия среднего чека между группами сообщает, что результаты группы `B` в конце и начале наблюдений  лучше группы `А`. При этом график резко проседает после 7 августа и резко растет 19-го. После 19-го и до конца периода наблюдений отношение понемногу падает. Отношение (B/A-1) почти все время больше ноля (30% к концу наблюдений).\n",
    "\n",
    "\n",
    "**Принятие решения:**\n",
    "**Остановить тест, зафиксировать победу группы `B`.**\n"
   ]
  },
  {
   "cell_type": "markdown",
   "metadata": {},
   "source": [
    "### Общий вывод"
   ]
  },
  {
   "cell_type": "markdown",
   "metadata": {},
   "source": [
    "В ходе исследования:\n",
    "\n",
    "**`В рамках предобработки данных:`**\n",
    "\n",
    "* заменили названия столбцов на подходящие\n",
    "* исправили типы данных, где это необходимо\n",
    "* проверили датасеты на наличие явных и неявных дубликатов и пропусков\n",
    "---\n",
    "\n",
    "**`Провели приоритизацию полученных гипотез:`**\n",
    "\n",
    "Применили два способа приоритизации гипотез RICE и ICE. \n",
    "\n",
    "* При применении способа ICE в топ 3 попали гипотезы №№ 8,0,7, с №8 на первом месте.\n",
    "* После применения способа RICE на первое место по приоритетности вышла гипотеза №7\n",
    "№8 ушла в середину списка, 0 остался в топ 3, также в топ 3 поднялась гипотеза под номером №2\n",
    "(На изменение положения гипотез в шкале приоритетности повлиял параметр `reach` (англ. «охват»).)\n",
    "\n",
    "**`Провели анализ A/B-теста`**\n",
    "\n",
    "**Приняли решение: остановить тест, зафиксировать победу группы `B`.**\n",
    "\n",
    "Основания для принятия решения мы получили на основе графиков, а так же расчета стат. значимости для среднего чека и средней суммы заказов между группами. Для расчета стат. значимости мы использовали как 'сырые', так и 'очищенные'\n",
    "от аномалий данные. Дополнительно считали относительную разницу средних значений `B` к `А`\n",
    "\n",
    "Выводы получились следующими:\n",
    "\n",
    "* Есть значимое различие по среднему количеству заказов между группами как по «сырым», так и по данным после фильтрации аномалий. Разница между сегментами равна 16% для \"сырых\" и 20,5% для \"очищенных\" данных в пользу группы `B` \n",
    "\n",
    "* Нет статистически значимого различия по среднему чеку между группами ни по «сырым», ни по данным после фильтрации аномалий. Разница между сегментами равна 28,7% для \"сырых\" и 5.5% для \"очищенных\" данных в пользу группы `B` \n",
    "\n",
    "* График различия среднего количества заказов между группами сообщает, что результаты группы `B` стабильно лучше группы `А` на 10-20%\n",
    "\n",
    "* График различия среднего чека между группами сообщает, что результаты группы `B` в конце и начале наблюдений  лучше группы `А`. Отношение (B/A-1) почти все время больше ноля (30% к концу наблюдений).\n",
    "\n",
    "**`Рекомендации для отдела маркетинга`**\n",
    "\n",
    "* Следует обратить внимание на гипотезу №7, как на наиболее приоритетную, а также обладающую наибольшим охватом (10 из 10 пунктов)\n",
    "\n",
    "* Признать A/B-тест успешным и реализовать изменения, характерные для группы B\n"
   ]
  },
  {
   "cell_type": "code",
   "execution_count": null,
   "metadata": {},
   "outputs": [],
   "source": []
  }
 ],
 "metadata": {
  "ExecuteTimeLog": [
   {
    "duration": 46,
    "start_time": "2024-08-20T02:54:48.288Z"
   },
   {
    "duration": 1426,
    "start_time": "2024-08-20T02:54:50.695Z"
   },
   {
    "duration": 88,
    "start_time": "2024-08-20T02:54:52.123Z"
   },
   {
    "duration": 13,
    "start_time": "2024-08-20T02:54:57.357Z"
   },
   {
    "duration": 11,
    "start_time": "2024-08-20T02:55:04.182Z"
   },
   {
    "duration": 8,
    "start_time": "2024-08-20T02:55:12.596Z"
   },
   {
    "duration": 3,
    "start_time": "2024-08-20T02:55:50.752Z"
   },
   {
    "duration": 3,
    "start_time": "2024-08-20T02:55:51.722Z"
   },
   {
    "duration": 2,
    "start_time": "2024-08-20T02:55:52.008Z"
   },
   {
    "duration": 29,
    "start_time": "2024-08-20T02:55:52.333Z"
   },
   {
    "duration": 8,
    "start_time": "2024-08-20T02:55:52.877Z"
   },
   {
    "duration": 2,
    "start_time": "2024-08-20T02:56:18.233Z"
   },
   {
    "duration": 29,
    "start_time": "2024-08-20T02:56:19.004Z"
   },
   {
    "duration": 11,
    "start_time": "2024-08-20T02:56:35.905Z"
   },
   {
    "duration": 29,
    "start_time": "2024-08-20T03:05:22.118Z"
   },
   {
    "duration": 8,
    "start_time": "2024-08-20T03:05:22.566Z"
   },
   {
    "duration": 10,
    "start_time": "2024-08-20T03:05:24.482Z"
   },
   {
    "duration": 180,
    "start_time": "2024-08-20T03:06:10.909Z"
   },
   {
    "duration": 9,
    "start_time": "2024-08-20T03:06:21.161Z"
   },
   {
    "duration": 8,
    "start_time": "2024-08-20T03:06:38.576Z"
   },
   {
    "duration": 14,
    "start_time": "2024-08-20T03:06:42.282Z"
   },
   {
    "duration": 8,
    "start_time": "2024-08-20T03:07:32.402Z"
   },
   {
    "duration": 11,
    "start_time": "2024-08-20T03:07:39.183Z"
   },
   {
    "duration": 6,
    "start_time": "2024-08-20T03:08:26.869Z"
   },
   {
    "duration": 6,
    "start_time": "2024-08-20T03:08:33.620Z"
   },
   {
    "duration": 5,
    "start_time": "2024-08-20T03:09:09.473Z"
   },
   {
    "duration": 4,
    "start_time": "2024-08-20T03:09:37.802Z"
   },
   {
    "duration": 4,
    "start_time": "2024-08-20T03:59:35.337Z"
   },
   {
    "duration": 3,
    "start_time": "2024-08-20T03:59:38.072Z"
   },
   {
    "duration": 82,
    "start_time": "2024-08-20T03:59:38.710Z"
   },
   {
    "duration": 8,
    "start_time": "2024-08-20T04:00:42.125Z"
   },
   {
    "duration": 8,
    "start_time": "2024-08-20T04:00:50.382Z"
   },
   {
    "duration": 10,
    "start_time": "2024-08-20T04:00:50.701Z"
   },
   {
    "duration": 3,
    "start_time": "2024-08-20T04:01:27.010Z"
   },
   {
    "duration": 3,
    "start_time": "2024-08-20T04:01:28.989Z"
   },
   {
    "duration": 6,
    "start_time": "2024-08-20T04:04:21.750Z"
   },
   {
    "duration": 5,
    "start_time": "2024-08-20T04:04:36.145Z"
   },
   {
    "duration": 8,
    "start_time": "2024-08-20T04:15:57.847Z"
   },
   {
    "duration": 13,
    "start_time": "2024-08-20T04:16:00.007Z"
   },
   {
    "duration": 7,
    "start_time": "2024-08-20T04:18:00.331Z"
   },
   {
    "duration": 6,
    "start_time": "2024-08-20T04:23:59.575Z"
   },
   {
    "duration": 8,
    "start_time": "2024-08-20T04:25:05.916Z"
   },
   {
    "duration": 7,
    "start_time": "2024-08-20T04:26:16.238Z"
   },
   {
    "duration": 6,
    "start_time": "2024-08-20T04:27:55.221Z"
   },
   {
    "duration": 10,
    "start_time": "2024-08-20T04:28:01.516Z"
   },
   {
    "duration": 12,
    "start_time": "2024-08-20T04:28:05.730Z"
   },
   {
    "duration": 8,
    "start_time": "2024-08-20T04:28:15.037Z"
   },
   {
    "duration": 21,
    "start_time": "2024-08-20T04:28:29.832Z"
   },
   {
    "duration": 21,
    "start_time": "2024-08-20T04:29:15.921Z"
   },
   {
    "duration": 6,
    "start_time": "2024-08-20T04:30:05.453Z"
   },
   {
    "duration": 5,
    "start_time": "2024-08-20T04:30:06.238Z"
   },
   {
    "duration": 66,
    "start_time": "2024-08-20T04:31:00.507Z"
   },
   {
    "duration": 7,
    "start_time": "2024-08-20T04:31:08.701Z"
   },
   {
    "duration": 5,
    "start_time": "2024-08-20T04:31:42.514Z"
   },
   {
    "duration": 4,
    "start_time": "2024-08-20T04:32:01.729Z"
   },
   {
    "duration": 855,
    "start_time": "2024-08-20T04:32:19.773Z"
   },
   {
    "duration": 5,
    "start_time": "2024-08-20T04:32:27.393Z"
   },
   {
    "duration": 5,
    "start_time": "2024-08-20T04:32:52.922Z"
   },
   {
    "duration": 5,
    "start_time": "2024-08-20T04:33:00.327Z"
   },
   {
    "duration": 6,
    "start_time": "2024-08-20T04:33:10.154Z"
   },
   {
    "duration": 6,
    "start_time": "2024-08-20T04:33:20.053Z"
   },
   {
    "duration": 6,
    "start_time": "2024-08-20T04:33:26.783Z"
   },
   {
    "duration": 6,
    "start_time": "2024-08-20T04:33:33.163Z"
   },
   {
    "duration": 7,
    "start_time": "2024-08-20T04:33:41.951Z"
   },
   {
    "duration": 50,
    "start_time": "2024-08-20T09:04:12.820Z"
   },
   {
    "duration": 439,
    "start_time": "2024-08-20T09:04:18.946Z"
   },
   {
    "duration": 2,
    "start_time": "2024-08-20T09:04:19.389Z"
   },
   {
    "duration": 289,
    "start_time": "2024-08-20T09:04:19.392Z"
   },
   {
    "duration": 15,
    "start_time": "2024-08-20T09:04:19.683Z"
   },
   {
    "duration": 11,
    "start_time": "2024-08-20T09:04:19.701Z"
   },
   {
    "duration": 20,
    "start_time": "2024-08-20T09:04:19.714Z"
   },
   {
    "duration": 11,
    "start_time": "2024-08-20T09:04:19.736Z"
   },
   {
    "duration": 9,
    "start_time": "2024-08-20T09:04:19.749Z"
   },
   {
    "duration": 11,
    "start_time": "2024-08-20T09:04:19.759Z"
   },
   {
    "duration": 14,
    "start_time": "2024-08-20T09:04:19.771Z"
   },
   {
    "duration": 27,
    "start_time": "2024-08-20T09:04:19.786Z"
   },
   {
    "duration": 6,
    "start_time": "2024-08-20T09:04:19.815Z"
   },
   {
    "duration": 32,
    "start_time": "2024-08-20T09:04:19.822Z"
   },
   {
    "duration": 8,
    "start_time": "2024-08-20T09:04:19.857Z"
   },
   {
    "duration": 17,
    "start_time": "2024-08-20T09:04:19.867Z"
   },
   {
    "duration": 12,
    "start_time": "2024-08-20T09:04:19.886Z"
   },
   {
    "duration": 9,
    "start_time": "2024-08-20T09:04:19.900Z"
   },
   {
    "duration": 5,
    "start_time": "2024-08-20T09:04:42.610Z"
   },
   {
    "duration": 4,
    "start_time": "2024-08-20T09:04:50.535Z"
   },
   {
    "duration": 4,
    "start_time": "2024-08-20T09:05:20.259Z"
   },
   {
    "duration": 6,
    "start_time": "2024-08-20T09:05:27.092Z"
   },
   {
    "duration": 7,
    "start_time": "2024-08-20T09:05:41.157Z"
   },
   {
    "duration": 455,
    "start_time": "2024-08-20T09:08:01.936Z"
   },
   {
    "duration": 8,
    "start_time": "2024-08-20T09:09:49.791Z"
   },
   {
    "duration": 76,
    "start_time": "2024-08-20T09:15:26.204Z"
   },
   {
    "duration": 16,
    "start_time": "2024-08-20T09:15:32.226Z"
   },
   {
    "duration": 15,
    "start_time": "2024-08-20T09:15:50.180Z"
   },
   {
    "duration": 1600,
    "start_time": "2024-08-20T09:19:36.470Z"
   },
   {
    "duration": 14,
    "start_time": "2024-08-20T09:19:48.719Z"
   },
   {
    "duration": 12,
    "start_time": "2024-08-20T09:20:06.111Z"
   },
   {
    "duration": 10,
    "start_time": "2024-08-20T09:23:20.076Z"
   },
   {
    "duration": 12,
    "start_time": "2024-08-20T09:28:24.045Z"
   },
   {
    "duration": 11,
    "start_time": "2024-08-20T09:28:29.141Z"
   },
   {
    "duration": 10,
    "start_time": "2024-08-20T09:28:36.865Z"
   },
   {
    "duration": 379,
    "start_time": "2024-08-20T09:28:52.586Z"
   },
   {
    "duration": 2,
    "start_time": "2024-08-20T09:28:52.968Z"
   },
   {
    "duration": 76,
    "start_time": "2024-08-20T09:28:52.971Z"
   },
   {
    "duration": 15,
    "start_time": "2024-08-20T09:28:53.049Z"
   },
   {
    "duration": 11,
    "start_time": "2024-08-20T09:28:53.067Z"
   },
   {
    "duration": 8,
    "start_time": "2024-08-20T09:28:53.080Z"
   },
   {
    "duration": 11,
    "start_time": "2024-08-20T09:28:53.089Z"
   },
   {
    "duration": 9,
    "start_time": "2024-08-20T09:28:53.101Z"
   },
   {
    "duration": 10,
    "start_time": "2024-08-20T09:28:53.111Z"
   },
   {
    "duration": 7,
    "start_time": "2024-08-20T09:28:53.153Z"
   },
   {
    "duration": 31,
    "start_time": "2024-08-20T09:28:53.162Z"
   },
   {
    "duration": 6,
    "start_time": "2024-08-20T09:28:53.195Z"
   },
   {
    "duration": 9,
    "start_time": "2024-08-20T09:28:53.202Z"
   },
   {
    "duration": 5,
    "start_time": "2024-08-20T09:28:53.213Z"
   },
   {
    "duration": 37,
    "start_time": "2024-08-20T09:28:53.219Z"
   },
   {
    "duration": 13,
    "start_time": "2024-08-20T09:28:53.257Z"
   },
   {
    "duration": 10,
    "start_time": "2024-08-20T09:28:53.271Z"
   },
   {
    "duration": 13,
    "start_time": "2024-08-20T09:28:53.282Z"
   },
   {
    "duration": 12,
    "start_time": "2024-08-20T09:28:53.297Z"
   },
   {
    "duration": 5,
    "start_time": "2024-08-20T09:41:49.833Z"
   },
   {
    "duration": 5,
    "start_time": "2024-08-20T09:43:50.298Z"
   },
   {
    "duration": 17,
    "start_time": "2024-08-20T09:49:50.254Z"
   },
   {
    "duration": 6,
    "start_time": "2024-08-20T09:59:32.008Z"
   },
   {
    "duration": 11,
    "start_time": "2024-08-20T09:59:35.801Z"
   },
   {
    "duration": 6,
    "start_time": "2024-08-20T10:03:05.440Z"
   },
   {
    "duration": 86,
    "start_time": "2024-08-20T10:04:14.068Z"
   },
   {
    "duration": 18,
    "start_time": "2024-08-20T10:04:33.116Z"
   },
   {
    "duration": 18,
    "start_time": "2024-08-20T10:04:56.003Z"
   },
   {
    "duration": 837,
    "start_time": "2024-08-20T10:05:02.660Z"
   },
   {
    "duration": 4,
    "start_time": "2024-08-20T10:05:03.499Z"
   },
   {
    "duration": 92,
    "start_time": "2024-08-20T10:05:03.504Z"
   },
   {
    "duration": 13,
    "start_time": "2024-08-20T10:05:03.598Z"
   },
   {
    "duration": 27,
    "start_time": "2024-08-20T10:05:03.612Z"
   },
   {
    "duration": 9,
    "start_time": "2024-08-20T10:05:03.640Z"
   },
   {
    "duration": 17,
    "start_time": "2024-08-20T10:05:03.651Z"
   },
   {
    "duration": 18,
    "start_time": "2024-08-20T10:05:03.669Z"
   },
   {
    "duration": 16,
    "start_time": "2024-08-20T10:05:03.689Z"
   },
   {
    "duration": 36,
    "start_time": "2024-08-20T10:05:03.708Z"
   },
   {
    "duration": 27,
    "start_time": "2024-08-20T10:05:03.745Z"
   },
   {
    "duration": 6,
    "start_time": "2024-08-20T10:05:03.773Z"
   },
   {
    "duration": 15,
    "start_time": "2024-08-20T10:05:03.781Z"
   },
   {
    "duration": 5,
    "start_time": "2024-08-20T10:05:03.797Z"
   },
   {
    "duration": 8,
    "start_time": "2024-08-20T10:05:03.804Z"
   },
   {
    "duration": 14,
    "start_time": "2024-08-20T10:05:03.813Z"
   },
   {
    "duration": 27,
    "start_time": "2024-08-20T10:05:03.829Z"
   },
   {
    "duration": 16,
    "start_time": "2024-08-20T10:05:03.858Z"
   },
   {
    "duration": 10,
    "start_time": "2024-08-20T10:05:03.876Z"
   },
   {
    "duration": 13,
    "start_time": "2024-08-20T10:05:03.888Z"
   },
   {
    "duration": 115,
    "start_time": "2024-08-20T10:05:03.902Z"
   },
   {
    "duration": 0,
    "start_time": "2024-08-20T10:05:04.019Z"
   },
   {
    "duration": 25,
    "start_time": "2024-08-20T10:05:27.272Z"
   },
   {
    "duration": 162,
    "start_time": "2024-08-20T10:06:24.733Z"
   },
   {
    "duration": 271,
    "start_time": "2024-08-20T10:06:34.989Z"
   },
   {
    "duration": 267,
    "start_time": "2024-08-20T10:06:41.886Z"
   },
   {
    "duration": 275,
    "start_time": "2024-08-20T10:07:11.850Z"
   },
   {
    "duration": 3,
    "start_time": "2024-08-20T10:07:33.196Z"
   },
   {
    "duration": 169,
    "start_time": "2024-08-20T10:07:39.680Z"
   },
   {
    "duration": 196,
    "start_time": "2024-08-20T10:08:13.592Z"
   },
   {
    "duration": 539,
    "start_time": "2024-08-20T10:08:18.756Z"
   },
   {
    "duration": 184,
    "start_time": "2024-08-20T10:08:20.664Z"
   },
   {
    "duration": 206,
    "start_time": "2024-08-20T10:08:25.557Z"
   },
   {
    "duration": 217,
    "start_time": "2024-08-20T10:08:44.196Z"
   },
   {
    "duration": 214,
    "start_time": "2024-08-20T10:09:25.291Z"
   },
   {
    "duration": 208,
    "start_time": "2024-08-20T10:09:47.847Z"
   },
   {
    "duration": 185,
    "start_time": "2024-08-20T10:15:36.557Z"
   },
   {
    "duration": 184,
    "start_time": "2024-08-20T10:16:39.379Z"
   },
   {
    "duration": 209,
    "start_time": "2024-08-20T10:16:52.650Z"
   },
   {
    "duration": 210,
    "start_time": "2024-08-20T10:17:13.565Z"
   },
   {
    "duration": 201,
    "start_time": "2024-08-20T10:17:22.120Z"
   },
   {
    "duration": 430,
    "start_time": "2024-08-20T10:17:57.845Z"
   },
   {
    "duration": 266,
    "start_time": "2024-08-20T10:18:45.589Z"
   },
   {
    "duration": 223,
    "start_time": "2024-08-20T10:18:53.860Z"
   },
   {
    "duration": 340,
    "start_time": "2024-08-20T10:20:18.650Z"
   },
   {
    "duration": 356,
    "start_time": "2024-08-20T10:20:36.143Z"
   },
   {
    "duration": 331,
    "start_time": "2024-08-20T10:20:45.149Z"
   },
   {
    "duration": 317,
    "start_time": "2024-08-20T10:20:53.659Z"
   },
   {
    "duration": 287,
    "start_time": "2024-08-20T10:21:04.593Z"
   },
   {
    "duration": 9,
    "start_time": "2024-08-20T10:29:30.197Z"
   },
   {
    "duration": 4,
    "start_time": "2024-08-20T10:30:27.358Z"
   },
   {
    "duration": 12,
    "start_time": "2024-08-20T10:30:31.463Z"
   },
   {
    "duration": 14,
    "start_time": "2024-08-20T10:36:19.606Z"
   },
   {
    "duration": 11,
    "start_time": "2024-08-20T10:36:49.692Z"
   },
   {
    "duration": 14,
    "start_time": "2024-08-20T10:36:55.182Z"
   },
   {
    "duration": 6,
    "start_time": "2024-08-20T10:36:59.530Z"
   },
   {
    "duration": 218,
    "start_time": "2024-08-20T10:37:40.408Z"
   },
   {
    "duration": 208,
    "start_time": "2024-08-20T11:10:48.697Z"
   },
   {
    "duration": 215,
    "start_time": "2024-08-20T11:11:18.932Z"
   },
   {
    "duration": 287,
    "start_time": "2024-08-20T11:11:45.960Z"
   },
   {
    "duration": 226,
    "start_time": "2024-08-20T11:13:21.679Z"
   },
   {
    "duration": 15,
    "start_time": "2024-08-20T11:14:28.612Z"
   },
   {
    "duration": 20,
    "start_time": "2024-08-20T11:15:22.053Z"
   },
   {
    "duration": 109,
    "start_time": "2024-08-20T11:15:48.557Z"
   },
   {
    "duration": 18,
    "start_time": "2024-08-20T11:15:52.324Z"
   },
   {
    "duration": 18,
    "start_time": "2024-08-20T11:16:00.773Z"
   },
   {
    "duration": 18,
    "start_time": "2024-08-20T11:16:10.127Z"
   },
   {
    "duration": 10,
    "start_time": "2024-08-20T11:16:20.251Z"
   },
   {
    "duration": 10,
    "start_time": "2024-08-20T11:16:37.517Z"
   },
   {
    "duration": 10,
    "start_time": "2024-08-20T11:16:52.876Z"
   },
   {
    "duration": 13,
    "start_time": "2024-08-20T11:17:08.024Z"
   },
   {
    "duration": 18,
    "start_time": "2024-08-20T11:17:13.892Z"
   },
   {
    "duration": 10,
    "start_time": "2024-08-20T11:17:23.619Z"
   },
   {
    "duration": 11,
    "start_time": "2024-08-20T11:17:31.491Z"
   },
   {
    "duration": 8,
    "start_time": "2024-08-20T11:18:26.238Z"
   },
   {
    "duration": 13,
    "start_time": "2024-08-20T11:18:41.864Z"
   },
   {
    "duration": 72,
    "start_time": "2024-08-20T11:20:14.444Z"
   },
   {
    "duration": 74,
    "start_time": "2024-08-20T11:20:20.455Z"
   },
   {
    "duration": 79,
    "start_time": "2024-08-20T11:20:26.601Z"
   },
   {
    "duration": 74,
    "start_time": "2024-08-20T11:20:35.949Z"
   },
   {
    "duration": 17,
    "start_time": "2024-08-20T11:21:05.388Z"
   },
   {
    "duration": 15,
    "start_time": "2024-08-20T11:21:22.104Z"
   },
   {
    "duration": 14,
    "start_time": "2024-08-20T11:21:36.701Z"
   },
   {
    "duration": 18,
    "start_time": "2024-08-20T11:21:41.577Z"
   },
   {
    "duration": 17,
    "start_time": "2024-08-20T11:21:56.354Z"
   },
   {
    "duration": 17,
    "start_time": "2024-08-20T11:22:03.936Z"
   },
   {
    "duration": 12,
    "start_time": "2024-08-20T11:22:10.864Z"
   },
   {
    "duration": 1103,
    "start_time": "2024-08-20T11:22:41.434Z"
   },
   {
    "duration": 978,
    "start_time": "2024-08-20T11:22:49.611Z"
   },
   {
    "duration": 17,
    "start_time": "2024-08-20T11:23:02.131Z"
   },
   {
    "duration": 68,
    "start_time": "2024-08-20T11:23:24.542Z"
   },
   {
    "duration": 19,
    "start_time": "2024-08-20T11:23:33.026Z"
   },
   {
    "duration": 19,
    "start_time": "2024-08-20T11:23:38.017Z"
   },
   {
    "duration": 17,
    "start_time": "2024-08-20T11:23:57.594Z"
   },
   {
    "duration": 18,
    "start_time": "2024-08-20T11:24:07.987Z"
   },
   {
    "duration": 1294,
    "start_time": "2024-08-20T11:27:44.492Z"
   },
   {
    "duration": 1306,
    "start_time": "2024-08-20T11:28:00.176Z"
   },
   {
    "duration": 19,
    "start_time": "2024-08-20T11:28:04.705Z"
   },
   {
    "duration": 19,
    "start_time": "2024-08-20T11:28:14.928Z"
   },
   {
    "duration": 15,
    "start_time": "2024-08-20T11:28:18.536Z"
   },
   {
    "duration": 24,
    "start_time": "2024-08-20T11:28:24.475Z"
   },
   {
    "duration": 14,
    "start_time": "2024-08-20T11:28:44.860Z"
   },
   {
    "duration": 13,
    "start_time": "2024-08-20T11:29:16.241Z"
   },
   {
    "duration": 208,
    "start_time": "2024-08-20T11:30:03.990Z"
   },
   {
    "duration": 13,
    "start_time": "2024-08-20T11:30:12.567Z"
   },
   {
    "duration": 201,
    "start_time": "2024-08-20T11:30:13.577Z"
   },
   {
    "duration": 13,
    "start_time": "2024-08-20T11:30:30.157Z"
   },
   {
    "duration": 213,
    "start_time": "2024-08-20T11:30:30.928Z"
   },
   {
    "duration": 214,
    "start_time": "2024-08-20T11:38:07.555Z"
   },
   {
    "duration": 200,
    "start_time": "2024-08-20T11:39:31.584Z"
   },
   {
    "duration": 195,
    "start_time": "2024-08-20T11:40:02.836Z"
   },
   {
    "duration": 218,
    "start_time": "2024-08-20T11:40:11.884Z"
   },
   {
    "duration": 205,
    "start_time": "2024-08-20T11:40:22.035Z"
   },
   {
    "duration": 346,
    "start_time": "2024-08-20T11:43:39.735Z"
   },
   {
    "duration": 389,
    "start_time": "2024-08-20T11:45:01.992Z"
   },
   {
    "duration": 212,
    "start_time": "2024-08-20T11:52:03.853Z"
   },
   {
    "duration": 311,
    "start_time": "2024-08-20T11:52:08.192Z"
   },
   {
    "duration": 11,
    "start_time": "2024-08-20T15:49:28.146Z"
   },
   {
    "duration": 13,
    "start_time": "2024-08-20T15:50:45.378Z"
   },
   {
    "duration": 11,
    "start_time": "2024-08-20T15:50:51.055Z"
   },
   {
    "duration": 12,
    "start_time": "2024-08-20T15:51:19.715Z"
   },
   {
    "duration": 117,
    "start_time": "2024-08-20T15:51:51.895Z"
   },
   {
    "duration": 119,
    "start_time": "2024-08-20T15:51:59.347Z"
   },
   {
    "duration": 5,
    "start_time": "2024-08-20T15:52:48.123Z"
   },
   {
    "duration": 5,
    "start_time": "2024-08-20T15:52:50.975Z"
   },
   {
    "duration": 121,
    "start_time": "2024-08-20T15:54:18.099Z"
   },
   {
    "duration": 7,
    "start_time": "2024-08-20T15:55:33.091Z"
   },
   {
    "duration": 4,
    "start_time": "2024-08-20T15:55:38.036Z"
   },
   {
    "duration": 121,
    "start_time": "2024-08-20T15:57:02.106Z"
   },
   {
    "duration": 103,
    "start_time": "2024-08-20T15:57:17.088Z"
   },
   {
    "duration": 124,
    "start_time": "2024-08-20T15:57:26.317Z"
   },
   {
    "duration": 121,
    "start_time": "2024-08-20T15:57:32.720Z"
   },
   {
    "duration": 583,
    "start_time": "2024-08-20T15:58:57.398Z"
   },
   {
    "duration": 2,
    "start_time": "2024-08-20T15:58:57.983Z"
   },
   {
    "duration": 107,
    "start_time": "2024-08-20T15:58:57.986Z"
   },
   {
    "duration": 10,
    "start_time": "2024-08-20T15:58:58.095Z"
   },
   {
    "duration": 15,
    "start_time": "2024-08-20T15:58:58.107Z"
   },
   {
    "duration": 9,
    "start_time": "2024-08-20T15:58:58.124Z"
   },
   {
    "duration": 11,
    "start_time": "2024-08-20T15:58:58.134Z"
   },
   {
    "duration": 6,
    "start_time": "2024-08-20T15:58:58.147Z"
   },
   {
    "duration": 10,
    "start_time": "2024-08-20T15:58:58.155Z"
   },
   {
    "duration": 11,
    "start_time": "2024-08-20T15:58:58.167Z"
   },
   {
    "duration": 21,
    "start_time": "2024-08-20T15:58:58.179Z"
   },
   {
    "duration": 5,
    "start_time": "2024-08-20T15:58:58.201Z"
   },
   {
    "duration": 4,
    "start_time": "2024-08-20T15:58:58.207Z"
   },
   {
    "duration": 4,
    "start_time": "2024-08-20T15:58:58.214Z"
   },
   {
    "duration": 37,
    "start_time": "2024-08-20T15:58:58.219Z"
   },
   {
    "duration": 8,
    "start_time": "2024-08-20T15:58:58.257Z"
   },
   {
    "duration": 9,
    "start_time": "2024-08-20T15:58:58.266Z"
   },
   {
    "duration": 13,
    "start_time": "2024-08-20T15:58:58.276Z"
   },
   {
    "duration": 10,
    "start_time": "2024-08-20T15:58:58.291Z"
   },
   {
    "duration": 15,
    "start_time": "2024-08-20T15:58:58.302Z"
   },
   {
    "duration": 307,
    "start_time": "2024-08-20T15:58:58.318Z"
   },
   {
    "duration": 279,
    "start_time": "2024-08-20T15:58:58.627Z"
   },
   {
    "duration": 16,
    "start_time": "2024-08-20T15:58:58.908Z"
   },
   {
    "duration": 27,
    "start_time": "2024-08-20T15:58:58.926Z"
   },
   {
    "duration": 198,
    "start_time": "2024-08-20T15:58:58.955Z"
   },
   {
    "duration": 191,
    "start_time": "2024-08-20T15:58:59.155Z"
   },
   {
    "duration": 240,
    "start_time": "2024-08-20T15:58:59.348Z"
   },
   {
    "duration": 294,
    "start_time": "2024-08-20T15:58:59.590Z"
   },
   {
    "duration": 198,
    "start_time": "2024-08-20T15:58:59.886Z"
   },
   {
    "duration": 296,
    "start_time": "2024-08-20T15:59:00.085Z"
   },
   {
    "duration": 131,
    "start_time": "2024-08-20T15:59:00.383Z"
   },
   {
    "duration": 4,
    "start_time": "2024-08-20T15:59:00.516Z"
   },
   {
    "duration": 132,
    "start_time": "2024-08-20T15:59:00.522Z"
   },
   {
    "duration": 133,
    "start_time": "2024-08-20T15:59:00.656Z"
   },
   {
    "duration": 4,
    "start_time": "2024-08-20T15:59:00.791Z"
   },
   {
    "duration": 4,
    "start_time": "2024-08-20T15:59:14.794Z"
   },
   {
    "duration": 532,
    "start_time": "2024-08-20T16:06:36.587Z"
   },
   {
    "duration": 12,
    "start_time": "2024-08-20T16:08:08.856Z"
   },
   {
    "duration": 1057,
    "start_time": "2024-08-20T16:08:35.142Z"
   },
   {
    "duration": 2,
    "start_time": "2024-08-20T16:08:36.201Z"
   },
   {
    "duration": 79,
    "start_time": "2024-08-20T16:08:36.204Z"
   },
   {
    "duration": 13,
    "start_time": "2024-08-20T16:08:36.285Z"
   },
   {
    "duration": 10,
    "start_time": "2024-08-20T16:08:36.300Z"
   },
   {
    "duration": 7,
    "start_time": "2024-08-20T16:08:36.312Z"
   },
   {
    "duration": 9,
    "start_time": "2024-08-20T16:08:36.320Z"
   },
   {
    "duration": 12,
    "start_time": "2024-08-20T16:08:36.331Z"
   },
   {
    "duration": 10,
    "start_time": "2024-08-20T16:08:36.344Z"
   },
   {
    "duration": 9,
    "start_time": "2024-08-20T16:08:36.355Z"
   },
   {
    "duration": 19,
    "start_time": "2024-08-20T16:08:36.366Z"
   },
   {
    "duration": 7,
    "start_time": "2024-08-20T16:08:36.387Z"
   },
   {
    "duration": 4,
    "start_time": "2024-08-20T16:08:36.395Z"
   },
   {
    "duration": 15,
    "start_time": "2024-08-20T16:08:36.401Z"
   },
   {
    "duration": 4,
    "start_time": "2024-08-20T16:08:36.418Z"
   },
   {
    "duration": 33,
    "start_time": "2024-08-20T16:08:36.424Z"
   },
   {
    "duration": 15,
    "start_time": "2024-08-20T16:08:36.458Z"
   },
   {
    "duration": 21,
    "start_time": "2024-08-20T16:08:36.474Z"
   },
   {
    "duration": 10,
    "start_time": "2024-08-20T16:08:36.497Z"
   },
   {
    "duration": 10,
    "start_time": "2024-08-20T16:08:36.508Z"
   },
   {
    "duration": 269,
    "start_time": "2024-08-20T16:08:36.519Z"
   },
   {
    "duration": 272,
    "start_time": "2024-08-20T16:08:36.790Z"
   },
   {
    "duration": 16,
    "start_time": "2024-08-20T16:08:37.063Z"
   },
   {
    "duration": 12,
    "start_time": "2024-08-20T16:08:37.080Z"
   },
   {
    "duration": 216,
    "start_time": "2024-08-20T16:08:37.093Z"
   },
   {
    "duration": 199,
    "start_time": "2024-08-20T16:08:37.310Z"
   },
   {
    "duration": 214,
    "start_time": "2024-08-20T16:08:37.511Z"
   },
   {
    "duration": 345,
    "start_time": "2024-08-20T16:08:37.726Z"
   },
   {
    "duration": 226,
    "start_time": "2024-08-20T16:08:38.073Z"
   },
   {
    "duration": 278,
    "start_time": "2024-08-20T16:08:38.301Z"
   },
   {
    "duration": 116,
    "start_time": "2024-08-20T16:08:38.580Z"
   },
   {
    "duration": 4,
    "start_time": "2024-08-20T16:08:38.697Z"
   },
   {
    "duration": 205,
    "start_time": "2024-08-20T16:08:38.702Z"
   },
   {
    "duration": 116,
    "start_time": "2024-08-20T16:08:38.908Z"
   },
   {
    "duration": 4,
    "start_time": "2024-08-20T16:08:39.025Z"
   },
   {
    "duration": 24,
    "start_time": "2024-08-20T16:08:39.031Z"
   },
   {
    "duration": 186,
    "start_time": "2024-08-20T16:08:39.057Z"
   },
   {
    "duration": 101,
    "start_time": "2024-08-20T16:09:01.992Z"
   },
   {
    "duration": 99,
    "start_time": "2024-08-20T16:09:24.532Z"
   },
   {
    "duration": 94,
    "start_time": "2024-08-20T16:10:11.433Z"
   },
   {
    "duration": 94,
    "start_time": "2024-08-20T16:10:37.664Z"
   },
   {
    "duration": 83,
    "start_time": "2024-08-20T16:10:44.891Z"
   },
   {
    "duration": 91,
    "start_time": "2024-08-20T16:11:09.362Z"
   },
   {
    "duration": 92,
    "start_time": "2024-08-20T16:11:23.043Z"
   },
   {
    "duration": 91,
    "start_time": "2024-08-20T16:12:22.920Z"
   },
   {
    "duration": 13,
    "start_time": "2024-08-20T16:12:40.806Z"
   },
   {
    "duration": 12,
    "start_time": "2024-08-20T16:12:41.496Z"
   },
   {
    "duration": 182,
    "start_time": "2024-08-20T16:12:42.709Z"
   },
   {
    "duration": 179,
    "start_time": "2024-08-20T16:12:44.799Z"
   },
   {
    "duration": 188,
    "start_time": "2024-08-20T16:12:45.668Z"
   },
   {
    "duration": 317,
    "start_time": "2024-08-20T16:12:48.225Z"
   },
   {
    "duration": 179,
    "start_time": "2024-08-20T16:12:49.529Z"
   },
   {
    "duration": 278,
    "start_time": "2024-08-20T16:12:50.182Z"
   },
   {
    "duration": 112,
    "start_time": "2024-08-20T16:12:52.260Z"
   },
   {
    "duration": 4,
    "start_time": "2024-08-20T16:12:53.317Z"
   },
   {
    "duration": 111,
    "start_time": "2024-08-20T16:12:54.474Z"
   },
   {
    "duration": 122,
    "start_time": "2024-08-20T16:12:54.994Z"
   },
   {
    "duration": 3,
    "start_time": "2024-08-20T16:12:56.447Z"
   },
   {
    "duration": 12,
    "start_time": "2024-08-20T16:12:57.421Z"
   },
   {
    "duration": 173,
    "start_time": "2024-08-20T16:12:59.782Z"
   },
   {
    "duration": 139,
    "start_time": "2024-08-20T16:13:46.024Z"
   },
   {
    "duration": 211,
    "start_time": "2024-08-20T16:13:50.702Z"
   },
   {
    "duration": 13,
    "start_time": "2024-08-20T16:14:13.144Z"
   },
   {
    "duration": 130,
    "start_time": "2024-08-20T16:14:41.574Z"
   },
   {
    "duration": 8,
    "start_time": "2024-08-20T16:14:53.704Z"
   },
   {
    "duration": 27,
    "start_time": "2024-08-20T16:16:02.852Z"
   },
   {
    "duration": 9,
    "start_time": "2024-08-20T16:17:47.120Z"
   },
   {
    "duration": 10,
    "start_time": "2024-08-20T16:19:12.546Z"
   },
   {
    "duration": 8,
    "start_time": "2024-08-20T16:20:26.860Z"
   },
   {
    "duration": 7,
    "start_time": "2024-08-20T16:21:23.344Z"
   },
   {
    "duration": 8,
    "start_time": "2024-08-20T16:21:56.568Z"
   },
   {
    "duration": 23,
    "start_time": "2024-08-20T16:22:09.441Z"
   },
   {
    "duration": 8,
    "start_time": "2024-08-20T16:23:18.216Z"
   },
   {
    "duration": 7,
    "start_time": "2024-08-20T16:23:49.858Z"
   },
   {
    "duration": 22,
    "start_time": "2024-08-20T16:23:59.008Z"
   },
   {
    "duration": 1209,
    "start_time": "2024-08-20T16:24:26.118Z"
   },
   {
    "duration": 12,
    "start_time": "2024-08-20T16:24:39.929Z"
   },
   {
    "duration": 315,
    "start_time": "2024-08-20T16:40:06.357Z"
   },
   {
    "duration": 15,
    "start_time": "2024-08-20T16:40:27.804Z"
   },
   {
    "duration": 205,
    "start_time": "2024-08-20T16:41:15.620Z"
   },
   {
    "duration": 207,
    "start_time": "2024-08-20T16:41:27.313Z"
   },
   {
    "duration": 198,
    "start_time": "2024-08-20T16:41:44.574Z"
   },
   {
    "duration": 1071,
    "start_time": "2024-08-20T16:41:50.921Z"
   },
   {
    "duration": 2,
    "start_time": "2024-08-20T16:41:51.994Z"
   },
   {
    "duration": 101,
    "start_time": "2024-08-20T16:41:51.997Z"
   },
   {
    "duration": 11,
    "start_time": "2024-08-20T16:41:52.099Z"
   },
   {
    "duration": 17,
    "start_time": "2024-08-20T16:41:52.112Z"
   },
   {
    "duration": 22,
    "start_time": "2024-08-20T16:41:52.130Z"
   },
   {
    "duration": 64,
    "start_time": "2024-08-20T16:41:52.153Z"
   },
   {
    "duration": 19,
    "start_time": "2024-08-20T16:41:52.218Z"
   },
   {
    "duration": 11,
    "start_time": "2024-08-20T16:41:52.239Z"
   },
   {
    "duration": 13,
    "start_time": "2024-08-20T16:41:52.252Z"
   },
   {
    "duration": 24,
    "start_time": "2024-08-20T16:41:52.266Z"
   },
   {
    "duration": 6,
    "start_time": "2024-08-20T16:41:52.292Z"
   },
   {
    "duration": 7,
    "start_time": "2024-08-20T16:41:52.299Z"
   },
   {
    "duration": 5,
    "start_time": "2024-08-20T16:41:52.309Z"
   },
   {
    "duration": 39,
    "start_time": "2024-08-20T16:41:52.315Z"
   },
   {
    "duration": 8,
    "start_time": "2024-08-20T16:41:52.356Z"
   },
   {
    "duration": 13,
    "start_time": "2024-08-20T16:41:52.366Z"
   },
   {
    "duration": 24,
    "start_time": "2024-08-20T16:41:52.380Z"
   },
   {
    "duration": 20,
    "start_time": "2024-08-20T16:41:52.406Z"
   },
   {
    "duration": 32,
    "start_time": "2024-08-20T16:41:52.428Z"
   },
   {
    "duration": 295,
    "start_time": "2024-08-20T16:41:52.461Z"
   },
   {
    "duration": 286,
    "start_time": "2024-08-20T16:41:52.757Z"
   },
   {
    "duration": 9,
    "start_time": "2024-08-20T16:41:53.045Z"
   },
   {
    "duration": 1208,
    "start_time": "2024-08-20T16:41:53.056Z"
   },
   {
    "duration": 0,
    "start_time": "2024-08-20T16:41:54.267Z"
   },
   {
    "duration": 0,
    "start_time": "2024-08-20T16:41:54.268Z"
   },
   {
    "duration": 0,
    "start_time": "2024-08-20T16:41:54.269Z"
   },
   {
    "duration": 0,
    "start_time": "2024-08-20T16:41:54.271Z"
   },
   {
    "duration": 0,
    "start_time": "2024-08-20T16:41:54.272Z"
   },
   {
    "duration": 0,
    "start_time": "2024-08-20T16:41:54.274Z"
   },
   {
    "duration": 0,
    "start_time": "2024-08-20T16:41:54.275Z"
   },
   {
    "duration": 0,
    "start_time": "2024-08-20T16:41:54.276Z"
   },
   {
    "duration": 0,
    "start_time": "2024-08-20T16:41:54.278Z"
   },
   {
    "duration": 0,
    "start_time": "2024-08-20T16:41:54.279Z"
   },
   {
    "duration": 0,
    "start_time": "2024-08-20T16:41:54.281Z"
   },
   {
    "duration": 0,
    "start_time": "2024-08-20T16:41:54.283Z"
   },
   {
    "duration": 0,
    "start_time": "2024-08-20T16:41:54.284Z"
   },
   {
    "duration": 0,
    "start_time": "2024-08-20T16:41:54.286Z"
   },
   {
    "duration": 1,
    "start_time": "2024-08-20T16:41:54.287Z"
   },
   {
    "duration": 0,
    "start_time": "2024-08-20T16:41:54.289Z"
   },
   {
    "duration": 0,
    "start_time": "2024-08-20T16:41:54.290Z"
   },
   {
    "duration": 193,
    "start_time": "2024-08-20T16:42:56.540Z"
   },
   {
    "duration": 308,
    "start_time": "2024-08-20T16:43:28.596Z"
   },
   {
    "duration": 71,
    "start_time": "2024-08-20T16:43:37.871Z"
   },
   {
    "duration": 268,
    "start_time": "2024-08-20T16:43:41.302Z"
   },
   {
    "duration": 201,
    "start_time": "2024-08-20T16:43:46.202Z"
   },
   {
    "duration": 306,
    "start_time": "2024-08-20T16:43:50.825Z"
   },
   {
    "duration": 1087,
    "start_time": "2024-08-20T16:43:57.218Z"
   },
   {
    "duration": 2,
    "start_time": "2024-08-20T16:43:58.308Z"
   },
   {
    "duration": 81,
    "start_time": "2024-08-20T16:43:58.312Z"
   },
   {
    "duration": 10,
    "start_time": "2024-08-20T16:43:58.395Z"
   },
   {
    "duration": 23,
    "start_time": "2024-08-20T16:43:58.407Z"
   },
   {
    "duration": 7,
    "start_time": "2024-08-20T16:43:58.432Z"
   },
   {
    "duration": 9,
    "start_time": "2024-08-20T16:43:58.441Z"
   },
   {
    "duration": 7,
    "start_time": "2024-08-20T16:43:58.452Z"
   },
   {
    "duration": 9,
    "start_time": "2024-08-20T16:43:58.460Z"
   },
   {
    "duration": 7,
    "start_time": "2024-08-20T16:43:58.470Z"
   },
   {
    "duration": 20,
    "start_time": "2024-08-20T16:43:58.478Z"
   },
   {
    "duration": 5,
    "start_time": "2024-08-20T16:43:58.499Z"
   },
   {
    "duration": 7,
    "start_time": "2024-08-20T16:43:58.505Z"
   },
   {
    "duration": 18,
    "start_time": "2024-08-20T16:43:58.515Z"
   },
   {
    "duration": 7,
    "start_time": "2024-08-20T16:43:58.553Z"
   },
   {
    "duration": 7,
    "start_time": "2024-08-20T16:43:58.561Z"
   },
   {
    "duration": 7,
    "start_time": "2024-08-20T16:43:58.569Z"
   },
   {
    "duration": 10,
    "start_time": "2024-08-20T16:43:58.578Z"
   },
   {
    "duration": 10,
    "start_time": "2024-08-20T16:43:58.589Z"
   },
   {
    "duration": 18,
    "start_time": "2024-08-20T16:43:58.600Z"
   },
   {
    "duration": 262,
    "start_time": "2024-08-20T16:43:58.653Z"
   },
   {
    "duration": 277,
    "start_time": "2024-08-20T16:43:58.916Z"
   },
   {
    "duration": 192,
    "start_time": "2024-08-20T16:43:59.195Z"
   },
   {
    "duration": 294,
    "start_time": "2024-08-20T16:43:59.388Z"
   },
   {
    "duration": 211,
    "start_time": "2024-08-20T16:43:59.684Z"
   },
   {
    "duration": 301,
    "start_time": "2024-08-20T16:43:59.896Z"
   },
   {
    "duration": 138,
    "start_time": "2024-08-20T16:44:00.199Z"
   },
   {
    "duration": 15,
    "start_time": "2024-08-20T16:44:00.339Z"
   },
   {
    "duration": 157,
    "start_time": "2024-08-20T16:44:00.355Z"
   },
   {
    "duration": 124,
    "start_time": "2024-08-20T16:44:00.513Z"
   },
   {
    "duration": 4,
    "start_time": "2024-08-20T16:44:00.638Z"
   },
   {
    "duration": 26,
    "start_time": "2024-08-20T16:44:00.643Z"
   },
   {
    "duration": 271,
    "start_time": "2024-08-20T16:44:00.670Z"
   },
   {
    "duration": 142,
    "start_time": "2024-08-20T16:44:00.942Z"
   },
   {
    "duration": 24,
    "start_time": "2024-08-20T16:44:01.086Z"
   },
   {
    "duration": 9,
    "start_time": "2024-08-20T16:44:01.112Z"
   },
   {
    "duration": 8,
    "start_time": "2024-08-20T16:44:01.122Z"
   },
   {
    "duration": 27,
    "start_time": "2024-08-20T16:44:01.131Z"
   },
   {
    "duration": 33,
    "start_time": "2024-08-20T16:44:01.159Z"
   },
   {
    "duration": 13,
    "start_time": "2024-08-20T16:44:01.194Z"
   },
   {
    "duration": 8,
    "start_time": "2024-08-20T16:47:22.557Z"
   },
   {
    "duration": 7,
    "start_time": "2024-08-20T16:47:23.798Z"
   },
   {
    "duration": 25,
    "start_time": "2024-08-20T16:47:25.437Z"
   },
   {
    "duration": 12,
    "start_time": "2024-08-20T16:47:28.057Z"
   },
   {
    "duration": 1066,
    "start_time": "2024-08-20T16:59:49.061Z"
   },
   {
    "duration": 2,
    "start_time": "2024-08-20T16:59:50.129Z"
   },
   {
    "duration": 75,
    "start_time": "2024-08-20T16:59:50.135Z"
   },
   {
    "duration": 10,
    "start_time": "2024-08-20T16:59:50.212Z"
   },
   {
    "duration": 46,
    "start_time": "2024-08-20T16:59:50.223Z"
   },
   {
    "duration": 8,
    "start_time": "2024-08-20T16:59:50.271Z"
   },
   {
    "duration": 11,
    "start_time": "2024-08-20T16:59:50.281Z"
   },
   {
    "duration": 16,
    "start_time": "2024-08-20T16:59:50.293Z"
   },
   {
    "duration": 29,
    "start_time": "2024-08-20T16:59:50.311Z"
   },
   {
    "duration": 10,
    "start_time": "2024-08-20T16:59:50.341Z"
   },
   {
    "duration": 46,
    "start_time": "2024-08-20T16:59:50.352Z"
   },
   {
    "duration": 31,
    "start_time": "2024-08-20T16:59:50.399Z"
   },
   {
    "duration": 8,
    "start_time": "2024-08-20T16:59:50.432Z"
   },
   {
    "duration": 8,
    "start_time": "2024-08-20T16:59:50.441Z"
   },
   {
    "duration": 5,
    "start_time": "2024-08-20T16:59:50.450Z"
   },
   {
    "duration": 6,
    "start_time": "2024-08-20T16:59:50.456Z"
   },
   {
    "duration": 7,
    "start_time": "2024-08-20T16:59:50.464Z"
   },
   {
    "duration": 31,
    "start_time": "2024-08-20T16:59:50.473Z"
   },
   {
    "duration": 10,
    "start_time": "2024-08-20T16:59:50.506Z"
   },
   {
    "duration": 12,
    "start_time": "2024-08-20T16:59:50.517Z"
   },
   {
    "duration": 279,
    "start_time": "2024-08-20T16:59:50.530Z"
   },
   {
    "duration": 278,
    "start_time": "2024-08-20T16:59:50.811Z"
   },
   {
    "duration": 194,
    "start_time": "2024-08-20T16:59:51.090Z"
   },
   {
    "duration": 296,
    "start_time": "2024-08-20T16:59:51.285Z"
   },
   {
    "duration": 198,
    "start_time": "2024-08-20T16:59:51.583Z"
   },
   {
    "duration": 287,
    "start_time": "2024-08-20T16:59:51.783Z"
   },
   {
    "duration": 118,
    "start_time": "2024-08-20T16:59:52.073Z"
   },
   {
    "duration": 4,
    "start_time": "2024-08-20T16:59:52.192Z"
   },
   {
    "duration": 142,
    "start_time": "2024-08-20T16:59:52.197Z"
   },
   {
    "duration": 138,
    "start_time": "2024-08-20T16:59:52.341Z"
   },
   {
    "duration": 5,
    "start_time": "2024-08-20T16:59:52.481Z"
   },
   {
    "duration": 27,
    "start_time": "2024-08-20T16:59:52.488Z"
   },
   {
    "duration": 292,
    "start_time": "2024-08-20T16:59:52.517Z"
   },
   {
    "duration": 134,
    "start_time": "2024-08-20T16:59:52.811Z"
   },
   {
    "duration": 49,
    "start_time": "2024-08-20T16:59:52.947Z"
   },
   {
    "duration": 12,
    "start_time": "2024-08-20T16:59:52.998Z"
   },
   {
    "duration": 9,
    "start_time": "2024-08-20T16:59:53.012Z"
   },
   {
    "duration": 33,
    "start_time": "2024-08-20T16:59:53.023Z"
   },
   {
    "duration": 25,
    "start_time": "2024-08-20T16:59:53.058Z"
   },
   {
    "duration": 14,
    "start_time": "2024-08-20T16:59:53.085Z"
   },
   {
    "duration": 1041,
    "start_time": "2024-08-20T17:18:03.472Z"
   },
   {
    "duration": 2,
    "start_time": "2024-08-20T17:18:04.515Z"
   },
   {
    "duration": 130,
    "start_time": "2024-08-20T17:18:04.519Z"
   },
   {
    "duration": 11,
    "start_time": "2024-08-20T17:18:04.652Z"
   },
   {
    "duration": 21,
    "start_time": "2024-08-20T17:18:04.665Z"
   },
   {
    "duration": 18,
    "start_time": "2024-08-20T17:18:04.688Z"
   },
   {
    "duration": 31,
    "start_time": "2024-08-20T17:18:04.707Z"
   },
   {
    "duration": 13,
    "start_time": "2024-08-20T17:18:04.740Z"
   },
   {
    "duration": 39,
    "start_time": "2024-08-20T17:18:04.754Z"
   },
   {
    "duration": 39,
    "start_time": "2024-08-20T17:18:04.795Z"
   },
   {
    "duration": 41,
    "start_time": "2024-08-20T17:18:04.835Z"
   },
   {
    "duration": 33,
    "start_time": "2024-08-20T17:18:04.878Z"
   },
   {
    "duration": 20,
    "start_time": "2024-08-20T17:18:04.913Z"
   },
   {
    "duration": 25,
    "start_time": "2024-08-20T17:18:04.935Z"
   },
   {
    "duration": 9,
    "start_time": "2024-08-20T17:18:04.961Z"
   },
   {
    "duration": 11,
    "start_time": "2024-08-20T17:18:04.971Z"
   },
   {
    "duration": 15,
    "start_time": "2024-08-20T17:18:04.983Z"
   },
   {
    "duration": 15,
    "start_time": "2024-08-20T17:18:05.000Z"
   },
   {
    "duration": 27,
    "start_time": "2024-08-20T17:18:05.016Z"
   },
   {
    "duration": 12,
    "start_time": "2024-08-20T17:18:05.044Z"
   },
   {
    "duration": 289,
    "start_time": "2024-08-20T17:18:05.057Z"
   },
   {
    "duration": 286,
    "start_time": "2024-08-20T17:18:05.348Z"
   },
   {
    "duration": 199,
    "start_time": "2024-08-20T17:18:05.635Z"
   },
   {
    "duration": 332,
    "start_time": "2024-08-20T17:18:05.835Z"
   },
   {
    "duration": 212,
    "start_time": "2024-08-20T17:18:06.168Z"
   },
   {
    "duration": 291,
    "start_time": "2024-08-20T17:18:06.382Z"
   },
   {
    "duration": 120,
    "start_time": "2024-08-20T17:18:06.675Z"
   },
   {
    "duration": 4,
    "start_time": "2024-08-20T17:18:06.798Z"
   },
   {
    "duration": 132,
    "start_time": "2024-08-20T17:18:06.803Z"
   },
   {
    "duration": 135,
    "start_time": "2024-08-20T17:18:06.936Z"
   },
   {
    "duration": 4,
    "start_time": "2024-08-20T17:18:07.073Z"
   },
   {
    "duration": 42,
    "start_time": "2024-08-20T17:18:07.079Z"
   },
   {
    "duration": 294,
    "start_time": "2024-08-20T17:18:07.123Z"
   },
   {
    "duration": 136,
    "start_time": "2024-08-20T17:18:07.419Z"
   },
   {
    "duration": 27,
    "start_time": "2024-08-20T17:18:07.556Z"
   },
   {
    "duration": 36,
    "start_time": "2024-08-20T17:18:07.584Z"
   },
   {
    "duration": 9,
    "start_time": "2024-08-20T17:18:07.621Z"
   },
   {
    "duration": 10,
    "start_time": "2024-08-20T17:18:07.631Z"
   },
   {
    "duration": 25,
    "start_time": "2024-08-20T17:18:07.643Z"
   },
   {
    "duration": 15,
    "start_time": "2024-08-20T17:18:07.669Z"
   },
   {
    "duration": 53,
    "start_time": "2024-08-21T07:39:42.678Z"
   },
   {
    "duration": 1448,
    "start_time": "2024-08-21T07:39:48.089Z"
   },
   {
    "duration": 3,
    "start_time": "2024-08-21T07:39:49.539Z"
   },
   {
    "duration": 227,
    "start_time": "2024-08-21T07:39:49.543Z"
   },
   {
    "duration": 12,
    "start_time": "2024-08-21T07:39:49.772Z"
   },
   {
    "duration": 37,
    "start_time": "2024-08-21T07:39:49.786Z"
   },
   {
    "duration": 9,
    "start_time": "2024-08-21T07:39:49.825Z"
   },
   {
    "duration": 12,
    "start_time": "2024-08-21T07:39:49.835Z"
   },
   {
    "duration": 36,
    "start_time": "2024-08-21T07:39:49.849Z"
   },
   {
    "duration": 18,
    "start_time": "2024-08-21T07:39:49.887Z"
   },
   {
    "duration": 14,
    "start_time": "2024-08-21T07:39:49.908Z"
   },
   {
    "duration": 22,
    "start_time": "2024-08-21T07:39:49.923Z"
   },
   {
    "duration": 5,
    "start_time": "2024-08-21T07:39:49.946Z"
   },
   {
    "duration": 4,
    "start_time": "2024-08-21T07:39:49.953Z"
   },
   {
    "duration": 8,
    "start_time": "2024-08-21T07:39:49.958Z"
   },
   {
    "duration": 11,
    "start_time": "2024-08-21T07:39:49.967Z"
   },
   {
    "duration": 7,
    "start_time": "2024-08-21T07:39:50.005Z"
   },
   {
    "duration": 26,
    "start_time": "2024-08-21T07:39:50.013Z"
   },
   {
    "duration": 14,
    "start_time": "2024-08-21T07:39:50.041Z"
   },
   {
    "duration": 10,
    "start_time": "2024-08-21T07:39:50.057Z"
   },
   {
    "duration": 24,
    "start_time": "2024-08-21T07:39:50.069Z"
   },
   {
    "duration": 298,
    "start_time": "2024-08-21T07:39:50.095Z"
   },
   {
    "duration": 323,
    "start_time": "2024-08-21T07:39:50.395Z"
   },
   {
    "duration": 264,
    "start_time": "2024-08-21T07:39:50.720Z"
   },
   {
    "duration": 392,
    "start_time": "2024-08-21T07:39:50.986Z"
   },
   {
    "duration": 236,
    "start_time": "2024-08-21T07:39:51.380Z"
   },
   {
    "duration": 340,
    "start_time": "2024-08-21T07:39:51.618Z"
   },
   {
    "duration": 144,
    "start_time": "2024-08-21T07:39:51.961Z"
   },
   {
    "duration": 5,
    "start_time": "2024-08-21T07:39:52.108Z"
   },
   {
    "duration": 156,
    "start_time": "2024-08-21T07:39:52.115Z"
   },
   {
    "duration": 151,
    "start_time": "2024-08-21T07:39:52.273Z"
   },
   {
    "duration": 5,
    "start_time": "2024-08-21T07:39:52.425Z"
   },
   {
    "duration": 30,
    "start_time": "2024-08-21T07:39:52.432Z"
   },
   {
    "duration": 338,
    "start_time": "2024-08-21T07:39:52.464Z"
   },
   {
    "duration": 181,
    "start_time": "2024-08-21T07:39:52.804Z"
   },
   {
    "duration": 37,
    "start_time": "2024-08-21T07:39:52.987Z"
   },
   {
    "duration": 11,
    "start_time": "2024-08-21T07:39:53.026Z"
   },
   {
    "duration": 12,
    "start_time": "2024-08-21T07:39:53.038Z"
   },
   {
    "duration": 18,
    "start_time": "2024-08-21T07:39:53.051Z"
   },
   {
    "duration": 70,
    "start_time": "2024-08-21T07:39:53.070Z"
   },
   {
    "duration": 15,
    "start_time": "2024-08-21T07:39:53.141Z"
   },
   {
    "duration": 13,
    "start_time": "2024-08-21T07:40:11.408Z"
   },
   {
    "duration": 15,
    "start_time": "2024-08-21T07:40:16.229Z"
   },
   {
    "duration": 13,
    "start_time": "2024-08-21T07:40:19.913Z"
   },
   {
    "duration": 10,
    "start_time": "2024-08-21T07:40:20.879Z"
   },
   {
    "duration": 31,
    "start_time": "2024-08-21T07:40:21.358Z"
   },
   {
    "duration": 15,
    "start_time": "2024-08-21T07:40:23.729Z"
   },
   {
    "duration": 219,
    "start_time": "2024-08-21T07:43:43.553Z"
   },
   {
    "duration": 216,
    "start_time": "2024-08-21T07:43:57.668Z"
   },
   {
    "duration": 224,
    "start_time": "2024-08-21T07:58:54.349Z"
   },
   {
    "duration": 207,
    "start_time": "2024-08-21T08:00:18.009Z"
   },
   {
    "duration": 334,
    "start_time": "2024-08-21T08:09:54.395Z"
   },
   {
    "duration": 228,
    "start_time": "2024-08-21T08:14:32.876Z"
   },
   {
    "duration": 330,
    "start_time": "2024-08-21T08:15:41.677Z"
   },
   {
    "duration": 336,
    "start_time": "2024-08-21T08:15:54.778Z"
   },
   {
    "duration": 388,
    "start_time": "2024-08-21T08:16:30.594Z"
   },
   {
    "duration": 296,
    "start_time": "2024-08-21T08:16:34.151Z"
   },
   {
    "duration": 326,
    "start_time": "2024-08-21T08:16:36.308Z"
   },
   {
    "duration": 406,
    "start_time": "2024-08-21T08:16:38.236Z"
   },
   {
    "duration": 339,
    "start_time": "2024-08-21T08:16:50.499Z"
   },
   {
    "duration": 315,
    "start_time": "2024-08-21T08:23:59.406Z"
   },
   {
    "duration": 223,
    "start_time": "2024-08-21T08:24:19.438Z"
   },
   {
    "duration": 233,
    "start_time": "2024-08-21T08:24:52.209Z"
   },
   {
    "duration": 221,
    "start_time": "2024-08-21T08:25:59.428Z"
   },
   {
    "duration": 251,
    "start_time": "2024-08-21T08:30:44.325Z"
   },
   {
    "duration": 67,
    "start_time": "2024-08-21T08:32:51.836Z"
   },
   {
    "duration": 351,
    "start_time": "2024-08-21T08:33:05.976Z"
   },
   {
    "duration": 343,
    "start_time": "2024-08-21T08:33:17.711Z"
   },
   {
    "duration": 295,
    "start_time": "2024-08-21T08:33:29.151Z"
   },
   {
    "duration": 375,
    "start_time": "2024-08-21T08:33:58.599Z"
   },
   {
    "duration": 425,
    "start_time": "2024-08-21T08:34:13.305Z"
   },
   {
    "duration": 300,
    "start_time": "2024-08-21T08:34:20.257Z"
   },
   {
    "duration": 66,
    "start_time": "2024-08-21T08:34:38.301Z"
   },
   {
    "duration": 340,
    "start_time": "2024-08-21T08:34:41.205Z"
   },
   {
    "duration": 330,
    "start_time": "2024-08-21T08:35:33.914Z"
   },
   {
    "duration": 123,
    "start_time": "2024-08-21T08:42:11.964Z"
   },
   {
    "duration": 132,
    "start_time": "2024-08-21T08:42:59.632Z"
   },
   {
    "duration": 162,
    "start_time": "2024-08-21T08:43:07.471Z"
   },
   {
    "duration": 170,
    "start_time": "2024-08-21T08:43:10.757Z"
   },
   {
    "duration": 157,
    "start_time": "2024-08-21T08:43:31.484Z"
   },
   {
    "duration": 282,
    "start_time": "2024-08-21T08:43:47.845Z"
   },
   {
    "duration": 226,
    "start_time": "2024-08-21T08:44:04.923Z"
   },
   {
    "duration": 326,
    "start_time": "2024-08-21T08:44:16.731Z"
   },
   {
    "duration": 313,
    "start_time": "2024-08-21T08:44:34.029Z"
   },
   {
    "duration": 262,
    "start_time": "2024-08-21T08:44:44.951Z"
   },
   {
    "duration": 170,
    "start_time": "2024-08-21T08:45:43.616Z"
   },
   {
    "duration": 150,
    "start_time": "2024-08-21T08:46:01.039Z"
   },
   {
    "duration": 6,
    "start_time": "2024-08-21T08:55:42.468Z"
   },
   {
    "duration": 4,
    "start_time": "2024-08-21T08:55:54.011Z"
   },
   {
    "duration": 247,
    "start_time": "2024-08-21T08:56:12.330Z"
   },
   {
    "duration": 5,
    "start_time": "2024-08-21T08:56:38.431Z"
   },
   {
    "duration": 8,
    "start_time": "2024-08-21T08:56:43.212Z"
   },
   {
    "duration": 5,
    "start_time": "2024-08-21T08:57:20.144Z"
   },
   {
    "duration": 65,
    "start_time": "2024-08-21T08:57:28.408Z"
   },
   {
    "duration": 65,
    "start_time": "2024-08-21T08:57:34.224Z"
   },
   {
    "duration": 69,
    "start_time": "2024-08-21T08:57:40.829Z"
   },
   {
    "duration": 5,
    "start_time": "2024-08-21T08:57:46.661Z"
   },
   {
    "duration": 4,
    "start_time": "2024-08-21T08:57:53.789Z"
   },
   {
    "duration": 7,
    "start_time": "2024-08-21T08:58:13.243Z"
   },
   {
    "duration": 7,
    "start_time": "2024-08-21T08:58:24.062Z"
   },
   {
    "duration": 9,
    "start_time": "2024-08-21T08:58:41.519Z"
   },
   {
    "duration": 7,
    "start_time": "2024-08-21T08:58:53.707Z"
   },
   {
    "duration": 8,
    "start_time": "2024-08-21T08:58:59.987Z"
   },
   {
    "duration": 7,
    "start_time": "2024-08-21T08:59:09.770Z"
   },
   {
    "duration": 5,
    "start_time": "2024-08-21T08:59:19.277Z"
   },
   {
    "duration": 133,
    "start_time": "2024-08-21T09:03:17.173Z"
   },
   {
    "duration": 146,
    "start_time": "2024-08-21T09:03:24.389Z"
   },
   {
    "duration": 168,
    "start_time": "2024-08-21T09:05:31.975Z"
   },
   {
    "duration": 149,
    "start_time": "2024-08-21T09:05:44.953Z"
   },
   {
    "duration": 136,
    "start_time": "2024-08-21T09:07:04.474Z"
   },
   {
    "duration": 133,
    "start_time": "2024-08-21T09:07:10.098Z"
   },
   {
    "duration": 131,
    "start_time": "2024-08-21T09:07:14.500Z"
   },
   {
    "duration": 5,
    "start_time": "2024-08-21T09:09:34.726Z"
   },
   {
    "duration": 8,
    "start_time": "2024-08-21T09:10:08.740Z"
   },
   {
    "duration": 124,
    "start_time": "2024-08-21T09:10:26.168Z"
   },
   {
    "duration": 7,
    "start_time": "2024-08-21T09:10:33.221Z"
   },
   {
    "duration": 9,
    "start_time": "2024-08-21T09:10:39.304Z"
   },
   {
    "duration": 9,
    "start_time": "2024-08-21T09:10:46.235Z"
   },
   {
    "duration": 9,
    "start_time": "2024-08-21T09:10:51.288Z"
   },
   {
    "duration": 5,
    "start_time": "2024-08-21T09:10:59.136Z"
   },
   {
    "duration": 7,
    "start_time": "2024-08-21T09:11:02.703Z"
   },
   {
    "duration": 5,
    "start_time": "2024-08-21T09:11:06.216Z"
   },
   {
    "duration": 11,
    "start_time": "2024-08-21T09:17:37.556Z"
   },
   {
    "duration": 8,
    "start_time": "2024-08-21T09:17:38.368Z"
   },
   {
    "duration": 26,
    "start_time": "2024-08-21T09:17:38.749Z"
   },
   {
    "duration": 14,
    "start_time": "2024-08-21T09:17:40.774Z"
   },
   {
    "duration": 1193,
    "start_time": "2024-08-21T09:17:51.696Z"
   },
   {
    "duration": 3,
    "start_time": "2024-08-21T09:17:52.890Z"
   },
   {
    "duration": 95,
    "start_time": "2024-08-21T09:17:52.894Z"
   },
   {
    "duration": 12,
    "start_time": "2024-08-21T09:17:52.990Z"
   },
   {
    "duration": 33,
    "start_time": "2024-08-21T09:17:53.004Z"
   },
   {
    "duration": 20,
    "start_time": "2024-08-21T09:17:53.039Z"
   },
   {
    "duration": 48,
    "start_time": "2024-08-21T09:17:53.061Z"
   },
   {
    "duration": 7,
    "start_time": "2024-08-21T09:17:53.111Z"
   },
   {
    "duration": 15,
    "start_time": "2024-08-21T09:17:53.120Z"
   },
   {
    "duration": 121,
    "start_time": "2024-08-21T09:17:53.136Z"
   },
   {
    "duration": 56,
    "start_time": "2024-08-21T09:17:53.259Z"
   },
   {
    "duration": 6,
    "start_time": "2024-08-21T09:17:53.317Z"
   },
   {
    "duration": 15,
    "start_time": "2024-08-21T09:17:53.324Z"
   },
   {
    "duration": 16,
    "start_time": "2024-08-21T09:17:53.342Z"
   },
   {
    "duration": 18,
    "start_time": "2024-08-21T09:17:53.359Z"
   },
   {
    "duration": 8,
    "start_time": "2024-08-21T09:17:53.378Z"
   },
   {
    "duration": 18,
    "start_time": "2024-08-21T09:17:53.388Z"
   },
   {
    "duration": 30,
    "start_time": "2024-08-21T09:17:53.407Z"
   },
   {
    "duration": 16,
    "start_time": "2024-08-21T09:17:53.439Z"
   },
   {
    "duration": 21,
    "start_time": "2024-08-21T09:17:53.456Z"
   },
   {
    "duration": 288,
    "start_time": "2024-08-21T09:17:53.479Z"
   },
   {
    "duration": 304,
    "start_time": "2024-08-21T09:17:53.769Z"
   },
   {
    "duration": 233,
    "start_time": "2024-08-21T09:17:54.075Z"
   },
   {
    "duration": 342,
    "start_time": "2024-08-21T09:17:54.309Z"
   },
   {
    "duration": 246,
    "start_time": "2024-08-21T09:17:54.653Z"
   },
   {
    "duration": 345,
    "start_time": "2024-08-21T09:17:54.904Z"
   },
   {
    "duration": 138,
    "start_time": "2024-08-21T09:17:55.251Z"
   },
   {
    "duration": 4,
    "start_time": "2024-08-21T09:17:55.391Z"
   },
   {
    "duration": 150,
    "start_time": "2024-08-21T09:17:55.406Z"
   },
   {
    "duration": 129,
    "start_time": "2024-08-21T09:17:55.557Z"
   },
   {
    "duration": 5,
    "start_time": "2024-08-21T09:17:55.688Z"
   },
   {
    "duration": 13,
    "start_time": "2024-08-21T09:17:55.704Z"
   },
   {
    "duration": 307,
    "start_time": "2024-08-21T09:17:55.718Z"
   },
   {
    "duration": 163,
    "start_time": "2024-08-21T09:17:56.027Z"
   },
   {
    "duration": 36,
    "start_time": "2024-08-21T09:17:56.192Z"
   },
   {
    "duration": 11,
    "start_time": "2024-08-21T09:17:56.230Z"
   },
   {
    "duration": 28,
    "start_time": "2024-08-21T09:17:56.242Z"
   },
   {
    "duration": 32,
    "start_time": "2024-08-21T09:17:56.271Z"
   },
   {
    "duration": 33,
    "start_time": "2024-08-21T09:17:56.305Z"
   },
   {
    "duration": 13,
    "start_time": "2024-08-21T09:17:56.340Z"
   },
   {
    "duration": 12,
    "start_time": "2024-08-21T09:37:39.661Z"
   },
   {
    "duration": 9,
    "start_time": "2024-08-21T09:38:40.465Z"
   },
   {
    "duration": 8,
    "start_time": "2024-08-21T09:38:51.547Z"
   },
   {
    "duration": 8,
    "start_time": "2024-08-21T09:39:00.101Z"
   },
   {
    "duration": 13,
    "start_time": "2024-08-21T09:39:44.880Z"
   },
   {
    "duration": 222,
    "start_time": "2024-08-21T09:41:06.603Z"
   },
   {
    "duration": 215,
    "start_time": "2024-08-21T09:42:19.843Z"
   },
   {
    "duration": 1201,
    "start_time": "2024-08-21T09:42:35.690Z"
   },
   {
    "duration": 2,
    "start_time": "2024-08-21T09:42:36.895Z"
   },
   {
    "duration": 82,
    "start_time": "2024-08-21T09:42:36.905Z"
   },
   {
    "duration": 12,
    "start_time": "2024-08-21T09:42:36.989Z"
   },
   {
    "duration": 21,
    "start_time": "2024-08-21T09:42:37.002Z"
   },
   {
    "duration": 23,
    "start_time": "2024-08-21T09:42:37.025Z"
   },
   {
    "duration": 15,
    "start_time": "2024-08-21T09:42:37.050Z"
   },
   {
    "duration": 12,
    "start_time": "2024-08-21T09:42:37.067Z"
   },
   {
    "duration": 10,
    "start_time": "2024-08-21T09:42:37.080Z"
   },
   {
    "duration": 16,
    "start_time": "2024-08-21T09:42:37.091Z"
   },
   {
    "duration": 20,
    "start_time": "2024-08-21T09:42:37.109Z"
   },
   {
    "duration": 5,
    "start_time": "2024-08-21T09:42:37.130Z"
   },
   {
    "duration": 4,
    "start_time": "2024-08-21T09:42:37.138Z"
   },
   {
    "duration": 5,
    "start_time": "2024-08-21T09:42:37.143Z"
   },
   {
    "duration": 5,
    "start_time": "2024-08-21T09:42:37.149Z"
   },
   {
    "duration": 13,
    "start_time": "2024-08-21T09:42:37.155Z"
   },
   {
    "duration": 40,
    "start_time": "2024-08-21T09:42:37.170Z"
   },
   {
    "duration": 95,
    "start_time": "2024-08-21T09:42:37.212Z"
   },
   {
    "duration": 11,
    "start_time": "2024-08-21T09:42:37.309Z"
   },
   {
    "duration": 87,
    "start_time": "2024-08-21T09:42:37.321Z"
   },
   {
    "duration": 291,
    "start_time": "2024-08-21T09:42:37.410Z"
   },
   {
    "duration": 315,
    "start_time": "2024-08-21T09:42:37.703Z"
   },
   {
    "duration": 209,
    "start_time": "2024-08-21T09:42:38.020Z"
   },
   {
    "duration": 314,
    "start_time": "2024-08-21T09:42:38.231Z"
   },
   {
    "duration": 232,
    "start_time": "2024-08-21T09:42:38.547Z"
   },
   {
    "duration": 366,
    "start_time": "2024-08-21T09:42:38.780Z"
   },
   {
    "duration": 156,
    "start_time": "2024-08-21T09:42:39.147Z"
   },
   {
    "duration": 5,
    "start_time": "2024-08-21T09:42:39.305Z"
   },
   {
    "duration": 174,
    "start_time": "2024-08-21T09:42:39.312Z"
   },
   {
    "duration": 130,
    "start_time": "2024-08-21T09:42:39.488Z"
   },
   {
    "duration": 5,
    "start_time": "2024-08-21T09:42:39.620Z"
   },
   {
    "duration": 28,
    "start_time": "2024-08-21T09:42:39.626Z"
   },
   {
    "duration": 304,
    "start_time": "2024-08-21T09:42:39.656Z"
   },
   {
    "duration": 7,
    "start_time": "2024-08-21T09:42:39.962Z"
   },
   {
    "duration": 27,
    "start_time": "2024-08-21T09:42:39.970Z"
   },
   {
    "duration": 133,
    "start_time": "2024-08-21T09:42:39.999Z"
   },
   {
    "duration": 29,
    "start_time": "2024-08-21T09:42:40.133Z"
   },
   {
    "duration": 10,
    "start_time": "2024-08-21T09:42:40.163Z"
   },
   {
    "duration": 30,
    "start_time": "2024-08-21T09:42:40.175Z"
   },
   {
    "duration": 9,
    "start_time": "2024-08-21T09:42:40.209Z"
   },
   {
    "duration": 32,
    "start_time": "2024-08-21T09:42:40.219Z"
   },
   {
    "duration": 15,
    "start_time": "2024-08-21T09:42:40.252Z"
   },
   {
    "duration": 9,
    "start_time": "2024-08-21T09:44:32.367Z"
   },
   {
    "duration": 133,
    "start_time": "2024-08-21T09:45:18.530Z"
   },
   {
    "duration": 5,
    "start_time": "2024-08-21T09:47:25.382Z"
   },
   {
    "duration": 10,
    "start_time": "2024-08-21T09:48:39.920Z"
   },
   {
    "duration": 5,
    "start_time": "2024-08-21T09:48:45.292Z"
   },
   {
    "duration": 148,
    "start_time": "2024-08-21T09:51:24.828Z"
   },
   {
    "duration": 57,
    "start_time": "2024-08-21T09:51:46.785Z"
   },
   {
    "duration": 6,
    "start_time": "2024-08-21T09:52:03.606Z"
   },
   {
    "duration": 52,
    "start_time": "2024-08-21T09:52:13.382Z"
   },
   {
    "duration": 50,
    "start_time": "2024-08-21T09:52:37.573Z"
   },
   {
    "duration": 51,
    "start_time": "2024-08-21T09:54:03.500Z"
   },
   {
    "duration": 61,
    "start_time": "2024-08-21T09:54:07.526Z"
   },
   {
    "duration": 60,
    "start_time": "2024-08-21T09:54:15.984Z"
   },
   {
    "duration": 48,
    "start_time": "2024-08-21T09:54:39.672Z"
   },
   {
    "duration": 51,
    "start_time": "2024-08-21T09:54:58.780Z"
   },
   {
    "duration": 53,
    "start_time": "2024-08-21T09:55:03.358Z"
   },
   {
    "duration": 53,
    "start_time": "2024-08-21T09:55:09.731Z"
   },
   {
    "duration": 52,
    "start_time": "2024-08-21T09:56:11.660Z"
   },
   {
    "duration": 49,
    "start_time": "2024-08-21T10:03:01.025Z"
   },
   {
    "duration": 54,
    "start_time": "2024-08-21T10:03:13.034Z"
   },
   {
    "duration": 50,
    "start_time": "2024-08-21T10:03:17.068Z"
   },
   {
    "duration": 12,
    "start_time": "2024-08-21T10:03:54.442Z"
   },
   {
    "duration": 15,
    "start_time": "2024-08-21T10:04:23.861Z"
   },
   {
    "duration": 16,
    "start_time": "2024-08-21T10:06:07.987Z"
   },
   {
    "duration": 14,
    "start_time": "2024-08-21T10:06:40.198Z"
   },
   {
    "duration": 14,
    "start_time": "2024-08-21T10:06:43.484Z"
   },
   {
    "duration": 17,
    "start_time": "2024-08-21T10:06:49.293Z"
   },
   {
    "duration": 15,
    "start_time": "2024-08-21T10:06:58.653Z"
   },
   {
    "duration": 5,
    "start_time": "2024-08-21T10:12:42.397Z"
   },
   {
    "duration": 11,
    "start_time": "2024-08-21T10:15:03.489Z"
   },
   {
    "duration": 9,
    "start_time": "2024-08-21T10:16:25.773Z"
   },
   {
    "duration": 70,
    "start_time": "2024-08-21T10:41:15.259Z"
   },
   {
    "duration": 68,
    "start_time": "2024-08-21T10:41:37.356Z"
   },
   {
    "duration": 6,
    "start_time": "2024-08-21T10:44:56.985Z"
   },
   {
    "duration": 72,
    "start_time": "2024-08-21T10:45:04.488Z"
   },
   {
    "duration": 15,
    "start_time": "2024-08-21T10:45:08.791Z"
   },
   {
    "duration": 23,
    "start_time": "2024-08-21T10:47:44.219Z"
   },
   {
    "duration": 23,
    "start_time": "2024-08-21T10:47:58.224Z"
   },
   {
    "duration": 21,
    "start_time": "2024-08-21T10:48:08.225Z"
   },
   {
    "duration": 21,
    "start_time": "2024-08-21T10:48:26.170Z"
   },
   {
    "duration": 17,
    "start_time": "2024-08-21T10:48:30.033Z"
   },
   {
    "duration": 15,
    "start_time": "2024-08-21T10:49:01.767Z"
   },
   {
    "duration": 14,
    "start_time": "2024-08-21T10:49:21.078Z"
   },
   {
    "duration": 15,
    "start_time": "2024-08-21T10:49:26.330Z"
   },
   {
    "duration": 15,
    "start_time": "2024-08-21T10:49:32.078Z"
   },
   {
    "duration": 16,
    "start_time": "2024-08-21T10:49:39.809Z"
   },
   {
    "duration": 48,
    "start_time": "2024-08-21T10:49:50.451Z"
   },
   {
    "duration": 18,
    "start_time": "2024-08-21T10:50:05.068Z"
   },
   {
    "duration": 54,
    "start_time": "2024-08-21T10:50:24.196Z"
   },
   {
    "duration": 1180,
    "start_time": "2024-08-21T10:50:29.156Z"
   },
   {
    "duration": 3,
    "start_time": "2024-08-21T10:50:30.337Z"
   },
   {
    "duration": 87,
    "start_time": "2024-08-21T10:50:30.341Z"
   },
   {
    "duration": 13,
    "start_time": "2024-08-21T10:50:30.430Z"
   },
   {
    "duration": 22,
    "start_time": "2024-08-21T10:50:30.445Z"
   },
   {
    "duration": 14,
    "start_time": "2024-08-21T10:50:30.469Z"
   },
   {
    "duration": 59,
    "start_time": "2024-08-21T10:50:30.484Z"
   },
   {
    "duration": 29,
    "start_time": "2024-08-21T10:50:30.545Z"
   },
   {
    "duration": 32,
    "start_time": "2024-08-21T10:50:30.576Z"
   },
   {
    "duration": 35,
    "start_time": "2024-08-21T10:50:30.611Z"
   },
   {
    "duration": 33,
    "start_time": "2024-08-21T10:50:30.648Z"
   },
   {
    "duration": 15,
    "start_time": "2024-08-21T10:50:30.683Z"
   },
   {
    "duration": 28,
    "start_time": "2024-08-21T10:50:30.700Z"
   },
   {
    "duration": 32,
    "start_time": "2024-08-21T10:50:30.729Z"
   },
   {
    "duration": 10,
    "start_time": "2024-08-21T10:50:30.762Z"
   },
   {
    "duration": 13,
    "start_time": "2024-08-21T10:50:30.773Z"
   },
   {
    "duration": 10,
    "start_time": "2024-08-21T10:50:30.787Z"
   },
   {
    "duration": 24,
    "start_time": "2024-08-21T10:50:30.798Z"
   },
   {
    "duration": 15,
    "start_time": "2024-08-21T10:50:30.824Z"
   },
   {
    "duration": 32,
    "start_time": "2024-08-21T10:50:30.841Z"
   },
   {
    "duration": 296,
    "start_time": "2024-08-21T10:50:30.876Z"
   },
   {
    "duration": 324,
    "start_time": "2024-08-21T10:50:31.174Z"
   },
   {
    "duration": 229,
    "start_time": "2024-08-21T10:50:31.500Z"
   },
   {
    "duration": 323,
    "start_time": "2024-08-21T10:50:31.731Z"
   },
   {
    "duration": 251,
    "start_time": "2024-08-21T10:50:32.057Z"
   },
   {
    "duration": 335,
    "start_time": "2024-08-21T10:50:32.310Z"
   },
   {
    "duration": 144,
    "start_time": "2024-08-21T10:50:32.647Z"
   },
   {
    "duration": 11,
    "start_time": "2024-08-21T10:50:32.794Z"
   },
   {
    "duration": 197,
    "start_time": "2024-08-21T10:50:32.807Z"
   },
   {
    "duration": 139,
    "start_time": "2024-08-21T10:50:33.005Z"
   },
   {
    "duration": 4,
    "start_time": "2024-08-21T10:50:33.146Z"
   },
   {
    "duration": 354,
    "start_time": "2024-08-21T10:50:33.152Z"
   },
   {
    "duration": 170,
    "start_time": "2024-08-21T10:50:33.507Z"
   },
   {
    "duration": 60,
    "start_time": "2024-08-21T10:50:33.678Z"
   },
   {
    "duration": 15,
    "start_time": "2024-08-21T10:50:33.740Z"
   },
   {
    "duration": 12,
    "start_time": "2024-08-21T10:50:33.757Z"
   },
   {
    "duration": 8,
    "start_time": "2024-08-21T10:50:33.770Z"
   },
   {
    "duration": 70,
    "start_time": "2024-08-21T10:50:33.780Z"
   },
   {
    "duration": 16,
    "start_time": "2024-08-21T10:50:33.852Z"
   },
   {
    "duration": 19,
    "start_time": "2024-08-21T10:51:16.084Z"
   },
   {
    "duration": 14,
    "start_time": "2024-08-21T10:52:09.036Z"
   },
   {
    "duration": 16,
    "start_time": "2024-08-21T10:55:11.105Z"
   },
   {
    "duration": 300,
    "start_time": "2024-08-21T11:33:09.156Z"
   },
   {
    "duration": 641,
    "start_time": "2024-08-21T11:33:31.116Z"
   },
   {
    "duration": 689,
    "start_time": "2024-08-21T11:33:56.399Z"
   },
   {
    "duration": 3,
    "start_time": "2024-08-21T11:51:19.635Z"
   },
   {
    "duration": 160,
    "start_time": "2024-08-21T12:15:45.929Z"
   },
   {
    "duration": 1198,
    "start_time": "2024-08-21T12:20:42.988Z"
   },
   {
    "duration": 77,
    "start_time": "2024-08-21T12:20:44.188Z"
   },
   {
    "duration": 14,
    "start_time": "2024-08-21T12:20:44.267Z"
   },
   {
    "duration": 12,
    "start_time": "2024-08-21T12:20:44.283Z"
   },
   {
    "duration": 39,
    "start_time": "2024-08-21T12:20:44.296Z"
   },
   {
    "duration": 22,
    "start_time": "2024-08-21T12:20:44.337Z"
   },
   {
    "duration": 20,
    "start_time": "2024-08-21T12:20:44.361Z"
   },
   {
    "duration": 92,
    "start_time": "2024-08-21T12:20:44.382Z"
   },
   {
    "duration": 15,
    "start_time": "2024-08-21T12:20:44.475Z"
   },
   {
    "duration": 32,
    "start_time": "2024-08-21T12:20:44.493Z"
   },
   {
    "duration": 6,
    "start_time": "2024-08-21T12:20:44.527Z"
   },
   {
    "duration": 5,
    "start_time": "2024-08-21T12:20:44.534Z"
   },
   {
    "duration": 7,
    "start_time": "2024-08-21T12:20:44.540Z"
   },
   {
    "duration": 6,
    "start_time": "2024-08-21T12:20:44.549Z"
   },
   {
    "duration": 35,
    "start_time": "2024-08-21T12:20:44.556Z"
   },
   {
    "duration": 53,
    "start_time": "2024-08-21T12:20:44.593Z"
   },
   {
    "duration": 14,
    "start_time": "2024-08-21T12:20:44.647Z"
   },
   {
    "duration": 12,
    "start_time": "2024-08-21T12:20:44.662Z"
   },
   {
    "duration": 26,
    "start_time": "2024-08-21T12:20:44.675Z"
   },
   {
    "duration": 318,
    "start_time": "2024-08-21T12:20:44.703Z"
   },
   {
    "duration": 310,
    "start_time": "2024-08-21T12:20:45.022Z"
   },
   {
    "duration": 224,
    "start_time": "2024-08-21T12:20:45.334Z"
   },
   {
    "duration": 319,
    "start_time": "2024-08-21T12:20:45.559Z"
   },
   {
    "duration": 257,
    "start_time": "2024-08-21T12:20:45.880Z"
   },
   {
    "duration": 312,
    "start_time": "2024-08-21T12:20:46.139Z"
   },
   {
    "duration": 135,
    "start_time": "2024-08-21T12:20:46.453Z"
   },
   {
    "duration": 5,
    "start_time": "2024-08-21T12:20:46.589Z"
   },
   {
    "duration": 158,
    "start_time": "2024-08-21T12:20:46.606Z"
   },
   {
    "duration": 176,
    "start_time": "2024-08-21T12:20:46.766Z"
   },
   {
    "duration": 5,
    "start_time": "2024-08-21T12:20:46.944Z"
   },
   {
    "duration": 339,
    "start_time": "2024-08-21T12:20:46.951Z"
   },
   {
    "duration": 155,
    "start_time": "2024-08-21T12:20:47.292Z"
   },
   {
    "duration": 61,
    "start_time": "2024-08-21T12:20:47.448Z"
   },
   {
    "duration": 16,
    "start_time": "2024-08-21T12:20:47.511Z"
   },
   {
    "duration": 12,
    "start_time": "2024-08-21T12:20:47.528Z"
   },
   {
    "duration": 12,
    "start_time": "2024-08-21T12:20:47.542Z"
   },
   {
    "duration": 70,
    "start_time": "2024-08-21T12:20:47.556Z"
   },
   {
    "duration": 15,
    "start_time": "2024-08-21T12:20:47.628Z"
   },
   {
    "duration": 590,
    "start_time": "2024-08-21T12:20:47.645Z"
   },
   {
    "duration": 1200,
    "start_time": "2024-08-21T12:23:05.888Z"
   },
   {
    "duration": 78,
    "start_time": "2024-08-21T12:23:07.089Z"
   },
   {
    "duration": 14,
    "start_time": "2024-08-21T12:23:07.168Z"
   },
   {
    "duration": 11,
    "start_time": "2024-08-21T12:23:07.184Z"
   },
   {
    "duration": 15,
    "start_time": "2024-08-21T12:23:07.196Z"
   },
   {
    "duration": 25,
    "start_time": "2024-08-21T12:23:07.212Z"
   },
   {
    "duration": 17,
    "start_time": "2024-08-21T12:23:07.239Z"
   },
   {
    "duration": 11,
    "start_time": "2024-08-21T12:23:07.258Z"
   },
   {
    "duration": 22,
    "start_time": "2024-08-21T12:23:07.271Z"
   },
   {
    "duration": 24,
    "start_time": "2024-08-21T12:23:07.297Z"
   },
   {
    "duration": 5,
    "start_time": "2024-08-21T12:23:07.323Z"
   },
   {
    "duration": 8,
    "start_time": "2024-08-21T12:23:07.330Z"
   },
   {
    "duration": 16,
    "start_time": "2024-08-21T12:23:07.339Z"
   },
   {
    "duration": 19,
    "start_time": "2024-08-21T12:23:07.357Z"
   },
   {
    "duration": 13,
    "start_time": "2024-08-21T12:23:07.378Z"
   },
   {
    "duration": 18,
    "start_time": "2024-08-21T12:23:07.393Z"
   },
   {
    "duration": 23,
    "start_time": "2024-08-21T12:23:07.413Z"
   },
   {
    "duration": 14,
    "start_time": "2024-08-21T12:23:07.438Z"
   },
   {
    "duration": 20,
    "start_time": "2024-08-21T12:23:07.455Z"
   },
   {
    "duration": 332,
    "start_time": "2024-08-21T12:23:07.477Z"
   },
   {
    "duration": 309,
    "start_time": "2024-08-21T12:23:07.811Z"
   },
   {
    "duration": 224,
    "start_time": "2024-08-21T12:23:08.122Z"
   },
   {
    "duration": 305,
    "start_time": "2024-08-21T12:23:08.348Z"
   },
   {
    "duration": 273,
    "start_time": "2024-08-21T12:23:08.655Z"
   },
   {
    "duration": 341,
    "start_time": "2024-08-21T12:23:08.930Z"
   },
   {
    "duration": 152,
    "start_time": "2024-08-21T12:23:09.272Z"
   },
   {
    "duration": 5,
    "start_time": "2024-08-21T12:23:09.426Z"
   },
   {
    "duration": 165,
    "start_time": "2024-08-21T12:23:09.434Z"
   },
   {
    "duration": 149,
    "start_time": "2024-08-21T12:23:09.605Z"
   },
   {
    "duration": 5,
    "start_time": "2024-08-21T12:23:09.756Z"
   },
   {
    "duration": 312,
    "start_time": "2024-08-21T12:23:09.762Z"
   },
   {
    "duration": 152,
    "start_time": "2024-08-21T12:23:10.075Z"
   },
   {
    "duration": 49,
    "start_time": "2024-08-21T12:23:10.229Z"
   },
   {
    "duration": 28,
    "start_time": "2024-08-21T12:23:10.280Z"
   },
   {
    "duration": 12,
    "start_time": "2024-08-21T12:23:10.310Z"
   },
   {
    "duration": 25,
    "start_time": "2024-08-21T12:23:10.323Z"
   },
   {
    "duration": 91,
    "start_time": "2024-08-21T12:23:10.350Z"
   },
   {
    "duration": 45,
    "start_time": "2024-08-21T12:23:10.443Z"
   },
   {
    "duration": 660,
    "start_time": "2024-08-21T12:23:10.490Z"
   },
   {
    "duration": 1056,
    "start_time": "2024-08-22T05:04:30.357Z"
   },
   {
    "duration": 227,
    "start_time": "2024-08-22T05:04:31.415Z"
   },
   {
    "duration": 12,
    "start_time": "2024-08-22T05:04:31.644Z"
   },
   {
    "duration": 11,
    "start_time": "2024-08-22T05:04:31.663Z"
   },
   {
    "duration": 7,
    "start_time": "2024-08-22T05:04:31.676Z"
   },
   {
    "duration": 33,
    "start_time": "2024-08-22T05:04:31.685Z"
   },
   {
    "duration": 18,
    "start_time": "2024-08-22T05:04:31.719Z"
   },
   {
    "duration": 22,
    "start_time": "2024-08-22T05:04:31.739Z"
   },
   {
    "duration": 7,
    "start_time": "2024-08-22T05:04:31.763Z"
   },
   {
    "duration": 20,
    "start_time": "2024-08-22T05:04:31.772Z"
   },
   {
    "duration": 6,
    "start_time": "2024-08-22T05:04:31.793Z"
   },
   {
    "duration": 6,
    "start_time": "2024-08-22T05:04:31.801Z"
   },
   {
    "duration": 10,
    "start_time": "2024-08-22T05:04:31.809Z"
   },
   {
    "duration": 34,
    "start_time": "2024-08-22T05:04:31.823Z"
   },
   {
    "duration": 9,
    "start_time": "2024-08-22T05:04:31.859Z"
   },
   {
    "duration": 10,
    "start_time": "2024-08-22T05:04:31.869Z"
   },
   {
    "duration": 18,
    "start_time": "2024-08-22T05:04:31.880Z"
   },
   {
    "duration": 10,
    "start_time": "2024-08-22T05:04:31.899Z"
   },
   {
    "duration": 24,
    "start_time": "2024-08-22T05:04:31.911Z"
   },
   {
    "duration": 286,
    "start_time": "2024-08-22T05:04:31.936Z"
   },
   {
    "duration": 300,
    "start_time": "2024-08-22T05:04:32.223Z"
   },
   {
    "duration": 208,
    "start_time": "2024-08-22T05:04:32.525Z"
   },
   {
    "duration": 325,
    "start_time": "2024-08-22T05:04:32.734Z"
   },
   {
    "duration": 217,
    "start_time": "2024-08-22T05:04:33.060Z"
   },
   {
    "duration": 299,
    "start_time": "2024-08-22T05:04:33.279Z"
   },
   {
    "duration": 129,
    "start_time": "2024-08-22T05:04:33.580Z"
   },
   {
    "duration": 6,
    "start_time": "2024-08-22T05:04:33.711Z"
   },
   {
    "duration": 157,
    "start_time": "2024-08-22T05:04:33.718Z"
   },
   {
    "duration": 140,
    "start_time": "2024-08-22T05:04:33.877Z"
   },
   {
    "duration": 5,
    "start_time": "2024-08-22T05:04:34.019Z"
   },
   {
    "duration": 312,
    "start_time": "2024-08-22T05:04:34.025Z"
   },
   {
    "duration": 125,
    "start_time": "2024-08-22T05:04:34.339Z"
   },
   {
    "duration": 47,
    "start_time": "2024-08-22T05:04:34.465Z"
   },
   {
    "duration": 14,
    "start_time": "2024-08-22T05:04:34.513Z"
   },
   {
    "duration": 29,
    "start_time": "2024-08-22T05:04:34.528Z"
   },
   {
    "duration": 14,
    "start_time": "2024-08-22T05:04:34.558Z"
   },
   {
    "duration": 47,
    "start_time": "2024-08-22T05:04:34.573Z"
   },
   {
    "duration": 13,
    "start_time": "2024-08-22T05:04:34.622Z"
   },
   {
    "duration": 632,
    "start_time": "2024-08-22T05:04:34.637Z"
   },
   {
    "duration": 1063,
    "start_time": "2024-08-22T05:16:00.134Z"
   },
   {
    "duration": 75,
    "start_time": "2024-08-22T05:16:01.199Z"
   },
   {
    "duration": 11,
    "start_time": "2024-08-22T05:16:01.276Z"
   },
   {
    "duration": 16,
    "start_time": "2024-08-22T05:16:01.289Z"
   },
   {
    "duration": 12,
    "start_time": "2024-08-22T05:16:01.307Z"
   },
   {
    "duration": 120,
    "start_time": "2024-08-22T05:16:01.320Z"
   },
   {
    "duration": 20,
    "start_time": "2024-08-22T05:16:01.442Z"
   },
   {
    "duration": 17,
    "start_time": "2024-08-22T05:16:01.463Z"
   },
   {
    "duration": 24,
    "start_time": "2024-08-22T05:16:01.482Z"
   },
   {
    "duration": 45,
    "start_time": "2024-08-22T05:16:01.507Z"
   },
   {
    "duration": 5,
    "start_time": "2024-08-22T05:16:01.554Z"
   },
   {
    "duration": 21,
    "start_time": "2024-08-22T05:16:01.560Z"
   },
   {
    "duration": 16,
    "start_time": "2024-08-22T05:16:01.582Z"
   },
   {
    "duration": 20,
    "start_time": "2024-08-22T05:16:01.601Z"
   },
   {
    "duration": 33,
    "start_time": "2024-08-22T05:16:01.623Z"
   },
   {
    "duration": 7,
    "start_time": "2024-08-22T05:16:01.658Z"
   },
   {
    "duration": 12,
    "start_time": "2024-08-22T05:16:01.667Z"
   },
   {
    "duration": 10,
    "start_time": "2024-08-22T05:16:01.680Z"
   },
   {
    "duration": 38,
    "start_time": "2024-08-22T05:16:01.691Z"
   },
   {
    "duration": 270,
    "start_time": "2024-08-22T05:16:01.731Z"
   },
   {
    "duration": 282,
    "start_time": "2024-08-22T05:16:02.002Z"
   },
   {
    "duration": 213,
    "start_time": "2024-08-22T05:16:02.286Z"
   },
   {
    "duration": 292,
    "start_time": "2024-08-22T05:16:02.501Z"
   },
   {
    "duration": 222,
    "start_time": "2024-08-22T05:16:02.794Z"
   },
   {
    "duration": 335,
    "start_time": "2024-08-22T05:16:03.018Z"
   },
   {
    "duration": 128,
    "start_time": "2024-08-22T05:16:03.354Z"
   },
   {
    "duration": 5,
    "start_time": "2024-08-22T05:16:03.483Z"
   },
   {
    "duration": 180,
    "start_time": "2024-08-22T05:16:03.489Z"
   },
   {
    "duration": 155,
    "start_time": "2024-08-22T05:16:03.671Z"
   },
   {
    "duration": 5,
    "start_time": "2024-08-22T05:16:03.827Z"
   },
   {
    "duration": 301,
    "start_time": "2024-08-22T05:16:03.833Z"
   },
   {
    "duration": 148,
    "start_time": "2024-08-22T05:16:04.136Z"
   },
   {
    "duration": 50,
    "start_time": "2024-08-22T05:16:04.287Z"
   },
   {
    "duration": 27,
    "start_time": "2024-08-22T05:16:04.338Z"
   },
   {
    "duration": 10,
    "start_time": "2024-08-22T05:16:04.366Z"
   },
   {
    "duration": 7,
    "start_time": "2024-08-22T05:16:04.377Z"
   },
   {
    "duration": 46,
    "start_time": "2024-08-22T05:16:04.385Z"
   },
   {
    "duration": 14,
    "start_time": "2024-08-22T05:16:04.453Z"
   },
   {
    "duration": 600,
    "start_time": "2024-08-22T05:16:04.469Z"
   },
   {
    "duration": 1123,
    "start_time": "2024-08-22T05:41:36.870Z"
   },
   {
    "duration": 76,
    "start_time": "2024-08-22T05:41:37.995Z"
   },
   {
    "duration": 10,
    "start_time": "2024-08-22T05:41:38.073Z"
   },
   {
    "duration": 10,
    "start_time": "2024-08-22T05:41:38.084Z"
   },
   {
    "duration": 13,
    "start_time": "2024-08-22T05:41:38.095Z"
   },
   {
    "duration": 19,
    "start_time": "2024-08-22T05:41:38.110Z"
   },
   {
    "duration": 7,
    "start_time": "2024-08-22T05:41:38.131Z"
   },
   {
    "duration": 9,
    "start_time": "2024-08-22T05:41:38.139Z"
   },
   {
    "duration": 9,
    "start_time": "2024-08-22T05:41:38.149Z"
   },
   {
    "duration": 21,
    "start_time": "2024-08-22T05:41:38.160Z"
   },
   {
    "duration": 5,
    "start_time": "2024-08-22T05:41:38.182Z"
   },
   {
    "duration": 11,
    "start_time": "2024-08-22T05:41:38.188Z"
   },
   {
    "duration": 7,
    "start_time": "2024-08-22T05:41:38.200Z"
   },
   {
    "duration": 14,
    "start_time": "2024-08-22T05:41:38.209Z"
   },
   {
    "duration": 33,
    "start_time": "2024-08-22T05:41:38.224Z"
   },
   {
    "duration": 8,
    "start_time": "2024-08-22T05:41:38.258Z"
   },
   {
    "duration": 11,
    "start_time": "2024-08-22T05:41:38.267Z"
   },
   {
    "duration": 10,
    "start_time": "2024-08-22T05:41:38.279Z"
   },
   {
    "duration": 36,
    "start_time": "2024-08-22T05:41:38.291Z"
   },
   {
    "duration": 276,
    "start_time": "2024-08-22T05:41:38.329Z"
   },
   {
    "duration": 274,
    "start_time": "2024-08-22T05:41:38.606Z"
   },
   {
    "duration": 201,
    "start_time": "2024-08-22T05:41:38.881Z"
   },
   {
    "duration": 292,
    "start_time": "2024-08-22T05:41:39.083Z"
   },
   {
    "duration": 220,
    "start_time": "2024-08-22T05:41:39.376Z"
   },
   {
    "duration": 286,
    "start_time": "2024-08-22T05:41:39.597Z"
   },
   {
    "duration": 127,
    "start_time": "2024-08-22T05:41:39.885Z"
   },
   {
    "duration": 4,
    "start_time": "2024-08-22T05:41:40.013Z"
   },
   {
    "duration": 151,
    "start_time": "2024-08-22T05:41:40.018Z"
   },
   {
    "duration": 140,
    "start_time": "2024-08-22T05:41:40.171Z"
   },
   {
    "duration": 5,
    "start_time": "2024-08-22T05:41:40.313Z"
   },
   {
    "duration": 294,
    "start_time": "2024-08-22T05:41:40.320Z"
   },
   {
    "duration": 123,
    "start_time": "2024-08-22T05:41:40.616Z"
   },
   {
    "duration": 54,
    "start_time": "2024-08-22T05:41:40.741Z"
   },
   {
    "duration": 13,
    "start_time": "2024-08-22T05:41:40.797Z"
   },
   {
    "duration": 11,
    "start_time": "2024-08-22T05:41:40.811Z"
   },
   {
    "duration": 33,
    "start_time": "2024-08-22T05:41:40.823Z"
   },
   {
    "duration": 54,
    "start_time": "2024-08-22T05:41:40.858Z"
   },
   {
    "duration": 14,
    "start_time": "2024-08-22T05:41:40.914Z"
   },
   {
    "duration": 634,
    "start_time": "2024-08-22T05:41:40.929Z"
   },
   {
    "duration": 46,
    "start_time": "2024-08-22T06:49:49.534Z"
   },
   {
    "duration": 1307,
    "start_time": "2024-08-22T06:49:53.772Z"
   },
   {
    "duration": 227,
    "start_time": "2024-08-22T06:49:55.081Z"
   },
   {
    "duration": 3,
    "start_time": "2024-08-22T06:49:55.310Z"
   },
   {
    "duration": 16,
    "start_time": "2024-08-22T06:49:55.315Z"
   },
   {
    "duration": 15,
    "start_time": "2024-08-22T06:49:55.332Z"
   },
   {
    "duration": 29,
    "start_time": "2024-08-22T06:49:55.349Z"
   },
   {
    "duration": 10,
    "start_time": "2024-08-22T06:49:55.379Z"
   },
   {
    "duration": 8,
    "start_time": "2024-08-22T06:49:55.391Z"
   },
   {
    "duration": 15,
    "start_time": "2024-08-22T06:49:55.400Z"
   },
   {
    "duration": 9,
    "start_time": "2024-08-22T06:49:55.417Z"
   },
   {
    "duration": 20,
    "start_time": "2024-08-22T06:49:55.428Z"
   },
   {
    "duration": 5,
    "start_time": "2024-08-22T06:49:55.450Z"
   },
   {
    "duration": 9,
    "start_time": "2024-08-22T06:49:55.456Z"
   },
   {
    "duration": 4,
    "start_time": "2024-08-22T06:49:55.467Z"
   },
   {
    "duration": 37,
    "start_time": "2024-08-22T06:49:55.473Z"
   },
   {
    "duration": 17,
    "start_time": "2024-08-22T06:49:55.511Z"
   },
   {
    "duration": 8,
    "start_time": "2024-08-22T06:49:55.529Z"
   },
   {
    "duration": 12,
    "start_time": "2024-08-22T06:49:55.539Z"
   },
   {
    "duration": 9,
    "start_time": "2024-08-22T06:49:55.553Z"
   },
   {
    "duration": 11,
    "start_time": "2024-08-22T06:49:55.564Z"
   },
   {
    "duration": 300,
    "start_time": "2024-08-22T06:49:55.576Z"
   },
   {
    "duration": 293,
    "start_time": "2024-08-22T06:49:55.877Z"
   },
   {
    "duration": 224,
    "start_time": "2024-08-22T06:49:56.171Z"
   },
   {
    "duration": 380,
    "start_time": "2024-08-22T06:49:56.397Z"
   },
   {
    "duration": 221,
    "start_time": "2024-08-22T06:49:56.778Z"
   },
   {
    "duration": 344,
    "start_time": "2024-08-22T06:49:57.000Z"
   },
   {
    "duration": 136,
    "start_time": "2024-08-22T06:49:57.346Z"
   },
   {
    "duration": 5,
    "start_time": "2024-08-22T06:49:57.485Z"
   },
   {
    "duration": 151,
    "start_time": "2024-08-22T06:49:57.492Z"
   },
   {
    "duration": 141,
    "start_time": "2024-08-22T06:49:57.645Z"
   },
   {
    "duration": 4,
    "start_time": "2024-08-22T06:49:57.788Z"
   },
   {
    "duration": 292,
    "start_time": "2024-08-22T06:49:57.794Z"
   },
   {
    "duration": 138,
    "start_time": "2024-08-22T06:49:58.088Z"
   },
   {
    "duration": 49,
    "start_time": "2024-08-22T06:49:58.227Z"
   },
   {
    "duration": 30,
    "start_time": "2024-08-22T06:49:58.277Z"
   },
   {
    "duration": 12,
    "start_time": "2024-08-22T06:49:58.309Z"
   },
   {
    "duration": 12,
    "start_time": "2024-08-22T06:49:58.322Z"
   },
   {
    "duration": 47,
    "start_time": "2024-08-22T06:49:58.336Z"
   },
   {
    "duration": 32,
    "start_time": "2024-08-22T06:49:58.385Z"
   },
   {
    "duration": 613,
    "start_time": "2024-08-22T06:49:58.419Z"
   },
   {
    "duration": 9,
    "start_time": "2024-08-22T07:02:56.919Z"
   },
   {
    "duration": 94,
    "start_time": "2024-08-22T07:03:16.276Z"
   },
   {
    "duration": 15,
    "start_time": "2024-08-22T07:03:32.778Z"
   },
   {
    "duration": 7,
    "start_time": "2024-08-22T07:03:41.083Z"
   },
   {
    "duration": 7,
    "start_time": "2024-08-22T07:03:47.729Z"
   },
   {
    "duration": 5,
    "start_time": "2024-08-22T07:03:57.274Z"
   },
   {
    "duration": 5,
    "start_time": "2024-08-22T07:03:58.805Z"
   },
   {
    "duration": 6,
    "start_time": "2024-08-22T07:04:02.092Z"
   },
   {
    "duration": 5,
    "start_time": "2024-08-22T07:08:33.609Z"
   },
   {
    "duration": 12,
    "start_time": "2024-08-22T07:08:39.085Z"
   },
   {
    "duration": 5,
    "start_time": "2024-08-22T07:08:43.328Z"
   },
   {
    "duration": 23,
    "start_time": "2024-08-22T07:08:53.003Z"
   },
   {
    "duration": 19,
    "start_time": "2024-08-22T07:09:00.173Z"
   },
   {
    "duration": 29,
    "start_time": "2024-08-22T07:10:50.710Z"
   },
   {
    "duration": 5,
    "start_time": "2024-08-22T07:10:55.323Z"
   },
   {
    "duration": 8,
    "start_time": "2024-08-22T07:10:58.130Z"
   },
   {
    "duration": 10,
    "start_time": "2024-08-22T07:11:10.572Z"
   },
   {
    "duration": 9,
    "start_time": "2024-08-22T07:11:16.753Z"
   },
   {
    "duration": 10,
    "start_time": "2024-08-22T07:11:21.397Z"
   },
   {
    "duration": 11,
    "start_time": "2024-08-22T07:11:24.174Z"
   },
   {
    "duration": 24,
    "start_time": "2024-08-22T07:14:07.817Z"
   },
   {
    "duration": 12,
    "start_time": "2024-08-22T07:17:26.079Z"
   },
   {
    "duration": 12,
    "start_time": "2024-08-22T07:17:33.254Z"
   },
   {
    "duration": 10,
    "start_time": "2024-08-22T07:18:36.132Z"
   },
   {
    "duration": 35,
    "start_time": "2024-08-22T07:18:42.585Z"
   },
   {
    "duration": 18,
    "start_time": "2024-08-22T07:18:52.890Z"
   },
   {
    "duration": 3,
    "start_time": "2024-08-22T07:19:21.161Z"
   },
   {
    "duration": 4,
    "start_time": "2024-08-22T07:19:34.637Z"
   },
   {
    "duration": 10,
    "start_time": "2024-08-22T07:19:46.007Z"
   },
   {
    "duration": 13,
    "start_time": "2024-08-22T07:19:46.763Z"
   },
   {
    "duration": 5,
    "start_time": "2024-08-22T07:19:50.717Z"
   },
   {
    "duration": 14,
    "start_time": "2024-08-22T07:19:59.847Z"
   },
   {
    "duration": 5,
    "start_time": "2024-08-22T07:23:45.646Z"
   },
   {
    "duration": 1153,
    "start_time": "2024-08-22T07:23:52.679Z"
   },
   {
    "duration": 79,
    "start_time": "2024-08-22T07:23:53.834Z"
   },
   {
    "duration": 4,
    "start_time": "2024-08-22T07:23:53.915Z"
   },
   {
    "duration": 15,
    "start_time": "2024-08-22T07:23:53.921Z"
   },
   {
    "duration": 11,
    "start_time": "2024-08-22T07:23:53.938Z"
   },
   {
    "duration": 9,
    "start_time": "2024-08-22T07:23:53.951Z"
   },
   {
    "duration": 10,
    "start_time": "2024-08-22T07:23:53.962Z"
   },
   {
    "duration": 34,
    "start_time": "2024-08-22T07:23:53.973Z"
   },
   {
    "duration": 10,
    "start_time": "2024-08-22T07:23:54.009Z"
   },
   {
    "duration": 47,
    "start_time": "2024-08-22T07:23:54.022Z"
   },
   {
    "duration": 38,
    "start_time": "2024-08-22T07:23:54.070Z"
   },
   {
    "duration": 5,
    "start_time": "2024-08-22T07:23:54.110Z"
   },
   {
    "duration": 6,
    "start_time": "2024-08-22T07:23:54.116Z"
   },
   {
    "duration": 13,
    "start_time": "2024-08-22T07:23:54.124Z"
   },
   {
    "duration": 12,
    "start_time": "2024-08-22T07:23:54.139Z"
   },
   {
    "duration": 12,
    "start_time": "2024-08-22T07:23:54.152Z"
   },
   {
    "duration": 21,
    "start_time": "2024-08-22T07:23:54.165Z"
   },
   {
    "duration": 5,
    "start_time": "2024-08-22T07:23:54.187Z"
   },
   {
    "duration": 8,
    "start_time": "2024-08-22T07:23:54.206Z"
   },
   {
    "duration": 13,
    "start_time": "2024-08-22T07:23:54.216Z"
   },
   {
    "duration": 11,
    "start_time": "2024-08-22T07:23:54.231Z"
   },
   {
    "duration": 14,
    "start_time": "2024-08-22T07:23:54.244Z"
   },
   {
    "duration": 319,
    "start_time": "2024-08-22T07:23:54.260Z"
   },
   {
    "duration": 299,
    "start_time": "2024-08-22T07:23:54.581Z"
   },
   {
    "duration": 219,
    "start_time": "2024-08-22T07:23:54.881Z"
   },
   {
    "duration": 319,
    "start_time": "2024-08-22T07:23:55.101Z"
   },
   {
    "duration": 419,
    "start_time": "2024-08-22T07:23:55.421Z"
   },
   {
    "duration": 568,
    "start_time": "2024-08-22T07:23:55.843Z"
   },
   {
    "duration": 306,
    "start_time": "2024-08-22T07:23:56.413Z"
   },
   {
    "duration": 4,
    "start_time": "2024-08-22T07:23:56.721Z"
   },
   {
    "duration": 248,
    "start_time": "2024-08-22T07:23:56.726Z"
   },
   {
    "duration": 149,
    "start_time": "2024-08-22T07:23:56.975Z"
   },
   {
    "duration": 7,
    "start_time": "2024-08-22T07:23:57.126Z"
   },
   {
    "duration": 320,
    "start_time": "2024-08-22T07:23:57.135Z"
   },
   {
    "duration": 128,
    "start_time": "2024-08-22T07:23:57.456Z"
   },
   {
    "duration": 56,
    "start_time": "2024-08-22T07:23:57.586Z"
   },
   {
    "duration": 14,
    "start_time": "2024-08-22T07:23:57.643Z"
   },
   {
    "duration": 10,
    "start_time": "2024-08-22T07:23:57.659Z"
   },
   {
    "duration": 22,
    "start_time": "2024-08-22T07:23:57.671Z"
   },
   {
    "duration": 58,
    "start_time": "2024-08-22T07:23:57.694Z"
   },
   {
    "duration": 15,
    "start_time": "2024-08-22T07:23:57.754Z"
   },
   {
    "duration": 648,
    "start_time": "2024-08-22T07:23:57.770Z"
   },
   {
    "duration": 15,
    "start_time": "2024-08-22T07:33:22.754Z"
   },
   {
    "duration": 78,
    "start_time": "2024-08-22T07:33:32.388Z"
   },
   {
    "duration": 107,
    "start_time": "2024-08-22T07:33:38.947Z"
   },
   {
    "duration": 1099,
    "start_time": "2024-08-22T07:33:47.618Z"
   },
   {
    "duration": 80,
    "start_time": "2024-08-22T07:33:48.719Z"
   },
   {
    "duration": 3,
    "start_time": "2024-08-22T07:33:48.801Z"
   },
   {
    "duration": 22,
    "start_time": "2024-08-22T07:33:48.806Z"
   },
   {
    "duration": 28,
    "start_time": "2024-08-22T07:33:48.831Z"
   },
   {
    "duration": 26,
    "start_time": "2024-08-22T07:33:48.861Z"
   },
   {
    "duration": 35,
    "start_time": "2024-08-22T07:33:48.889Z"
   },
   {
    "duration": 32,
    "start_time": "2024-08-22T07:33:48.925Z"
   },
   {
    "duration": 13,
    "start_time": "2024-08-22T07:33:48.959Z"
   },
   {
    "duration": 23,
    "start_time": "2024-08-22T07:33:48.973Z"
   },
   {
    "duration": 27,
    "start_time": "2024-08-22T07:33:48.998Z"
   },
   {
    "duration": 6,
    "start_time": "2024-08-22T07:33:49.026Z"
   },
   {
    "duration": 22,
    "start_time": "2024-08-22T07:33:49.033Z"
   },
   {
    "duration": 22,
    "start_time": "2024-08-22T07:33:49.058Z"
   },
   {
    "duration": 30,
    "start_time": "2024-08-22T07:33:49.082Z"
   },
   {
    "duration": 50,
    "start_time": "2024-08-22T07:33:49.114Z"
   },
   {
    "duration": 40,
    "start_time": "2024-08-22T07:33:49.165Z"
   },
   {
    "duration": 11,
    "start_time": "2024-08-22T07:33:49.206Z"
   },
   {
    "duration": 27,
    "start_time": "2024-08-22T07:33:49.219Z"
   },
   {
    "duration": 37,
    "start_time": "2024-08-22T07:33:49.248Z"
   },
   {
    "duration": 24,
    "start_time": "2024-08-22T07:33:49.287Z"
   },
   {
    "duration": 31,
    "start_time": "2024-08-22T07:33:49.312Z"
   },
   {
    "duration": 38,
    "start_time": "2024-08-22T07:33:49.345Z"
   },
   {
    "duration": 308,
    "start_time": "2024-08-22T07:33:49.385Z"
   },
   {
    "duration": 306,
    "start_time": "2024-08-22T07:33:49.695Z"
   },
   {
    "duration": 234,
    "start_time": "2024-08-22T07:33:50.003Z"
   },
   {
    "duration": 298,
    "start_time": "2024-08-22T07:33:50.239Z"
   },
   {
    "duration": 232,
    "start_time": "2024-08-22T07:33:50.539Z"
   },
   {
    "duration": 355,
    "start_time": "2024-08-22T07:33:50.773Z"
   },
   {
    "duration": 163,
    "start_time": "2024-08-22T07:33:51.129Z"
   },
   {
    "duration": 5,
    "start_time": "2024-08-22T07:33:51.294Z"
   },
   {
    "duration": 159,
    "start_time": "2024-08-22T07:33:51.308Z"
   },
   {
    "duration": 142,
    "start_time": "2024-08-22T07:33:51.469Z"
   },
   {
    "duration": 5,
    "start_time": "2024-08-22T07:33:51.613Z"
   },
   {
    "duration": 318,
    "start_time": "2024-08-22T07:33:51.620Z"
   },
   {
    "duration": 140,
    "start_time": "2024-08-22T07:33:51.940Z"
   },
   {
    "duration": 62,
    "start_time": "2024-08-22T07:33:52.082Z"
   },
   {
    "duration": 13,
    "start_time": "2024-08-22T07:33:52.146Z"
   },
   {
    "duration": 28,
    "start_time": "2024-08-22T07:33:52.161Z"
   },
   {
    "duration": 40,
    "start_time": "2024-08-22T07:33:52.190Z"
   },
   {
    "duration": 68,
    "start_time": "2024-08-22T07:33:52.234Z"
   },
   {
    "duration": 17,
    "start_time": "2024-08-22T07:33:52.304Z"
   },
   {
    "duration": 628,
    "start_time": "2024-08-22T07:33:52.322Z"
   },
   {
    "duration": 11,
    "start_time": "2024-08-22T07:36:35.776Z"
   },
   {
    "duration": 3,
    "start_time": "2024-08-22T07:36:47.164Z"
   },
   {
    "duration": 5,
    "start_time": "2024-08-22T07:36:50.156Z"
   },
   {
    "duration": 15,
    "start_time": "2024-08-22T07:37:09.067Z"
   },
   {
    "duration": 4,
    "start_time": "2024-08-22T07:38:05.441Z"
   },
   {
    "duration": 5,
    "start_time": "2024-08-22T07:38:06.536Z"
   },
   {
    "duration": 14,
    "start_time": "2024-08-22T07:38:09.512Z"
   },
   {
    "duration": 1188,
    "start_time": "2024-08-22T07:38:16.792Z"
   },
   {
    "duration": 79,
    "start_time": "2024-08-22T07:38:17.982Z"
   },
   {
    "duration": 3,
    "start_time": "2024-08-22T07:38:18.062Z"
   },
   {
    "duration": 12,
    "start_time": "2024-08-22T07:38:18.068Z"
   },
   {
    "duration": 16,
    "start_time": "2024-08-22T07:38:18.081Z"
   },
   {
    "duration": 16,
    "start_time": "2024-08-22T07:38:18.099Z"
   },
   {
    "duration": 23,
    "start_time": "2024-08-22T07:38:18.116Z"
   },
   {
    "duration": 8,
    "start_time": "2024-08-22T07:38:18.140Z"
   },
   {
    "duration": 11,
    "start_time": "2024-08-22T07:38:18.149Z"
   },
   {
    "duration": 11,
    "start_time": "2024-08-22T07:38:18.163Z"
   },
   {
    "duration": 36,
    "start_time": "2024-08-22T07:38:18.175Z"
   },
   {
    "duration": 6,
    "start_time": "2024-08-22T07:38:18.213Z"
   },
   {
    "duration": 4,
    "start_time": "2024-08-22T07:38:18.221Z"
   },
   {
    "duration": 5,
    "start_time": "2024-08-22T07:38:18.227Z"
   },
   {
    "duration": 5,
    "start_time": "2024-08-22T07:38:18.233Z"
   },
   {
    "duration": 13,
    "start_time": "2024-08-22T07:38:18.240Z"
   },
   {
    "duration": 11,
    "start_time": "2024-08-22T07:38:18.254Z"
   },
   {
    "duration": 42,
    "start_time": "2024-08-22T07:38:18.266Z"
   },
   {
    "duration": 5,
    "start_time": "2024-08-22T07:38:18.310Z"
   },
   {
    "duration": 14,
    "start_time": "2024-08-22T07:38:18.317Z"
   },
   {
    "duration": 9,
    "start_time": "2024-08-22T07:38:18.333Z"
   },
   {
    "duration": 13,
    "start_time": "2024-08-22T07:38:18.344Z"
   },
   {
    "duration": 50,
    "start_time": "2024-08-22T07:38:18.359Z"
   },
   {
    "duration": 14,
    "start_time": "2024-08-22T07:38:18.411Z"
   },
   {
    "duration": 311,
    "start_time": "2024-08-22T07:38:18.427Z"
   },
   {
    "duration": 324,
    "start_time": "2024-08-22T07:38:18.740Z"
   },
   {
    "duration": 215,
    "start_time": "2024-08-22T07:38:19.066Z"
   },
   {
    "duration": 337,
    "start_time": "2024-08-22T07:38:19.284Z"
   },
   {
    "duration": 230,
    "start_time": "2024-08-22T07:38:19.622Z"
   },
   {
    "duration": 303,
    "start_time": "2024-08-22T07:38:19.853Z"
   },
   {
    "duration": 164,
    "start_time": "2024-08-22T07:38:20.157Z"
   },
   {
    "duration": 5,
    "start_time": "2024-08-22T07:38:20.322Z"
   },
   {
    "duration": 148,
    "start_time": "2024-08-22T07:38:20.329Z"
   },
   {
    "duration": 144,
    "start_time": "2024-08-22T07:38:20.478Z"
   },
   {
    "duration": 5,
    "start_time": "2024-08-22T07:38:20.624Z"
   },
   {
    "duration": 307,
    "start_time": "2024-08-22T07:38:20.630Z"
   },
   {
    "duration": 123,
    "start_time": "2024-08-22T07:38:20.938Z"
   },
   {
    "duration": 56,
    "start_time": "2024-08-22T07:38:21.063Z"
   },
   {
    "duration": 14,
    "start_time": "2024-08-22T07:38:21.120Z"
   },
   {
    "duration": 48,
    "start_time": "2024-08-22T07:38:21.135Z"
   },
   {
    "duration": 12,
    "start_time": "2024-08-22T07:38:21.184Z"
   },
   {
    "duration": 47,
    "start_time": "2024-08-22T07:38:21.197Z"
   },
   {
    "duration": 14,
    "start_time": "2024-08-22T07:38:21.246Z"
   },
   {
    "duration": 578,
    "start_time": "2024-08-22T07:38:21.262Z"
   },
   {
    "duration": 3,
    "start_time": "2024-08-22T07:46:23.381Z"
   },
   {
    "duration": 3,
    "start_time": "2024-08-22T07:46:26.997Z"
   },
   {
    "duration": 1133,
    "start_time": "2024-08-22T07:46:31.128Z"
   },
   {
    "duration": 81,
    "start_time": "2024-08-22T07:46:32.263Z"
   },
   {
    "duration": 3,
    "start_time": "2024-08-22T07:46:32.347Z"
   },
   {
    "duration": 24,
    "start_time": "2024-08-22T07:46:32.353Z"
   },
   {
    "duration": 13,
    "start_time": "2024-08-22T07:46:32.380Z"
   },
   {
    "duration": 9,
    "start_time": "2024-08-22T07:46:32.395Z"
   },
   {
    "duration": 11,
    "start_time": "2024-08-22T07:46:32.406Z"
   },
   {
    "duration": 7,
    "start_time": "2024-08-22T07:46:32.419Z"
   },
   {
    "duration": 18,
    "start_time": "2024-08-22T07:46:32.427Z"
   },
   {
    "duration": 7,
    "start_time": "2024-08-22T07:46:32.447Z"
   },
   {
    "duration": 23,
    "start_time": "2024-08-22T07:46:32.456Z"
   },
   {
    "duration": 5,
    "start_time": "2024-08-22T07:46:32.481Z"
   },
   {
    "duration": 5,
    "start_time": "2024-08-22T07:46:32.508Z"
   },
   {
    "duration": 7,
    "start_time": "2024-08-22T07:46:32.516Z"
   },
   {
    "duration": 5,
    "start_time": "2024-08-22T07:46:32.525Z"
   },
   {
    "duration": 16,
    "start_time": "2024-08-22T07:46:32.532Z"
   },
   {
    "duration": 3,
    "start_time": "2024-08-22T07:46:32.549Z"
   },
   {
    "duration": 11,
    "start_time": "2024-08-22T07:46:32.554Z"
   },
   {
    "duration": 4,
    "start_time": "2024-08-22T07:46:32.567Z"
   },
   {
    "duration": 36,
    "start_time": "2024-08-22T07:46:32.572Z"
   },
   {
    "duration": 14,
    "start_time": "2024-08-22T07:46:32.611Z"
   },
   {
    "duration": 4,
    "start_time": "2024-08-22T07:46:32.626Z"
   },
   {
    "duration": 20,
    "start_time": "2024-08-22T07:46:32.631Z"
   },
   {
    "duration": 17,
    "start_time": "2024-08-22T07:46:32.653Z"
   },
   {
    "duration": 15,
    "start_time": "2024-08-22T07:46:32.672Z"
   },
   {
    "duration": 28,
    "start_time": "2024-08-22T07:46:32.689Z"
   },
   {
    "duration": 308,
    "start_time": "2024-08-22T07:46:32.719Z"
   },
   {
    "duration": 306,
    "start_time": "2024-08-22T07:46:33.028Z"
   },
   {
    "duration": 231,
    "start_time": "2024-08-22T07:46:33.335Z"
   },
   {
    "duration": 304,
    "start_time": "2024-08-22T07:46:33.567Z"
   },
   {
    "duration": 227,
    "start_time": "2024-08-22T07:46:33.873Z"
   },
   {
    "duration": 346,
    "start_time": "2024-08-22T07:46:34.102Z"
   },
   {
    "duration": 157,
    "start_time": "2024-08-22T07:46:34.450Z"
   },
   {
    "duration": 5,
    "start_time": "2024-08-22T07:46:34.609Z"
   },
   {
    "duration": 152,
    "start_time": "2024-08-22T07:46:34.615Z"
   },
   {
    "duration": 143,
    "start_time": "2024-08-22T07:46:34.769Z"
   },
   {
    "duration": 4,
    "start_time": "2024-08-22T07:46:34.914Z"
   },
   {
    "duration": 300,
    "start_time": "2024-08-22T07:46:34.920Z"
   },
   {
    "duration": 133,
    "start_time": "2024-08-22T07:46:35.222Z"
   },
   {
    "duration": 58,
    "start_time": "2024-08-22T07:46:35.357Z"
   },
   {
    "duration": 14,
    "start_time": "2024-08-22T07:46:35.418Z"
   },
   {
    "duration": 28,
    "start_time": "2024-08-22T07:46:35.434Z"
   },
   {
    "duration": 32,
    "start_time": "2024-08-22T07:46:35.463Z"
   },
   {
    "duration": 57,
    "start_time": "2024-08-22T07:46:35.497Z"
   },
   {
    "duration": 14,
    "start_time": "2024-08-22T07:46:35.556Z"
   },
   {
    "duration": 636,
    "start_time": "2024-08-22T07:46:35.571Z"
   },
   {
    "duration": 17,
    "start_time": "2024-08-22T07:51:31.361Z"
   },
   {
    "duration": 4,
    "start_time": "2024-08-22T07:52:05.728Z"
   },
   {
    "duration": 19,
    "start_time": "2024-08-22T07:52:12.300Z"
   },
   {
    "duration": 4,
    "start_time": "2024-08-22T07:52:58.746Z"
   },
   {
    "duration": 1035,
    "start_time": "2024-08-22T07:53:51.345Z"
   },
   {
    "duration": 80,
    "start_time": "2024-08-22T07:53:52.382Z"
   },
   {
    "duration": 2,
    "start_time": "2024-08-22T07:53:52.463Z"
   },
   {
    "duration": 15,
    "start_time": "2024-08-22T07:53:52.467Z"
   },
   {
    "duration": 9,
    "start_time": "2024-08-22T07:53:52.484Z"
   },
   {
    "duration": 7,
    "start_time": "2024-08-22T07:53:52.495Z"
   },
   {
    "duration": 24,
    "start_time": "2024-08-22T07:53:52.503Z"
   },
   {
    "duration": 25,
    "start_time": "2024-08-22T07:53:52.529Z"
   },
   {
    "duration": 18,
    "start_time": "2024-08-22T07:53:52.556Z"
   },
   {
    "duration": 16,
    "start_time": "2024-08-22T07:53:52.575Z"
   },
   {
    "duration": 21,
    "start_time": "2024-08-22T07:53:52.592Z"
   },
   {
    "duration": 5,
    "start_time": "2024-08-22T07:53:52.614Z"
   },
   {
    "duration": 6,
    "start_time": "2024-08-22T07:53:52.620Z"
   },
   {
    "duration": 5,
    "start_time": "2024-08-22T07:53:52.629Z"
   },
   {
    "duration": 6,
    "start_time": "2024-08-22T07:53:52.635Z"
   },
   {
    "duration": 7,
    "start_time": "2024-08-22T07:53:52.642Z"
   },
   {
    "duration": 15,
    "start_time": "2024-08-22T07:53:52.651Z"
   },
   {
    "duration": 3,
    "start_time": "2024-08-22T07:53:52.667Z"
   },
   {
    "duration": 47,
    "start_time": "2024-08-22T07:53:52.672Z"
   },
   {
    "duration": 7,
    "start_time": "2024-08-22T07:53:52.720Z"
   },
   {
    "duration": 10,
    "start_time": "2024-08-22T07:53:52.729Z"
   },
   {
    "duration": 10,
    "start_time": "2024-08-22T07:53:52.740Z"
   },
   {
    "duration": 18,
    "start_time": "2024-08-22T07:53:52.752Z"
   },
   {
    "duration": 323,
    "start_time": "2024-08-22T07:53:52.771Z"
   },
   {
    "duration": 291,
    "start_time": "2024-08-22T07:53:53.096Z"
   },
   {
    "duration": 219,
    "start_time": "2024-08-22T07:53:53.388Z"
   },
   {
    "duration": 334,
    "start_time": "2024-08-22T07:53:53.609Z"
   },
   {
    "duration": 222,
    "start_time": "2024-08-22T07:53:53.945Z"
   },
   {
    "duration": 344,
    "start_time": "2024-08-22T07:53:54.168Z"
   },
   {
    "duration": 150,
    "start_time": "2024-08-22T07:53:54.514Z"
   },
   {
    "duration": 5,
    "start_time": "2024-08-22T07:53:54.666Z"
   },
   {
    "duration": 151,
    "start_time": "2024-08-22T07:53:54.672Z"
   },
   {
    "duration": 145,
    "start_time": "2024-08-22T07:53:54.825Z"
   },
   {
    "duration": 4,
    "start_time": "2024-08-22T07:53:54.972Z"
   },
   {
    "duration": 298,
    "start_time": "2024-08-22T07:53:54.978Z"
   },
   {
    "duration": 130,
    "start_time": "2024-08-22T07:53:55.278Z"
   },
   {
    "duration": 46,
    "start_time": "2024-08-22T07:53:55.410Z"
   },
   {
    "duration": 13,
    "start_time": "2024-08-22T07:53:55.458Z"
   },
   {
    "duration": 10,
    "start_time": "2024-08-22T07:53:55.472Z"
   },
   {
    "duration": 28,
    "start_time": "2024-08-22T07:53:55.483Z"
   },
   {
    "duration": 45,
    "start_time": "2024-08-22T07:53:55.514Z"
   },
   {
    "duration": 15,
    "start_time": "2024-08-22T07:53:55.560Z"
   },
   {
    "duration": 638,
    "start_time": "2024-08-22T07:53:55.576Z"
   },
   {
    "duration": 20,
    "start_time": "2024-08-22T07:54:53.686Z"
   },
   {
    "duration": 1047,
    "start_time": "2024-08-22T07:55:11.942Z"
   },
   {
    "duration": 79,
    "start_time": "2024-08-22T07:55:12.991Z"
   },
   {
    "duration": 3,
    "start_time": "2024-08-22T07:55:13.072Z"
   },
   {
    "duration": 21,
    "start_time": "2024-08-22T07:55:13.078Z"
   },
   {
    "duration": 12,
    "start_time": "2024-08-22T07:55:13.100Z"
   },
   {
    "duration": 9,
    "start_time": "2024-08-22T07:55:13.113Z"
   },
   {
    "duration": 17,
    "start_time": "2024-08-22T07:55:13.123Z"
   },
   {
    "duration": 16,
    "start_time": "2024-08-22T07:55:13.142Z"
   },
   {
    "duration": 10,
    "start_time": "2024-08-22T07:55:13.159Z"
   },
   {
    "duration": 20,
    "start_time": "2024-08-22T07:55:13.171Z"
   },
   {
    "duration": 68,
    "start_time": "2024-08-22T07:55:13.193Z"
   },
   {
    "duration": 9,
    "start_time": "2024-08-22T07:55:13.263Z"
   },
   {
    "duration": 13,
    "start_time": "2024-08-22T07:55:13.273Z"
   },
   {
    "duration": 5,
    "start_time": "2024-08-22T07:55:13.288Z"
   },
   {
    "duration": 6,
    "start_time": "2024-08-22T07:55:13.294Z"
   },
   {
    "duration": 6,
    "start_time": "2024-08-22T07:55:13.302Z"
   },
   {
    "duration": 13,
    "start_time": "2024-08-22T07:55:13.310Z"
   },
   {
    "duration": 5,
    "start_time": "2024-08-22T07:55:13.325Z"
   },
   {
    "duration": 31,
    "start_time": "2024-08-22T07:55:13.333Z"
   },
   {
    "duration": 7,
    "start_time": "2024-08-22T07:55:13.366Z"
   },
   {
    "duration": 25,
    "start_time": "2024-08-22T07:55:13.375Z"
   },
   {
    "duration": 20,
    "start_time": "2024-08-22T07:55:13.402Z"
   },
   {
    "duration": 39,
    "start_time": "2024-08-22T07:55:13.423Z"
   },
   {
    "duration": 285,
    "start_time": "2024-08-22T07:55:13.464Z"
   },
   {
    "duration": 299,
    "start_time": "2024-08-22T07:55:13.751Z"
   },
   {
    "duration": 218,
    "start_time": "2024-08-22T07:55:14.051Z"
   },
   {
    "duration": 350,
    "start_time": "2024-08-22T07:55:14.270Z"
   },
   {
    "duration": 220,
    "start_time": "2024-08-22T07:55:14.623Z"
   },
   {
    "duration": 429,
    "start_time": "2024-08-22T07:55:14.845Z"
   },
   {
    "duration": 226,
    "start_time": "2024-08-22T07:55:15.275Z"
   },
   {
    "duration": 9,
    "start_time": "2024-08-22T07:55:15.502Z"
   },
   {
    "duration": 152,
    "start_time": "2024-08-22T07:55:15.513Z"
   },
   {
    "duration": 143,
    "start_time": "2024-08-22T07:55:15.667Z"
   },
   {
    "duration": 5,
    "start_time": "2024-08-22T07:55:15.812Z"
   },
   {
    "duration": 308,
    "start_time": "2024-08-22T07:55:15.818Z"
   },
   {
    "duration": 132,
    "start_time": "2024-08-22T07:55:16.127Z"
   },
   {
    "duration": 55,
    "start_time": "2024-08-22T07:55:16.261Z"
   },
   {
    "duration": 14,
    "start_time": "2024-08-22T07:55:16.318Z"
   },
   {
    "duration": 10,
    "start_time": "2024-08-22T07:55:16.334Z"
   },
   {
    "duration": 14,
    "start_time": "2024-08-22T07:55:16.346Z"
   },
   {
    "duration": 65,
    "start_time": "2024-08-22T07:55:16.361Z"
   },
   {
    "duration": 14,
    "start_time": "2024-08-22T07:55:16.427Z"
   },
   {
    "duration": 576,
    "start_time": "2024-08-22T07:55:16.442Z"
   },
   {
    "duration": 4,
    "start_time": "2024-08-22T07:55:54.880Z"
   },
   {
    "duration": 16,
    "start_time": "2024-08-22T07:57:27.009Z"
   },
   {
    "duration": 1086,
    "start_time": "2024-08-22T07:57:31.586Z"
   },
   {
    "duration": 79,
    "start_time": "2024-08-22T07:57:32.674Z"
   },
   {
    "duration": 3,
    "start_time": "2024-08-22T07:57:32.754Z"
   },
   {
    "duration": 15,
    "start_time": "2024-08-22T07:57:32.760Z"
   },
   {
    "duration": 11,
    "start_time": "2024-08-22T07:57:32.777Z"
   },
   {
    "duration": 7,
    "start_time": "2024-08-22T07:57:32.790Z"
   },
   {
    "duration": 11,
    "start_time": "2024-08-22T07:57:32.798Z"
   },
   {
    "duration": 7,
    "start_time": "2024-08-22T07:57:32.810Z"
   },
   {
    "duration": 35,
    "start_time": "2024-08-22T07:57:32.818Z"
   },
   {
    "duration": 15,
    "start_time": "2024-08-22T07:57:32.855Z"
   },
   {
    "duration": 33,
    "start_time": "2024-08-22T07:57:32.871Z"
   },
   {
    "duration": 11,
    "start_time": "2024-08-22T07:57:32.905Z"
   },
   {
    "duration": 11,
    "start_time": "2024-08-22T07:57:32.918Z"
   },
   {
    "duration": 32,
    "start_time": "2024-08-22T07:57:32.932Z"
   },
   {
    "duration": 9,
    "start_time": "2024-08-22T07:57:32.966Z"
   },
   {
    "duration": 7,
    "start_time": "2024-08-22T07:57:32.976Z"
   },
   {
    "duration": 19,
    "start_time": "2024-08-22T07:57:32.985Z"
   },
   {
    "duration": 4,
    "start_time": "2024-08-22T07:57:33.005Z"
   },
   {
    "duration": 18,
    "start_time": "2024-08-22T07:57:33.011Z"
   },
   {
    "duration": 26,
    "start_time": "2024-08-22T07:57:33.031Z"
   },
   {
    "duration": 33,
    "start_time": "2024-08-22T07:57:33.058Z"
   },
   {
    "duration": 25,
    "start_time": "2024-08-22T07:57:33.092Z"
   },
   {
    "duration": 16,
    "start_time": "2024-08-22T07:57:33.118Z"
   },
   {
    "duration": 281,
    "start_time": "2024-08-22T07:57:33.135Z"
   },
   {
    "duration": 293,
    "start_time": "2024-08-22T07:57:33.417Z"
   },
   {
    "duration": 203,
    "start_time": "2024-08-22T07:57:33.711Z"
   },
   {
    "duration": 305,
    "start_time": "2024-08-22T07:57:33.916Z"
   },
   {
    "duration": 209,
    "start_time": "2024-08-22T07:57:34.224Z"
   },
   {
    "duration": 304,
    "start_time": "2024-08-22T07:57:34.434Z"
   },
   {
    "duration": 147,
    "start_time": "2024-08-22T07:57:34.740Z"
   },
   {
    "duration": 5,
    "start_time": "2024-08-22T07:57:34.888Z"
   },
   {
    "duration": 148,
    "start_time": "2024-08-22T07:57:34.906Z"
   },
   {
    "duration": 141,
    "start_time": "2024-08-22T07:57:35.056Z"
   },
   {
    "duration": 4,
    "start_time": "2024-08-22T07:57:35.207Z"
   },
   {
    "duration": 284,
    "start_time": "2024-08-22T07:57:35.213Z"
   },
   {
    "duration": 124,
    "start_time": "2024-08-22T07:57:35.498Z"
   },
   {
    "duration": 44,
    "start_time": "2024-08-22T07:57:35.624Z"
   },
   {
    "duration": 17,
    "start_time": "2024-08-22T07:57:35.670Z"
   },
   {
    "duration": 31,
    "start_time": "2024-08-22T07:57:35.688Z"
   },
   {
    "duration": 7,
    "start_time": "2024-08-22T07:57:35.721Z"
   },
   {
    "duration": 61,
    "start_time": "2024-08-22T07:57:35.729Z"
   },
   {
    "duration": 17,
    "start_time": "2024-08-22T07:57:35.792Z"
   },
   {
    "duration": 614,
    "start_time": "2024-08-22T07:57:35.810Z"
   },
   {
    "duration": 1138,
    "start_time": "2024-08-22T08:00:25.333Z"
   },
   {
    "duration": 79,
    "start_time": "2024-08-22T08:00:26.473Z"
   },
   {
    "duration": 2,
    "start_time": "2024-08-22T08:00:26.554Z"
   },
   {
    "duration": 12,
    "start_time": "2024-08-22T08:00:26.559Z"
   },
   {
    "duration": 11,
    "start_time": "2024-08-22T08:00:26.572Z"
   },
   {
    "duration": 12,
    "start_time": "2024-08-22T08:00:26.584Z"
   },
   {
    "duration": 10,
    "start_time": "2024-08-22T08:00:26.597Z"
   },
   {
    "duration": 7,
    "start_time": "2024-08-22T08:00:26.609Z"
   },
   {
    "duration": 10,
    "start_time": "2024-08-22T08:00:26.618Z"
   },
   {
    "duration": 12,
    "start_time": "2024-08-22T08:00:26.630Z"
   },
   {
    "duration": 20,
    "start_time": "2024-08-22T08:00:26.643Z"
   },
   {
    "duration": 13,
    "start_time": "2024-08-22T08:00:26.664Z"
   },
   {
    "duration": 7,
    "start_time": "2024-08-22T08:00:26.679Z"
   },
   {
    "duration": 5,
    "start_time": "2024-08-22T08:00:26.707Z"
   },
   {
    "duration": 11,
    "start_time": "2024-08-22T08:00:26.714Z"
   },
   {
    "duration": 16,
    "start_time": "2024-08-22T08:00:26.726Z"
   },
   {
    "duration": 20,
    "start_time": "2024-08-22T08:00:26.744Z"
   },
   {
    "duration": 4,
    "start_time": "2024-08-22T08:00:26.766Z"
   },
   {
    "duration": 37,
    "start_time": "2024-08-22T08:00:26.771Z"
   },
   {
    "duration": 8,
    "start_time": "2024-08-22T08:00:26.810Z"
   },
   {
    "duration": 25,
    "start_time": "2024-08-22T08:00:26.819Z"
   },
   {
    "duration": 12,
    "start_time": "2024-08-22T08:00:26.846Z"
   },
   {
    "duration": 13,
    "start_time": "2024-08-22T08:00:26.859Z"
   },
   {
    "duration": 286,
    "start_time": "2024-08-22T08:00:26.873Z"
   },
   {
    "duration": 317,
    "start_time": "2024-08-22T08:00:27.160Z"
   },
   {
    "duration": 208,
    "start_time": "2024-08-22T08:00:27.479Z"
   },
   {
    "duration": 323,
    "start_time": "2024-08-22T08:00:27.688Z"
   },
   {
    "duration": 218,
    "start_time": "2024-08-22T08:00:28.014Z"
   },
   {
    "duration": 306,
    "start_time": "2024-08-22T08:00:28.233Z"
   },
   {
    "duration": 157,
    "start_time": "2024-08-22T08:00:28.541Z"
   },
   {
    "duration": 9,
    "start_time": "2024-08-22T08:00:28.700Z"
   },
   {
    "duration": 151,
    "start_time": "2024-08-22T08:00:28.711Z"
   },
   {
    "duration": 137,
    "start_time": "2024-08-22T08:00:28.864Z"
   },
   {
    "duration": 6,
    "start_time": "2024-08-22T08:00:29.003Z"
   },
   {
    "duration": 308,
    "start_time": "2024-08-22T08:00:29.011Z"
   },
   {
    "duration": 134,
    "start_time": "2024-08-22T08:00:29.321Z"
   },
   {
    "duration": 59,
    "start_time": "2024-08-22T08:00:29.456Z"
   },
   {
    "duration": 13,
    "start_time": "2024-08-22T08:00:29.516Z"
   },
   {
    "duration": 11,
    "start_time": "2024-08-22T08:00:29.531Z"
   },
   {
    "duration": 7,
    "start_time": "2024-08-22T08:00:29.543Z"
   },
   {
    "duration": 70,
    "start_time": "2024-08-22T08:00:29.551Z"
   },
   {
    "duration": 15,
    "start_time": "2024-08-22T08:00:29.622Z"
   },
   {
    "duration": 593,
    "start_time": "2024-08-22T08:00:29.638Z"
   },
   {
    "duration": 13,
    "start_time": "2024-08-22T08:04:27.404Z"
   },
   {
    "duration": 13,
    "start_time": "2024-08-22T08:05:41.191Z"
   },
   {
    "duration": 7,
    "start_time": "2024-08-22T08:07:33.101Z"
   },
   {
    "duration": 14,
    "start_time": "2024-08-22T08:08:17.078Z"
   },
   {
    "duration": 6,
    "start_time": "2024-08-22T08:08:27.462Z"
   },
   {
    "duration": 95,
    "start_time": "2024-08-22T08:08:44.772Z"
   },
   {
    "duration": 4,
    "start_time": "2024-08-22T08:08:48.042Z"
   },
   {
    "duration": 11,
    "start_time": "2024-08-22T08:08:54.514Z"
   },
   {
    "duration": 6,
    "start_time": "2024-08-22T08:08:56.162Z"
   },
   {
    "duration": 7,
    "start_time": "2024-08-22T08:09:08.244Z"
   },
   {
    "duration": 9,
    "start_time": "2024-08-22T08:09:15.158Z"
   },
   {
    "duration": 50,
    "start_time": "2024-08-22T08:09:35.229Z"
   },
   {
    "duration": 10,
    "start_time": "2024-08-22T08:09:40.809Z"
   },
   {
    "duration": 31,
    "start_time": "2024-08-22T08:11:30.868Z"
   },
   {
    "duration": 10,
    "start_time": "2024-08-22T08:12:41.537Z"
   },
   {
    "duration": 4,
    "start_time": "2024-08-22T08:13:55.660Z"
   },
   {
    "duration": 13,
    "start_time": "2024-08-22T08:15:40.475Z"
   },
   {
    "duration": 68,
    "start_time": "2024-08-22T08:16:42.221Z"
   },
   {
    "duration": 4,
    "start_time": "2024-08-22T08:16:47.714Z"
   },
   {
    "duration": 14,
    "start_time": "2024-08-22T08:17:19.794Z"
   },
   {
    "duration": 1110,
    "start_time": "2024-08-22T08:17:33.664Z"
   },
   {
    "duration": 80,
    "start_time": "2024-08-22T08:17:34.776Z"
   },
   {
    "duration": 3,
    "start_time": "2024-08-22T08:17:34.857Z"
   },
   {
    "duration": 18,
    "start_time": "2024-08-22T08:17:34.862Z"
   },
   {
    "duration": 11,
    "start_time": "2024-08-22T08:17:34.882Z"
   },
   {
    "duration": 12,
    "start_time": "2024-08-22T08:17:34.895Z"
   },
   {
    "duration": 26,
    "start_time": "2024-08-22T08:17:34.908Z"
   },
   {
    "duration": 17,
    "start_time": "2024-08-22T08:17:34.936Z"
   },
   {
    "duration": 17,
    "start_time": "2024-08-22T08:17:34.955Z"
   },
   {
    "duration": 8,
    "start_time": "2024-08-22T08:17:34.974Z"
   },
   {
    "duration": 21,
    "start_time": "2024-08-22T08:17:34.983Z"
   },
   {
    "duration": 5,
    "start_time": "2024-08-22T08:17:35.006Z"
   },
   {
    "duration": 11,
    "start_time": "2024-08-22T08:17:35.013Z"
   },
   {
    "duration": 20,
    "start_time": "2024-08-22T08:17:35.027Z"
   },
   {
    "duration": 10,
    "start_time": "2024-08-22T08:17:35.049Z"
   },
   {
    "duration": 12,
    "start_time": "2024-08-22T08:17:35.061Z"
   },
   {
    "duration": 40,
    "start_time": "2024-08-22T08:17:35.074Z"
   },
   {
    "duration": 5,
    "start_time": "2024-08-22T08:17:35.115Z"
   },
   {
    "duration": 31,
    "start_time": "2024-08-22T08:17:35.121Z"
   },
   {
    "duration": 7,
    "start_time": "2024-08-22T08:17:35.153Z"
   },
   {
    "duration": 16,
    "start_time": "2024-08-22T08:17:35.161Z"
   },
   {
    "duration": 11,
    "start_time": "2024-08-22T08:17:35.178Z"
   },
   {
    "duration": 28,
    "start_time": "2024-08-22T08:17:35.190Z"
   },
   {
    "duration": 290,
    "start_time": "2024-08-22T08:17:35.219Z"
   },
   {
    "duration": 299,
    "start_time": "2024-08-22T08:17:35.510Z"
   },
   {
    "duration": 218,
    "start_time": "2024-08-22T08:17:35.810Z"
   },
   {
    "duration": 307,
    "start_time": "2024-08-22T08:17:36.030Z"
   },
   {
    "duration": 223,
    "start_time": "2024-08-22T08:17:36.338Z"
   },
   {
    "duration": 302,
    "start_time": "2024-08-22T08:17:36.563Z"
   },
   {
    "duration": 154,
    "start_time": "2024-08-22T08:17:36.867Z"
   },
   {
    "duration": 5,
    "start_time": "2024-08-22T08:17:37.023Z"
   },
   {
    "duration": 151,
    "start_time": "2024-08-22T08:17:37.029Z"
   },
   {
    "duration": 152,
    "start_time": "2024-08-22T08:17:37.182Z"
   },
   {
    "duration": 5,
    "start_time": "2024-08-22T08:17:37.337Z"
   },
   {
    "duration": 306,
    "start_time": "2024-08-22T08:17:37.344Z"
   },
   {
    "duration": 14,
    "start_time": "2024-08-22T08:17:37.652Z"
   },
   {
    "duration": 82,
    "start_time": "2024-08-22T08:17:37.668Z"
   },
   {
    "duration": 3,
    "start_time": "2024-08-22T08:17:37.752Z"
   },
   {
    "duration": 136,
    "start_time": "2024-08-22T08:17:37.757Z"
   },
   {
    "duration": 54,
    "start_time": "2024-08-22T08:17:37.895Z"
   },
   {
    "duration": 14,
    "start_time": "2024-08-22T08:17:37.953Z"
   },
   {
    "duration": 15,
    "start_time": "2024-08-22T08:17:37.968Z"
   },
   {
    "duration": 27,
    "start_time": "2024-08-22T08:17:37.984Z"
   },
   {
    "duration": 50,
    "start_time": "2024-08-22T08:17:38.013Z"
   },
   {
    "duration": 14,
    "start_time": "2024-08-22T08:17:38.064Z"
   },
   {
    "duration": 633,
    "start_time": "2024-08-22T08:17:38.080Z"
   },
   {
    "duration": 63,
    "start_time": "2024-08-22T08:19:24.232Z"
   },
   {
    "duration": 10,
    "start_time": "2024-08-22T08:19:32.768Z"
   },
   {
    "duration": 10,
    "start_time": "2024-08-22T08:19:38.521Z"
   },
   {
    "duration": 10,
    "start_time": "2024-08-22T08:20:17.593Z"
   },
   {
    "duration": 64,
    "start_time": "2024-08-22T08:23:12.099Z"
   },
   {
    "duration": 1137,
    "start_time": "2024-08-22T08:23:17.804Z"
   },
   {
    "duration": 80,
    "start_time": "2024-08-22T08:23:18.943Z"
   },
   {
    "duration": 4,
    "start_time": "2024-08-22T08:23:19.025Z"
   },
   {
    "duration": 29,
    "start_time": "2024-08-22T08:23:19.032Z"
   },
   {
    "duration": 32,
    "start_time": "2024-08-22T08:23:19.063Z"
   },
   {
    "duration": 26,
    "start_time": "2024-08-22T08:23:19.097Z"
   },
   {
    "duration": 29,
    "start_time": "2024-08-22T08:23:19.124Z"
   },
   {
    "duration": 37,
    "start_time": "2024-08-22T08:23:19.155Z"
   },
   {
    "duration": 34,
    "start_time": "2024-08-22T08:23:19.193Z"
   },
   {
    "duration": 21,
    "start_time": "2024-08-22T08:23:19.230Z"
   },
   {
    "duration": 47,
    "start_time": "2024-08-22T08:23:19.253Z"
   },
   {
    "duration": 9,
    "start_time": "2024-08-22T08:23:19.302Z"
   },
   {
    "duration": 56,
    "start_time": "2024-08-22T08:23:19.312Z"
   },
   {
    "duration": 51,
    "start_time": "2024-08-22T08:23:19.370Z"
   },
   {
    "duration": 24,
    "start_time": "2024-08-22T08:23:19.423Z"
   },
   {
    "duration": 24,
    "start_time": "2024-08-22T08:23:19.449Z"
   },
   {
    "duration": 52,
    "start_time": "2024-08-22T08:23:19.475Z"
   },
   {
    "duration": 19,
    "start_time": "2024-08-22T08:23:19.529Z"
   },
   {
    "duration": 30,
    "start_time": "2024-08-22T08:23:19.549Z"
   },
   {
    "duration": 32,
    "start_time": "2024-08-22T08:23:19.580Z"
   },
   {
    "duration": 26,
    "start_time": "2024-08-22T08:23:19.613Z"
   },
   {
    "duration": 30,
    "start_time": "2024-08-22T08:23:19.640Z"
   },
   {
    "duration": 29,
    "start_time": "2024-08-22T08:23:19.672Z"
   },
   {
    "duration": 283,
    "start_time": "2024-08-22T08:23:19.703Z"
   },
   {
    "duration": 312,
    "start_time": "2024-08-22T08:23:19.988Z"
   },
   {
    "duration": 216,
    "start_time": "2024-08-22T08:23:20.301Z"
   },
   {
    "duration": 305,
    "start_time": "2024-08-22T08:23:20.519Z"
   },
   {
    "duration": 233,
    "start_time": "2024-08-22T08:23:20.827Z"
   },
   {
    "duration": 318,
    "start_time": "2024-08-22T08:23:21.062Z"
   },
   {
    "duration": 175,
    "start_time": "2024-08-22T08:23:21.381Z"
   },
   {
    "duration": 4,
    "start_time": "2024-08-22T08:23:21.558Z"
   },
   {
    "duration": 181,
    "start_time": "2024-08-22T08:23:21.564Z"
   },
   {
    "duration": 152,
    "start_time": "2024-08-22T08:23:21.747Z"
   },
   {
    "duration": 5,
    "start_time": "2024-08-22T08:23:21.907Z"
   },
   {
    "duration": 309,
    "start_time": "2024-08-22T08:23:21.914Z"
   },
   {
    "duration": 9,
    "start_time": "2024-08-22T08:23:22.225Z"
   },
   {
    "duration": 117,
    "start_time": "2024-08-22T08:23:22.236Z"
   },
   {
    "duration": 0,
    "start_time": "2024-08-22T08:23:22.355Z"
   },
   {
    "duration": 0,
    "start_time": "2024-08-22T08:23:22.356Z"
   },
   {
    "duration": 0,
    "start_time": "2024-08-22T08:23:22.357Z"
   },
   {
    "duration": 0,
    "start_time": "2024-08-22T08:23:22.358Z"
   },
   {
    "duration": 0,
    "start_time": "2024-08-22T08:23:22.359Z"
   },
   {
    "duration": 0,
    "start_time": "2024-08-22T08:23:22.360Z"
   },
   {
    "duration": 0,
    "start_time": "2024-08-22T08:23:22.362Z"
   },
   {
    "duration": 0,
    "start_time": "2024-08-22T08:23:22.363Z"
   },
   {
    "duration": 0,
    "start_time": "2024-08-22T08:23:22.364Z"
   },
   {
    "duration": 0,
    "start_time": "2024-08-22T08:23:22.365Z"
   },
   {
    "duration": 0,
    "start_time": "2024-08-22T08:23:22.366Z"
   },
   {
    "duration": 57,
    "start_time": "2024-08-22T08:23:29.489Z"
   },
   {
    "duration": 10,
    "start_time": "2024-08-22T08:23:35.165Z"
   },
   {
    "duration": 1089,
    "start_time": "2024-08-22T08:24:16.393Z"
   },
   {
    "duration": 79,
    "start_time": "2024-08-22T08:24:17.484Z"
   },
   {
    "duration": 4,
    "start_time": "2024-08-22T08:24:17.564Z"
   },
   {
    "duration": 12,
    "start_time": "2024-08-22T08:24:17.570Z"
   },
   {
    "duration": 15,
    "start_time": "2024-08-22T08:24:17.583Z"
   },
   {
    "duration": 10,
    "start_time": "2024-08-22T08:24:17.599Z"
   },
   {
    "duration": 25,
    "start_time": "2024-08-22T08:24:17.611Z"
   },
   {
    "duration": 10,
    "start_time": "2024-08-22T08:24:17.638Z"
   },
   {
    "duration": 9,
    "start_time": "2024-08-22T08:24:17.650Z"
   },
   {
    "duration": 8,
    "start_time": "2024-08-22T08:24:17.662Z"
   },
   {
    "duration": 35,
    "start_time": "2024-08-22T08:24:17.672Z"
   },
   {
    "duration": 5,
    "start_time": "2024-08-22T08:24:17.709Z"
   },
   {
    "duration": 20,
    "start_time": "2024-08-22T08:24:17.716Z"
   },
   {
    "duration": 25,
    "start_time": "2024-08-22T08:24:17.737Z"
   },
   {
    "duration": 5,
    "start_time": "2024-08-22T08:24:17.764Z"
   },
   {
    "duration": 9,
    "start_time": "2024-08-22T08:24:17.771Z"
   },
   {
    "duration": 27,
    "start_time": "2024-08-22T08:24:17.781Z"
   },
   {
    "duration": 4,
    "start_time": "2024-08-22T08:24:17.809Z"
   },
   {
    "duration": 23,
    "start_time": "2024-08-22T08:24:17.815Z"
   },
   {
    "duration": 8,
    "start_time": "2024-08-22T08:24:17.839Z"
   },
   {
    "duration": 18,
    "start_time": "2024-08-22T08:24:17.848Z"
   },
   {
    "duration": 12,
    "start_time": "2024-08-22T08:24:17.867Z"
   },
   {
    "duration": 13,
    "start_time": "2024-08-22T08:24:17.908Z"
   },
   {
    "duration": 291,
    "start_time": "2024-08-22T08:24:17.923Z"
   },
   {
    "duration": 303,
    "start_time": "2024-08-22T08:24:18.216Z"
   },
   {
    "duration": 223,
    "start_time": "2024-08-22T08:24:18.521Z"
   },
   {
    "duration": 301,
    "start_time": "2024-08-22T08:24:18.745Z"
   },
   {
    "duration": 224,
    "start_time": "2024-08-22T08:24:19.049Z"
   },
   {
    "duration": 361,
    "start_time": "2024-08-22T08:24:19.275Z"
   },
   {
    "duration": 152,
    "start_time": "2024-08-22T08:24:19.637Z"
   },
   {
    "duration": 16,
    "start_time": "2024-08-22T08:24:19.791Z"
   },
   {
    "duration": 143,
    "start_time": "2024-08-22T08:24:19.808Z"
   },
   {
    "duration": 150,
    "start_time": "2024-08-22T08:24:19.953Z"
   },
   {
    "duration": 5,
    "start_time": "2024-08-22T08:24:20.104Z"
   },
   {
    "duration": 7,
    "start_time": "2024-08-22T08:24:20.110Z"
   },
   {
    "duration": 19,
    "start_time": "2024-08-22T08:24:20.118Z"
   },
   {
    "duration": 224,
    "start_time": "2024-08-22T08:24:20.139Z"
   },
   {
    "duration": 0,
    "start_time": "2024-08-22T08:24:20.365Z"
   },
   {
    "duration": 0,
    "start_time": "2024-08-22T08:24:20.366Z"
   },
   {
    "duration": 0,
    "start_time": "2024-08-22T08:24:20.368Z"
   },
   {
    "duration": 0,
    "start_time": "2024-08-22T08:24:20.369Z"
   },
   {
    "duration": 0,
    "start_time": "2024-08-22T08:24:20.370Z"
   },
   {
    "duration": 0,
    "start_time": "2024-08-22T08:24:20.372Z"
   },
   {
    "duration": 0,
    "start_time": "2024-08-22T08:24:20.373Z"
   },
   {
    "duration": 0,
    "start_time": "2024-08-22T08:24:20.375Z"
   },
   {
    "duration": 0,
    "start_time": "2024-08-22T08:24:20.376Z"
   },
   {
    "duration": 1109,
    "start_time": "2024-08-22T08:24:43.966Z"
   },
   {
    "duration": 81,
    "start_time": "2024-08-22T08:24:45.078Z"
   },
   {
    "duration": 3,
    "start_time": "2024-08-22T08:24:45.160Z"
   },
   {
    "duration": 31,
    "start_time": "2024-08-22T08:24:45.166Z"
   },
   {
    "duration": 14,
    "start_time": "2024-08-22T08:24:45.198Z"
   },
   {
    "duration": 27,
    "start_time": "2024-08-22T08:24:45.214Z"
   },
   {
    "duration": 55,
    "start_time": "2024-08-22T08:24:45.243Z"
   },
   {
    "duration": 29,
    "start_time": "2024-08-22T08:24:45.300Z"
   },
   {
    "duration": 47,
    "start_time": "2024-08-22T08:24:45.330Z"
   },
   {
    "duration": 20,
    "start_time": "2024-08-22T08:24:45.380Z"
   },
   {
    "duration": 31,
    "start_time": "2024-08-22T08:24:45.401Z"
   },
   {
    "duration": 6,
    "start_time": "2024-08-22T08:24:45.433Z"
   },
   {
    "duration": 33,
    "start_time": "2024-08-22T08:24:45.441Z"
   },
   {
    "duration": 18,
    "start_time": "2024-08-22T08:24:45.476Z"
   },
   {
    "duration": 13,
    "start_time": "2024-08-22T08:24:45.496Z"
   },
   {
    "duration": 14,
    "start_time": "2024-08-22T08:24:45.511Z"
   },
   {
    "duration": 29,
    "start_time": "2024-08-22T08:24:45.526Z"
   },
   {
    "duration": 5,
    "start_time": "2024-08-22T08:24:45.556Z"
   },
   {
    "duration": 39,
    "start_time": "2024-08-22T08:24:45.563Z"
   },
   {
    "duration": 8,
    "start_time": "2024-08-22T08:24:45.603Z"
   },
   {
    "duration": 21,
    "start_time": "2024-08-22T08:24:45.612Z"
   },
   {
    "duration": 17,
    "start_time": "2024-08-22T08:24:45.634Z"
   },
   {
    "duration": 22,
    "start_time": "2024-08-22T08:24:45.652Z"
   },
   {
    "duration": 296,
    "start_time": "2024-08-22T08:24:45.676Z"
   },
   {
    "duration": 303,
    "start_time": "2024-08-22T08:24:45.973Z"
   },
   {
    "duration": 219,
    "start_time": "2024-08-22T08:24:46.278Z"
   },
   {
    "duration": 306,
    "start_time": "2024-08-22T08:24:46.507Z"
   },
   {
    "duration": 227,
    "start_time": "2024-08-22T08:24:46.817Z"
   },
   {
    "duration": 314,
    "start_time": "2024-08-22T08:24:47.047Z"
   },
   {
    "duration": 157,
    "start_time": "2024-08-22T08:24:47.364Z"
   },
   {
    "duration": 6,
    "start_time": "2024-08-22T08:24:47.522Z"
   },
   {
    "duration": 157,
    "start_time": "2024-08-22T08:24:47.530Z"
   },
   {
    "duration": 152,
    "start_time": "2024-08-22T08:24:47.689Z"
   },
   {
    "duration": 5,
    "start_time": "2024-08-22T08:24:47.842Z"
   },
   {
    "duration": 11,
    "start_time": "2024-08-22T08:24:47.848Z"
   },
   {
    "duration": 135,
    "start_time": "2024-08-22T08:24:47.861Z"
   },
   {
    "duration": 11,
    "start_time": "2024-08-22T08:24:47.998Z"
   },
   {
    "duration": 126,
    "start_time": "2024-08-22T08:24:48.011Z"
   },
   {
    "duration": 47,
    "start_time": "2024-08-22T08:24:48.138Z"
   },
   {
    "duration": 26,
    "start_time": "2024-08-22T08:24:48.187Z"
   },
   {
    "duration": 11,
    "start_time": "2024-08-22T08:24:48.214Z"
   },
   {
    "duration": 7,
    "start_time": "2024-08-22T08:24:48.226Z"
   },
   {
    "duration": 54,
    "start_time": "2024-08-22T08:24:48.235Z"
   },
   {
    "duration": 29,
    "start_time": "2024-08-22T08:24:48.291Z"
   },
   {
    "duration": 591,
    "start_time": "2024-08-22T08:24:48.321Z"
   },
   {
    "duration": 12,
    "start_time": "2024-08-22T08:28:11.993Z"
   },
   {
    "duration": 8,
    "start_time": "2024-08-22T08:28:19.289Z"
   },
   {
    "duration": 1211,
    "start_time": "2024-08-22T08:28:23.390Z"
   },
   {
    "duration": 82,
    "start_time": "2024-08-22T08:28:24.603Z"
   },
   {
    "duration": 2,
    "start_time": "2024-08-22T08:28:24.687Z"
   },
   {
    "duration": 46,
    "start_time": "2024-08-22T08:28:24.691Z"
   },
   {
    "duration": 28,
    "start_time": "2024-08-22T08:28:24.739Z"
   },
   {
    "duration": 76,
    "start_time": "2024-08-22T08:28:24.768Z"
   },
   {
    "duration": 41,
    "start_time": "2024-08-22T08:28:24.845Z"
   },
   {
    "duration": 21,
    "start_time": "2024-08-22T08:28:24.888Z"
   },
   {
    "duration": 59,
    "start_time": "2024-08-22T08:28:24.911Z"
   },
   {
    "duration": 50,
    "start_time": "2024-08-22T08:28:24.972Z"
   },
   {
    "duration": 62,
    "start_time": "2024-08-22T08:28:25.024Z"
   },
   {
    "duration": 38,
    "start_time": "2024-08-22T08:28:25.088Z"
   },
   {
    "duration": 73,
    "start_time": "2024-08-22T08:28:25.128Z"
   },
   {
    "duration": 33,
    "start_time": "2024-08-22T08:28:25.204Z"
   },
   {
    "duration": 37,
    "start_time": "2024-08-22T08:28:25.238Z"
   },
   {
    "duration": 25,
    "start_time": "2024-08-22T08:28:25.277Z"
   },
   {
    "duration": 41,
    "start_time": "2024-08-22T08:28:25.304Z"
   },
   {
    "duration": 76,
    "start_time": "2024-08-22T08:28:25.346Z"
   },
   {
    "duration": 36,
    "start_time": "2024-08-22T08:28:25.424Z"
   },
   {
    "duration": 7,
    "start_time": "2024-08-22T08:28:25.461Z"
   },
   {
    "duration": 17,
    "start_time": "2024-08-22T08:28:25.470Z"
   },
   {
    "duration": 13,
    "start_time": "2024-08-22T08:28:25.489Z"
   },
   {
    "duration": 20,
    "start_time": "2024-08-22T08:28:25.503Z"
   },
   {
    "duration": 326,
    "start_time": "2024-08-22T08:28:25.524Z"
   },
   {
    "duration": 317,
    "start_time": "2024-08-22T08:28:25.852Z"
   },
   {
    "duration": 217,
    "start_time": "2024-08-22T08:28:26.171Z"
   },
   {
    "duration": 359,
    "start_time": "2024-08-22T08:28:26.390Z"
   },
   {
    "duration": 243,
    "start_time": "2024-08-22T08:28:26.751Z"
   },
   {
    "duration": 367,
    "start_time": "2024-08-22T08:28:26.997Z"
   },
   {
    "duration": 167,
    "start_time": "2024-08-22T08:28:27.366Z"
   },
   {
    "duration": 6,
    "start_time": "2024-08-22T08:28:27.535Z"
   },
   {
    "duration": 174,
    "start_time": "2024-08-22T08:28:27.542Z"
   },
   {
    "duration": 147,
    "start_time": "2024-08-22T08:28:27.723Z"
   },
   {
    "duration": 6,
    "start_time": "2024-08-22T08:28:27.871Z"
   },
   {
    "duration": 6,
    "start_time": "2024-08-22T08:28:27.878Z"
   },
   {
    "duration": 163,
    "start_time": "2024-08-22T08:28:27.885Z"
   },
   {
    "duration": 4,
    "start_time": "2024-08-22T08:28:28.049Z"
   },
   {
    "duration": 148,
    "start_time": "2024-08-22T08:28:28.054Z"
   },
   {
    "duration": 55,
    "start_time": "2024-08-22T08:28:28.203Z"
   },
   {
    "duration": 14,
    "start_time": "2024-08-22T08:28:28.260Z"
   },
   {
    "duration": 45,
    "start_time": "2024-08-22T08:28:28.277Z"
   },
   {
    "duration": 11,
    "start_time": "2024-08-22T08:28:28.324Z"
   },
   {
    "duration": 56,
    "start_time": "2024-08-22T08:28:28.337Z"
   },
   {
    "duration": 24,
    "start_time": "2024-08-22T08:28:28.395Z"
   },
   {
    "duration": 632,
    "start_time": "2024-08-22T08:28:28.421Z"
   },
   {
    "duration": 48,
    "start_time": "2024-08-22T08:30:41.677Z"
   },
   {
    "duration": 1067,
    "start_time": "2024-08-22T08:46:10.954Z"
   },
   {
    "duration": 78,
    "start_time": "2024-08-22T08:46:12.023Z"
   },
   {
    "duration": 3,
    "start_time": "2024-08-22T08:46:12.103Z"
   },
   {
    "duration": 27,
    "start_time": "2024-08-22T08:46:12.109Z"
   },
   {
    "duration": 19,
    "start_time": "2024-08-22T08:46:12.138Z"
   },
   {
    "duration": 36,
    "start_time": "2024-08-22T08:46:12.159Z"
   },
   {
    "duration": 31,
    "start_time": "2024-08-22T08:46:12.196Z"
   },
   {
    "duration": 17,
    "start_time": "2024-08-22T08:46:12.229Z"
   },
   {
    "duration": 31,
    "start_time": "2024-08-22T08:46:12.248Z"
   },
   {
    "duration": 20,
    "start_time": "2024-08-22T08:46:12.282Z"
   },
   {
    "duration": 26,
    "start_time": "2024-08-22T08:46:12.303Z"
   },
   {
    "duration": 5,
    "start_time": "2024-08-22T08:46:12.330Z"
   },
   {
    "duration": 13,
    "start_time": "2024-08-22T08:46:12.337Z"
   },
   {
    "duration": 21,
    "start_time": "2024-08-22T08:46:12.352Z"
   },
   {
    "duration": 19,
    "start_time": "2024-08-22T08:46:12.374Z"
   },
   {
    "duration": 7,
    "start_time": "2024-08-22T08:46:12.394Z"
   },
   {
    "duration": 33,
    "start_time": "2024-08-22T08:46:12.402Z"
   },
   {
    "duration": 4,
    "start_time": "2024-08-22T08:46:12.436Z"
   },
   {
    "duration": 24,
    "start_time": "2024-08-22T08:46:12.442Z"
   },
   {
    "duration": 7,
    "start_time": "2024-08-22T08:46:12.467Z"
   },
   {
    "duration": 11,
    "start_time": "2024-08-22T08:46:12.476Z"
   },
   {
    "duration": 31,
    "start_time": "2024-08-22T08:46:12.489Z"
   },
   {
    "duration": 21,
    "start_time": "2024-08-22T08:46:12.522Z"
   },
   {
    "duration": 283,
    "start_time": "2024-08-22T08:46:12.545Z"
   },
   {
    "duration": 337,
    "start_time": "2024-08-22T08:46:12.830Z"
   },
   {
    "duration": 214,
    "start_time": "2024-08-22T08:46:13.168Z"
   },
   {
    "duration": 345,
    "start_time": "2024-08-22T08:46:13.384Z"
   },
   {
    "duration": 236,
    "start_time": "2024-08-22T08:46:13.732Z"
   },
   {
    "duration": 327,
    "start_time": "2024-08-22T08:46:13.969Z"
   },
   {
    "duration": 159,
    "start_time": "2024-08-22T08:46:14.297Z"
   },
   {
    "duration": 6,
    "start_time": "2024-08-22T08:46:14.458Z"
   },
   {
    "duration": 161,
    "start_time": "2024-08-22T08:46:14.465Z"
   },
   {
    "duration": 140,
    "start_time": "2024-08-22T08:46:14.628Z"
   },
   {
    "duration": 5,
    "start_time": "2024-08-22T08:46:14.770Z"
   },
   {
    "duration": 17,
    "start_time": "2024-08-22T08:46:14.776Z"
   },
   {
    "duration": 137,
    "start_time": "2024-08-22T08:46:14.795Z"
   },
   {
    "duration": 4,
    "start_time": "2024-08-22T08:46:14.933Z"
   },
   {
    "duration": 141,
    "start_time": "2024-08-22T08:46:14.938Z"
   },
   {
    "duration": 56,
    "start_time": "2024-08-22T08:46:15.080Z"
   },
   {
    "duration": 14,
    "start_time": "2024-08-22T08:46:15.138Z"
   },
   {
    "duration": 36,
    "start_time": "2024-08-22T08:46:15.153Z"
   },
   {
    "duration": 7,
    "start_time": "2024-08-22T08:46:15.191Z"
   },
   {
    "duration": 89,
    "start_time": "2024-08-22T08:46:15.200Z"
   },
   {
    "duration": 14,
    "start_time": "2024-08-22T08:46:15.291Z"
   },
   {
    "duration": 620,
    "start_time": "2024-08-22T08:46:15.307Z"
   },
   {
    "duration": 1167,
    "start_time": "2024-08-22T09:31:45.405Z"
   },
   {
    "duration": 79,
    "start_time": "2024-08-22T09:31:46.574Z"
   },
   {
    "duration": 3,
    "start_time": "2024-08-22T09:31:46.655Z"
   },
   {
    "duration": 14,
    "start_time": "2024-08-22T09:31:46.661Z"
   },
   {
    "duration": 12,
    "start_time": "2024-08-22T09:31:46.677Z"
   },
   {
    "duration": 35,
    "start_time": "2024-08-22T09:31:46.690Z"
   },
   {
    "duration": 42,
    "start_time": "2024-08-22T09:31:46.726Z"
   },
   {
    "duration": 8,
    "start_time": "2024-08-22T09:31:46.769Z"
   },
   {
    "duration": 10,
    "start_time": "2024-08-22T09:31:46.779Z"
   },
   {
    "duration": 11,
    "start_time": "2024-08-22T09:31:46.791Z"
   },
   {
    "duration": 31,
    "start_time": "2024-08-22T09:31:46.803Z"
   },
   {
    "duration": 5,
    "start_time": "2024-08-22T09:31:46.835Z"
   },
   {
    "duration": 14,
    "start_time": "2024-08-22T09:31:46.841Z"
   },
   {
    "duration": 8,
    "start_time": "2024-08-22T09:31:46.856Z"
   },
   {
    "duration": 24,
    "start_time": "2024-08-22T09:31:46.865Z"
   },
   {
    "duration": 6,
    "start_time": "2024-08-22T09:31:46.891Z"
   },
   {
    "duration": 22,
    "start_time": "2024-08-22T09:31:46.899Z"
   },
   {
    "duration": 4,
    "start_time": "2024-08-22T09:31:46.923Z"
   },
   {
    "duration": 20,
    "start_time": "2024-08-22T09:31:46.929Z"
   },
   {
    "duration": 11,
    "start_time": "2024-08-22T09:31:46.951Z"
   },
   {
    "duration": 12,
    "start_time": "2024-08-22T09:31:46.964Z"
   },
   {
    "duration": 46,
    "start_time": "2024-08-22T09:31:46.978Z"
   },
   {
    "duration": 12,
    "start_time": "2024-08-22T09:31:47.026Z"
   },
   {
    "duration": 337,
    "start_time": "2024-08-22T09:31:47.040Z"
   },
   {
    "duration": 315,
    "start_time": "2024-08-22T09:31:47.379Z"
   },
   {
    "duration": 238,
    "start_time": "2024-08-22T09:31:47.695Z"
   },
   {
    "duration": 307,
    "start_time": "2024-08-22T09:31:47.934Z"
   },
   {
    "duration": 226,
    "start_time": "2024-08-22T09:31:48.244Z"
   },
   {
    "duration": 357,
    "start_time": "2024-08-22T09:31:48.472Z"
   },
   {
    "duration": 157,
    "start_time": "2024-08-22T09:31:48.831Z"
   },
   {
    "duration": 5,
    "start_time": "2024-08-22T09:31:48.989Z"
   },
   {
    "duration": 148,
    "start_time": "2024-08-22T09:31:48.995Z"
   },
   {
    "duration": 147,
    "start_time": "2024-08-22T09:31:49.144Z"
   },
   {
    "duration": 5,
    "start_time": "2024-08-22T09:31:49.292Z"
   },
   {
    "duration": 133,
    "start_time": "2024-08-22T09:31:49.311Z"
   },
   {
    "duration": 137,
    "start_time": "2024-08-22T09:31:49.445Z"
   },
   {
    "duration": 54,
    "start_time": "2024-08-22T09:31:49.583Z"
   },
   {
    "duration": 14,
    "start_time": "2024-08-22T09:31:49.638Z"
   },
   {
    "duration": 81,
    "start_time": "2024-08-22T09:31:49.654Z"
   },
   {
    "duration": 12,
    "start_time": "2024-08-22T09:31:49.737Z"
   },
   {
    "duration": 48,
    "start_time": "2024-08-22T09:31:49.751Z"
   },
   {
    "duration": 21,
    "start_time": "2024-08-22T09:31:49.800Z"
   },
   {
    "duration": 616,
    "start_time": "2024-08-22T09:31:49.823Z"
   },
   {
    "duration": 580,
    "start_time": "2024-08-22T09:34:53.563Z"
   },
   {
    "duration": 1140,
    "start_time": "2024-08-22T10:14:57.542Z"
   },
   {
    "duration": 81,
    "start_time": "2024-08-22T10:14:58.683Z"
   },
   {
    "duration": 2,
    "start_time": "2024-08-22T10:14:58.766Z"
   },
   {
    "duration": 25,
    "start_time": "2024-08-22T10:14:58.771Z"
   },
   {
    "duration": 11,
    "start_time": "2024-08-22T10:14:58.798Z"
   },
   {
    "duration": 12,
    "start_time": "2024-08-22T10:14:58.811Z"
   },
   {
    "duration": 17,
    "start_time": "2024-08-22T10:14:58.824Z"
   },
   {
    "duration": 7,
    "start_time": "2024-08-22T10:14:58.843Z"
   },
   {
    "duration": 11,
    "start_time": "2024-08-22T10:14:58.851Z"
   },
   {
    "duration": 8,
    "start_time": "2024-08-22T10:14:58.865Z"
   },
   {
    "duration": 57,
    "start_time": "2024-08-22T10:14:58.874Z"
   },
   {
    "duration": 5,
    "start_time": "2024-08-22T10:14:58.932Z"
   },
   {
    "duration": 4,
    "start_time": "2024-08-22T10:14:58.939Z"
   },
   {
    "duration": 6,
    "start_time": "2024-08-22T10:14:58.945Z"
   },
   {
    "duration": 5,
    "start_time": "2024-08-22T10:14:58.952Z"
   },
   {
    "duration": 8,
    "start_time": "2024-08-22T10:14:58.959Z"
   },
   {
    "duration": 57,
    "start_time": "2024-08-22T10:14:58.968Z"
   },
   {
    "duration": 8,
    "start_time": "2024-08-22T10:14:59.027Z"
   },
   {
    "duration": 28,
    "start_time": "2024-08-22T10:14:59.037Z"
   },
   {
    "duration": 14,
    "start_time": "2024-08-22T10:14:59.066Z"
   },
   {
    "duration": 30,
    "start_time": "2024-08-22T10:14:59.081Z"
   },
   {
    "duration": 19,
    "start_time": "2024-08-22T10:14:59.113Z"
   },
   {
    "duration": 17,
    "start_time": "2024-08-22T10:14:59.133Z"
   },
   {
    "duration": 295,
    "start_time": "2024-08-22T10:14:59.152Z"
   },
   {
    "duration": 308,
    "start_time": "2024-08-22T10:14:59.448Z"
   },
   {
    "duration": 222,
    "start_time": "2024-08-22T10:14:59.757Z"
   },
   {
    "duration": 366,
    "start_time": "2024-08-22T10:14:59.980Z"
   },
   {
    "duration": 239,
    "start_time": "2024-08-22T10:15:00.349Z"
   },
   {
    "duration": 346,
    "start_time": "2024-08-22T10:15:00.589Z"
   },
   {
    "duration": 158,
    "start_time": "2024-08-22T10:15:00.937Z"
   },
   {
    "duration": 14,
    "start_time": "2024-08-22T10:15:01.097Z"
   },
   {
    "duration": 150,
    "start_time": "2024-08-22T10:15:01.113Z"
   },
   {
    "duration": 145,
    "start_time": "2024-08-22T10:15:01.264Z"
   },
   {
    "duration": 5,
    "start_time": "2024-08-22T10:15:01.411Z"
   },
   {
    "duration": 147,
    "start_time": "2024-08-22T10:15:01.417Z"
   },
   {
    "duration": 135,
    "start_time": "2024-08-22T10:15:01.566Z"
   },
   {
    "duration": 56,
    "start_time": "2024-08-22T10:15:01.702Z"
   },
   {
    "duration": 13,
    "start_time": "2024-08-22T10:15:01.760Z"
   },
   {
    "duration": 38,
    "start_time": "2024-08-22T10:15:01.775Z"
   },
   {
    "duration": 11,
    "start_time": "2024-08-22T10:15:01.815Z"
   },
   {
    "duration": 112,
    "start_time": "2024-08-22T10:15:01.828Z"
   },
   {
    "duration": 14,
    "start_time": "2024-08-22T10:15:01.941Z"
   },
   {
    "duration": 682,
    "start_time": "2024-08-22T10:15:01.957Z"
   },
   {
    "duration": 1118,
    "start_time": "2024-08-22T10:20:18.543Z"
   },
   {
    "duration": 78,
    "start_time": "2024-08-22T10:20:19.663Z"
   },
   {
    "duration": 4,
    "start_time": "2024-08-22T10:20:19.743Z"
   },
   {
    "duration": 12,
    "start_time": "2024-08-22T10:20:19.749Z"
   },
   {
    "duration": 12,
    "start_time": "2024-08-22T10:20:19.762Z"
   },
   {
    "duration": 8,
    "start_time": "2024-08-22T10:20:19.775Z"
   },
   {
    "duration": 10,
    "start_time": "2024-08-22T10:20:19.784Z"
   },
   {
    "duration": 18,
    "start_time": "2024-08-22T10:20:19.796Z"
   },
   {
    "duration": 15,
    "start_time": "2024-08-22T10:20:19.816Z"
   },
   {
    "duration": 17,
    "start_time": "2024-08-22T10:20:19.833Z"
   },
   {
    "duration": 21,
    "start_time": "2024-08-22T10:20:19.852Z"
   },
   {
    "duration": 6,
    "start_time": "2024-08-22T10:20:19.874Z"
   },
   {
    "duration": 32,
    "start_time": "2024-08-22T10:20:19.882Z"
   },
   {
    "duration": 8,
    "start_time": "2024-08-22T10:20:19.916Z"
   },
   {
    "duration": 6,
    "start_time": "2024-08-22T10:20:19.926Z"
   },
   {
    "duration": 8,
    "start_time": "2024-08-22T10:20:19.934Z"
   },
   {
    "duration": 19,
    "start_time": "2024-08-22T10:20:19.943Z"
   },
   {
    "duration": 44,
    "start_time": "2024-08-22T10:20:19.963Z"
   },
   {
    "duration": 25,
    "start_time": "2024-08-22T10:20:20.009Z"
   },
   {
    "duration": 7,
    "start_time": "2024-08-22T10:20:20.036Z"
   },
   {
    "duration": 21,
    "start_time": "2024-08-22T10:20:20.045Z"
   },
   {
    "duration": 16,
    "start_time": "2024-08-22T10:20:20.068Z"
   },
   {
    "duration": 31,
    "start_time": "2024-08-22T10:20:20.085Z"
   },
   {
    "duration": 310,
    "start_time": "2024-08-22T10:20:20.119Z"
   },
   {
    "duration": 318,
    "start_time": "2024-08-22T10:20:20.430Z"
   },
   {
    "duration": 239,
    "start_time": "2024-08-22T10:20:20.749Z"
   },
   {
    "duration": 358,
    "start_time": "2024-08-22T10:20:20.990Z"
   },
   {
    "duration": 235,
    "start_time": "2024-08-22T10:20:21.351Z"
   },
   {
    "duration": 368,
    "start_time": "2024-08-22T10:20:21.588Z"
   },
   {
    "duration": 171,
    "start_time": "2024-08-22T10:20:21.957Z"
   },
   {
    "duration": 6,
    "start_time": "2024-08-22T10:20:22.129Z"
   },
   {
    "duration": 173,
    "start_time": "2024-08-22T10:20:22.137Z"
   },
   {
    "duration": 157,
    "start_time": "2024-08-22T10:20:22.312Z"
   },
   {
    "duration": 6,
    "start_time": "2024-08-22T10:20:22.470Z"
   },
   {
    "duration": 160,
    "start_time": "2024-08-22T10:20:22.478Z"
   },
   {
    "duration": 146,
    "start_time": "2024-08-22T10:20:22.640Z"
   },
   {
    "duration": 80,
    "start_time": "2024-08-22T10:20:22.788Z"
   },
   {
    "duration": 19,
    "start_time": "2024-08-22T10:20:22.870Z"
   },
   {
    "duration": 49,
    "start_time": "2024-08-22T10:20:22.891Z"
   },
   {
    "duration": 23,
    "start_time": "2024-08-22T10:20:22.942Z"
   },
   {
    "duration": 76,
    "start_time": "2024-08-22T10:20:22.967Z"
   },
   {
    "duration": 15,
    "start_time": "2024-08-22T10:20:23.044Z"
   },
   {
    "duration": 665,
    "start_time": "2024-08-22T10:20:23.061Z"
   },
   {
    "duration": 1153,
    "start_time": "2024-08-22T10:21:39.322Z"
   },
   {
    "duration": 79,
    "start_time": "2024-08-22T10:21:40.477Z"
   },
   {
    "duration": 3,
    "start_time": "2024-08-22T10:21:40.558Z"
   },
   {
    "duration": 14,
    "start_time": "2024-08-22T10:21:40.563Z"
   },
   {
    "duration": 10,
    "start_time": "2024-08-22T10:21:40.579Z"
   },
   {
    "duration": 15,
    "start_time": "2024-08-22T10:21:40.590Z"
   },
   {
    "duration": 18,
    "start_time": "2024-08-22T10:21:40.607Z"
   },
   {
    "duration": 12,
    "start_time": "2024-08-22T10:21:40.626Z"
   },
   {
    "duration": 11,
    "start_time": "2024-08-22T10:21:40.640Z"
   },
   {
    "duration": 12,
    "start_time": "2024-08-22T10:21:40.654Z"
   },
   {
    "duration": 59,
    "start_time": "2024-08-22T10:21:40.667Z"
   },
   {
    "duration": 5,
    "start_time": "2024-08-22T10:21:40.728Z"
   },
   {
    "duration": 17,
    "start_time": "2024-08-22T10:21:40.734Z"
   },
   {
    "duration": 5,
    "start_time": "2024-08-22T10:21:40.752Z"
   },
   {
    "duration": 10,
    "start_time": "2024-08-22T10:21:40.759Z"
   },
   {
    "duration": 14,
    "start_time": "2024-08-22T10:21:40.771Z"
   },
   {
    "duration": 46,
    "start_time": "2024-08-22T10:21:40.786Z"
   },
   {
    "duration": 5,
    "start_time": "2024-08-22T10:21:40.834Z"
   },
   {
    "duration": 33,
    "start_time": "2024-08-22T10:21:40.841Z"
   },
   {
    "duration": 49,
    "start_time": "2024-08-22T10:21:40.876Z"
   },
   {
    "duration": 19,
    "start_time": "2024-08-22T10:21:40.927Z"
   },
   {
    "duration": 25,
    "start_time": "2024-08-22T10:21:40.948Z"
   },
   {
    "duration": 49,
    "start_time": "2024-08-22T10:21:40.975Z"
   },
   {
    "duration": 362,
    "start_time": "2024-08-22T10:21:41.026Z"
   },
   {
    "duration": 319,
    "start_time": "2024-08-22T10:21:41.390Z"
   },
   {
    "duration": 241,
    "start_time": "2024-08-22T10:21:41.712Z"
   },
   {
    "duration": 294,
    "start_time": "2024-08-22T10:21:41.955Z"
   },
   {
    "duration": 246,
    "start_time": "2024-08-22T10:21:42.252Z"
   },
   {
    "duration": 372,
    "start_time": "2024-08-22T10:21:42.499Z"
   },
   {
    "duration": 179,
    "start_time": "2024-08-22T10:21:42.873Z"
   },
   {
    "duration": 5,
    "start_time": "2024-08-22T10:21:43.054Z"
   },
   {
    "duration": 171,
    "start_time": "2024-08-22T10:21:43.061Z"
   },
   {
    "duration": 159,
    "start_time": "2024-08-22T10:21:43.234Z"
   },
   {
    "duration": 12,
    "start_time": "2024-08-22T10:21:43.395Z"
   },
   {
    "duration": 153,
    "start_time": "2024-08-22T10:21:43.410Z"
   },
   {
    "duration": 134,
    "start_time": "2024-08-22T10:21:43.565Z"
   },
   {
    "duration": 61,
    "start_time": "2024-08-22T10:21:43.700Z"
   },
   {
    "duration": 16,
    "start_time": "2024-08-22T10:21:43.763Z"
   },
   {
    "duration": 36,
    "start_time": "2024-08-22T10:21:43.781Z"
   },
   {
    "duration": 19,
    "start_time": "2024-08-22T10:21:43.819Z"
   },
   {
    "duration": 98,
    "start_time": "2024-08-22T10:21:43.839Z"
   },
   {
    "duration": 14,
    "start_time": "2024-08-22T10:21:43.939Z"
   },
   {
    "duration": 619,
    "start_time": "2024-08-22T10:21:43.954Z"
   },
   {
    "duration": 1113,
    "start_time": "2024-08-23T06:04:15.157Z"
   },
   {
    "duration": 267,
    "start_time": "2024-08-23T06:04:16.272Z"
   },
   {
    "duration": 3,
    "start_time": "2024-08-23T06:04:16.541Z"
   },
   {
    "duration": 21,
    "start_time": "2024-08-23T06:04:16.546Z"
   },
   {
    "duration": 11,
    "start_time": "2024-08-23T06:04:16.570Z"
   },
   {
    "duration": 24,
    "start_time": "2024-08-23T06:04:16.582Z"
   },
   {
    "duration": 11,
    "start_time": "2024-08-23T06:04:16.608Z"
   },
   {
    "duration": 28,
    "start_time": "2024-08-23T06:04:16.620Z"
   },
   {
    "duration": 12,
    "start_time": "2024-08-23T06:04:16.650Z"
   },
   {
    "duration": 12,
    "start_time": "2024-08-23T06:04:16.664Z"
   },
   {
    "duration": 101,
    "start_time": "2024-08-23T06:04:16.677Z"
   },
   {
    "duration": 7,
    "start_time": "2024-08-23T06:04:16.779Z"
   },
   {
    "duration": 9,
    "start_time": "2024-08-23T06:04:16.787Z"
   },
   {
    "duration": 5,
    "start_time": "2024-08-23T06:04:16.799Z"
   },
   {
    "duration": 9,
    "start_time": "2024-08-23T06:04:16.805Z"
   },
   {
    "duration": 14,
    "start_time": "2024-08-23T06:04:16.815Z"
   },
   {
    "duration": 19,
    "start_time": "2024-08-23T06:04:16.831Z"
   },
   {
    "duration": 5,
    "start_time": "2024-08-23T06:04:16.851Z"
   },
   {
    "duration": 43,
    "start_time": "2024-08-23T06:04:16.857Z"
   },
   {
    "duration": 8,
    "start_time": "2024-08-23T06:04:16.902Z"
   },
   {
    "duration": 17,
    "start_time": "2024-08-23T06:04:16.911Z"
   },
   {
    "duration": 13,
    "start_time": "2024-08-23T06:04:16.930Z"
   },
   {
    "duration": 22,
    "start_time": "2024-08-23T06:04:16.945Z"
   },
   {
    "duration": 300,
    "start_time": "2024-08-23T06:04:16.969Z"
   },
   {
    "duration": 320,
    "start_time": "2024-08-23T06:04:17.270Z"
   },
   {
    "duration": 228,
    "start_time": "2024-08-23T06:04:17.597Z"
   },
   {
    "duration": 293,
    "start_time": "2024-08-23T06:04:17.827Z"
   },
   {
    "duration": 229,
    "start_time": "2024-08-23T06:04:18.122Z"
   },
   {
    "duration": 372,
    "start_time": "2024-08-23T06:04:18.353Z"
   },
   {
    "duration": 151,
    "start_time": "2024-08-23T06:04:18.727Z"
   },
   {
    "duration": 6,
    "start_time": "2024-08-23T06:04:18.880Z"
   },
   {
    "duration": 146,
    "start_time": "2024-08-23T06:04:18.897Z"
   },
   {
    "duration": 162,
    "start_time": "2024-08-23T06:04:19.044Z"
   },
   {
    "duration": 6,
    "start_time": "2024-08-23T06:04:19.207Z"
   },
   {
    "duration": 147,
    "start_time": "2024-08-23T06:04:19.215Z"
   },
   {
    "duration": 142,
    "start_time": "2024-08-23T06:04:19.363Z"
   },
   {
    "duration": 52,
    "start_time": "2024-08-23T06:04:19.507Z"
   },
   {
    "duration": 15,
    "start_time": "2024-08-23T06:04:19.561Z"
   },
   {
    "duration": 29,
    "start_time": "2024-08-23T06:04:19.577Z"
   },
   {
    "duration": 19,
    "start_time": "2024-08-23T06:04:19.607Z"
   },
   {
    "duration": 61,
    "start_time": "2024-08-23T06:04:19.629Z"
   },
   {
    "duration": 14,
    "start_time": "2024-08-23T06:04:19.691Z"
   },
   {
    "duration": 627,
    "start_time": "2024-08-23T06:04:19.706Z"
   },
   {
    "duration": 1137,
    "start_time": "2024-08-23T06:20:03.135Z"
   },
   {
    "duration": 93,
    "start_time": "2024-08-23T06:20:04.274Z"
   },
   {
    "duration": 3,
    "start_time": "2024-08-23T06:20:04.369Z"
   },
   {
    "duration": 32,
    "start_time": "2024-08-23T06:20:04.375Z"
   },
   {
    "duration": 11,
    "start_time": "2024-08-23T06:20:04.408Z"
   },
   {
    "duration": 12,
    "start_time": "2024-08-23T06:20:04.420Z"
   },
   {
    "duration": 14,
    "start_time": "2024-08-23T06:20:04.433Z"
   },
   {
    "duration": 9,
    "start_time": "2024-08-23T06:20:04.449Z"
   },
   {
    "duration": 12,
    "start_time": "2024-08-23T06:20:04.459Z"
   },
   {
    "duration": 29,
    "start_time": "2024-08-23T06:20:04.474Z"
   },
   {
    "duration": 27,
    "start_time": "2024-08-23T06:20:04.505Z"
   },
   {
    "duration": 6,
    "start_time": "2024-08-23T06:20:04.533Z"
   },
   {
    "duration": 12,
    "start_time": "2024-08-23T06:20:04.540Z"
   },
   {
    "duration": 12,
    "start_time": "2024-08-23T06:20:04.553Z"
   },
   {
    "duration": 6,
    "start_time": "2024-08-23T06:20:04.566Z"
   },
   {
    "duration": 9,
    "start_time": "2024-08-23T06:20:04.598Z"
   },
   {
    "duration": 27,
    "start_time": "2024-08-23T06:20:04.608Z"
   },
   {
    "duration": 5,
    "start_time": "2024-08-23T06:20:04.636Z"
   },
   {
    "duration": 21,
    "start_time": "2024-08-23T06:20:04.643Z"
   },
   {
    "duration": 9,
    "start_time": "2024-08-23T06:20:04.697Z"
   },
   {
    "duration": 24,
    "start_time": "2024-08-23T06:20:04.708Z"
   },
   {
    "duration": 62,
    "start_time": "2024-08-23T06:20:04.733Z"
   },
   {
    "duration": 31,
    "start_time": "2024-08-23T06:20:04.797Z"
   },
   {
    "duration": 276,
    "start_time": "2024-08-23T06:20:04.830Z"
   },
   {
    "duration": 307,
    "start_time": "2024-08-23T06:20:05.108Z"
   },
   {
    "duration": 239,
    "start_time": "2024-08-23T06:20:05.417Z"
   },
   {
    "duration": 379,
    "start_time": "2024-08-23T06:20:05.658Z"
   },
   {
    "duration": 363,
    "start_time": "2024-08-23T06:20:06.040Z"
   },
   {
    "duration": 347,
    "start_time": "2024-08-23T06:20:06.404Z"
   },
   {
    "duration": 163,
    "start_time": "2024-08-23T06:20:06.752Z"
   },
   {
    "duration": 5,
    "start_time": "2024-08-23T06:20:06.916Z"
   },
   {
    "duration": 163,
    "start_time": "2024-08-23T06:20:06.923Z"
   },
   {
    "duration": 155,
    "start_time": "2024-08-23T06:20:07.088Z"
   },
   {
    "duration": 5,
    "start_time": "2024-08-23T06:20:07.245Z"
   },
   {
    "duration": 158,
    "start_time": "2024-08-23T06:20:07.252Z"
   },
   {
    "duration": 149,
    "start_time": "2024-08-23T06:20:07.412Z"
   },
   {
    "duration": 71,
    "start_time": "2024-08-23T06:20:07.563Z"
   },
   {
    "duration": 16,
    "start_time": "2024-08-23T06:20:07.636Z"
   },
   {
    "duration": 13,
    "start_time": "2024-08-23T06:20:07.654Z"
   },
   {
    "duration": 31,
    "start_time": "2024-08-23T06:20:07.669Z"
   },
   {
    "duration": 57,
    "start_time": "2024-08-23T06:20:07.701Z"
   },
   {
    "duration": 15,
    "start_time": "2024-08-23T06:20:07.759Z"
   },
   {
    "duration": 657,
    "start_time": "2024-08-23T06:20:07.776Z"
   }
  ],
  "kernelspec": {
   "display_name": "Python 3 (ipykernel)",
   "language": "python",
   "name": "python3"
  },
  "language_info": {
   "codemirror_mode": {
    "name": "ipython",
    "version": 3
   },
   "file_extension": ".py",
   "mimetype": "text/x-python",
   "name": "python",
   "nbconvert_exporter": "python",
   "pygments_lexer": "ipython3",
   "version": "3.11.9"
  },
  "toc": {
   "base_numbering": 1,
   "nav_menu": {},
   "number_sections": true,
   "sideBar": true,
   "skip_h1_title": true,
   "title_cell": "Table of Contents",
   "title_sidebar": "Contents",
   "toc_cell": false,
   "toc_position": {
    "height": "calc(100% - 180px)",
    "left": "10px",
    "top": "150px",
    "width": "252px"
   },
   "toc_section_display": true,
   "toc_window_display": true
  }
 },
 "nbformat": 4,
 "nbformat_minor": 4
}
