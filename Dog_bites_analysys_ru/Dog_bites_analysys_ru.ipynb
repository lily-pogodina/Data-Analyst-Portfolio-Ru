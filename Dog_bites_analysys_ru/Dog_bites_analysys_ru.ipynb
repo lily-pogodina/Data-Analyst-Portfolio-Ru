{
 "cells": [
  {
   "cell_type": "markdown",
   "id": "9fa0e427-115e-45e7-b787-a628795e8714",
   "metadata": {},
   "source": [
    "## Исследование данных об укусах собак в Нью-Йорке.\n",
    "\n",
    "В нашем распоряжении набор данных, содержащий исторические данные за 2015-2022 гг. о зарегистрированных в Нью-Йорке укусах собак.\n",
    "\n",
    "Данные предоставлены департаментом здравоохранения и психической гигиены города Нью-Йорка (DOHMH). Данные собираются из отчетов, полученных онлайн, по почте, факсу или по телефону в 311 или в NYC DOHMH Animal Bite Unit. Каждая запись представляет собой отдельный случай укуса собаки. Информация о породе, возрасте, поле и статусе стерилизации или кастрации не была проверена DOHMH и указана только в том виде, в котором она была сообщена DOHMH. Пустое место в наборе данных означает, что данные отсутствуют.\n",
    "\n",
    "\n",
    "**Цель исследования**\n",
    "* Выявить районы города, где проблема с нападениями собак стоит наиболее остро\n",
    "* Проверить гипотезу, что сезонность влияет на число укусов\n",
    "* Выяснить агрессивные породы\n",
    "\n",
    "**Описание данных**\n",
    "\n",
    "* `UniqueID` - уникальный номер случая\n",
    "* `DateOfBite` - дата случая\n",
    "* `Species` - биологический вид животного\n",
    "* `Breed` - порода\n",
    "* `Age` - возраст\n",
    "* `Gender` - пол\n",
    "* `SpayNeuter` - статус стерилизации или кастрации\n",
    "* `Borough` - <a href=\"https://ru.wikipedia.org/wiki/%D0%91%D0%BE%D1%80%D0%BE_(%D0%9D%D1%8C%D1%8E-%D0%99%D0%BE%D1%80%D0%BA)\">Боро (район) Нью-Йорка</a>\n",
    "* `ZipCode` - ZIP-код\n",
    "\n",
    "**План исследования**\n",
    "\n",
    "Данные мы получили из файла, предоставленного DOHMH Animal Bite Unit. О качестве данных пока ничего не известно.\n",
    "Поэтому перед проведением исследовательского анализа и проверкой гипотез нам понадобится обзор данных.\n",
    "\n",
    "Таким образом, исследование пройдёт в несколько этапов:\n",
    "\n",
    "1 — Обзор данных\\\n",
    "2 — Предобработка данных\\\n",
    "3 — Исследовательский анализ\\\n",
    "4 — Общий вывод\n"
   ]
  },
  {
   "cell_type": "markdown",
   "id": "b1fe225c-a01c-42a9-8781-fb024a2ec8fe",
   "metadata": {},
   "source": [
    "### Загрузка данных и изучение общей информации\n",
    "\n"
   ]
  },
  {
   "cell_type": "code",
   "execution_count": 1,
   "id": "3f3ea412-ed3a-4cf5-afc3-ce6404776ca6",
   "metadata": {},
   "outputs": [],
   "source": [
    "#импорт библиотек Python\n",
    "import pandas as pd\n",
    "import matplotlib.pyplot as plt\n",
    "from datetime import datetime, timedelta\n",
    "import numpy as np\n",
    "import seaborn as sns\n",
    "import warnings\n",
    "from IPython.display import display_html "
   ]
  },
  {
   "cell_type": "code",
   "execution_count": 2,
   "id": "00a81b3f-8dcf-47aa-8cf7-4e994b353e7a",
   "metadata": {},
   "outputs": [],
   "source": [
    "warnings.filterwarnings('ignore')#отключаем предупреждения об изменениях в библиотеках\n",
    "sns.set_palette(\"Set2\")#задаем цвета для библиотеки seaborn\n",
    "data = pd.read_csv('DOHMH_Dog_Bite_Data.csv')#сохраняем данные в переменную data"
   ]
  },
  {
   "cell_type": "markdown",
   "id": "67971d03-7b5e-4579-96b5-ed429e63c457",
   "metadata": {},
   "source": [
    "Выведем первые 5 строк таблицы на экран и применим метод info()"
   ]
  },
  {
   "cell_type": "code",
   "execution_count": 3,
   "id": "88e1d8cb-9db7-49b6-a9d9-525ef4a5700c",
   "metadata": {},
   "outputs": [
    {
     "data": {
      "text/html": [
       "<div>\n",
       "<style scoped>\n",
       "    .dataframe tbody tr th:only-of-type {\n",
       "        vertical-align: middle;\n",
       "    }\n",
       "\n",
       "    .dataframe tbody tr th {\n",
       "        vertical-align: top;\n",
       "    }\n",
       "\n",
       "    .dataframe thead th {\n",
       "        text-align: right;\n",
       "    }\n",
       "</style>\n",
       "<table border=\"1\" class=\"dataframe\">\n",
       "  <thead>\n",
       "    <tr style=\"text-align: right;\">\n",
       "      <th></th>\n",
       "      <th>UniqueID</th>\n",
       "      <th>DateOfBite</th>\n",
       "      <th>Species</th>\n",
       "      <th>Breed</th>\n",
       "      <th>Age</th>\n",
       "      <th>Gender</th>\n",
       "      <th>SpayNeuter</th>\n",
       "      <th>Borough</th>\n",
       "      <th>ZipCode</th>\n",
       "    </tr>\n",
       "  </thead>\n",
       "  <tbody>\n",
       "    <tr>\n",
       "      <th>0</th>\n",
       "      <td>1</td>\n",
       "      <td>January 01 2018</td>\n",
       "      <td>DOG</td>\n",
       "      <td>UNKNOWN</td>\n",
       "      <td>NaN</td>\n",
       "      <td>U</td>\n",
       "      <td>False</td>\n",
       "      <td>Brooklyn</td>\n",
       "      <td>11220</td>\n",
       "    </tr>\n",
       "    <tr>\n",
       "      <th>1</th>\n",
       "      <td>2</td>\n",
       "      <td>January 04 2018</td>\n",
       "      <td>DOG</td>\n",
       "      <td>UNKNOWN</td>\n",
       "      <td>NaN</td>\n",
       "      <td>U</td>\n",
       "      <td>False</td>\n",
       "      <td>Brooklyn</td>\n",
       "      <td>NaN</td>\n",
       "    </tr>\n",
       "    <tr>\n",
       "      <th>2</th>\n",
       "      <td>3</td>\n",
       "      <td>January 06 2018</td>\n",
       "      <td>DOG</td>\n",
       "      <td>Pit Bull</td>\n",
       "      <td>NaN</td>\n",
       "      <td>U</td>\n",
       "      <td>False</td>\n",
       "      <td>Brooklyn</td>\n",
       "      <td>11224</td>\n",
       "    </tr>\n",
       "    <tr>\n",
       "      <th>3</th>\n",
       "      <td>4</td>\n",
       "      <td>January 08 2018</td>\n",
       "      <td>DOG</td>\n",
       "      <td>Mixed/Other</td>\n",
       "      <td>4</td>\n",
       "      <td>M</td>\n",
       "      <td>False</td>\n",
       "      <td>Brooklyn</td>\n",
       "      <td>11231</td>\n",
       "    </tr>\n",
       "    <tr>\n",
       "      <th>4</th>\n",
       "      <td>5</td>\n",
       "      <td>January 09 2018</td>\n",
       "      <td>DOG</td>\n",
       "      <td>Pit Bull</td>\n",
       "      <td>NaN</td>\n",
       "      <td>U</td>\n",
       "      <td>False</td>\n",
       "      <td>Brooklyn</td>\n",
       "      <td>11224</td>\n",
       "    </tr>\n",
       "  </tbody>\n",
       "</table>\n",
       "</div>"
      ],
      "text/plain": [
       "   UniqueID       DateOfBite Species        Breed  Age Gender  SpayNeuter  \\\n",
       "0         1  January 01 2018     DOG      UNKNOWN  NaN      U       False   \n",
       "1         2  January 04 2018     DOG      UNKNOWN  NaN      U       False   \n",
       "2         3  January 06 2018     DOG     Pit Bull  NaN      U       False   \n",
       "3         4  January 08 2018     DOG  Mixed/Other    4      M       False   \n",
       "4         5  January 09 2018     DOG     Pit Bull  NaN      U       False   \n",
       "\n",
       "    Borough ZipCode  \n",
       "0  Brooklyn   11220  \n",
       "1  Brooklyn     NaN  \n",
       "2  Brooklyn   11224  \n",
       "3  Brooklyn   11231  \n",
       "4  Brooklyn   11224  "
      ]
     },
     "metadata": {},
     "output_type": "display_data"
    },
    {
     "name": "stdout",
     "output_type": "stream",
     "text": [
      "<class 'pandas.core.frame.DataFrame'>\n",
      "RangeIndex: 26127 entries, 0 to 26126\n",
      "Data columns (total 9 columns):\n",
      " #   Column      Non-Null Count  Dtype \n",
      "---  ------      --------------  ----- \n",
      " 0   UniqueID    26127 non-null  int64 \n",
      " 1   DateOfBite  26127 non-null  object\n",
      " 2   Species     26127 non-null  object\n",
      " 3   Breed       23864 non-null  object\n",
      " 4   Age         12868 non-null  object\n",
      " 5   Gender      26127 non-null  object\n",
      " 6   SpayNeuter  26127 non-null  bool  \n",
      " 7   Borough     26127 non-null  object\n",
      " 8   ZipCode     18960 non-null  object\n",
      "dtypes: bool(1), int64(1), object(7)\n",
      "memory usage: 1.6+ MB\n"
     ]
    }
   ],
   "source": [
    "display(data.head())\n",
    "data.info()"
   ]
  },
  {
   "cell_type": "markdown",
   "id": "c99a867d-a293-4228-95e1-3917c4bf64a8",
   "metadata": {},
   "source": [
    "#### Промежуточный вывод\n",
    "\n",
    "* часть столбцов, например `UniqueID` и `Species`, `ZipCode` для исследования не нужны. Можно удалить его из датафрейма\n",
    "* в столбцах `Breed`, `Age`, `ZipCode` есть многочисленные пропуски\n",
    "* названия столбцов имеют прописные буквы, лучше привести все названия к змеиному регистру \n",
    "* следует изменить тип столбца `DateOfBite`. Тип object поменяем на datetime64\n",
    "* следует проверить датасет на наличия явных и скрытых дубликатов\n",
    "\n",
    "Ниже удалим ненужные столбцы, уточним наличие дубликатов в строках, поправим названия столбцов и типы данных, а также изучим столбцы, содержащие пропуски."
   ]
  },
  {
   "cell_type": "markdown",
   "id": "dc7f7f66-c417-40da-a2b2-7941c31500e8",
   "metadata": {},
   "source": [
    "### Предобработка данных"
   ]
  },
  {
   "cell_type": "markdown",
   "id": "2145dd16-468f-4e1d-a8ec-ee4a007370b9",
   "metadata": {},
   "source": [
    "#### Поиск дубликатов\n",
    "\n",
    "Сначала проверим датасет на наличие полностью повторяющихся строк:"
   ]
  },
  {
   "cell_type": "code",
   "execution_count": 4,
   "id": "7a9a47c4-cc30-4654-9f3a-02b04bfe0fe1",
   "metadata": {},
   "outputs": [
    {
     "data": {
      "text/plain": [
       "0"
      ]
     },
     "metadata": {},
     "output_type": "display_data"
    }
   ],
   "source": [
    "display(data.duplicated().sum())"
   ]
  },
  {
   "cell_type": "markdown",
   "id": "e85ca5fe-d43d-4337-8ff7-51e98671cc83",
   "metadata": {},
   "source": [
    "Таких строк нет, теперь перейдем к поиску скрытых дубликатов:\n",
    "\n",
    "Скрытые дубликаты могут находиться в строковых столбцах `borough`, `gender` и `breed`.\n",
    "\n",
    "Начнем со столбца `Borough`\n"
   ]
  },
  {
   "cell_type": "code",
   "execution_count": 5,
   "id": "37827ef4-a71b-45f5-a6ca-5b96befc3e7f",
   "metadata": {},
   "outputs": [
    {
     "data": {
      "text/plain": [
       "Borough\n",
       "Queens           6693\n",
       "Manhattan        6081\n",
       "Brooklyn         5698\n",
       "Bronx            4375\n",
       "Staten Island    2140\n",
       "Other            1140\n",
       "Name: count, dtype: int64"
      ]
     },
     "metadata": {},
     "output_type": "display_data"
    }
   ],
   "source": [
    "display(data['Borough'].value_counts())#подсчитываем уникальные значения в столбце"
   ]
  },
  {
   "cell_type": "markdown",
   "id": "43240caa-d536-4f6f-879a-35e499ffee4c",
   "metadata": {},
   "source": [
    "1140 строк со значением `Other` (англ. «другие»). Так как в Нью-Йорке всего 5 районов, можно предположить, что в эту категорию попали случаи, произошедшие либо за пределами города, либо локация была неизвестна. Так или иначе, отфильтруем эти строки, чтобы оставить информацию только по районам. В остальном названия районов написаны верно"
   ]
  },
  {
   "cell_type": "code",
   "execution_count": 6,
   "id": "e0e2f5fd-ed2f-4bf4-a88f-5e25706429c0",
   "metadata": {},
   "outputs": [],
   "source": [
    "data = data.query('Borough != \"Other\"')#удаляем лишние строки"
   ]
  },
  {
   "cell_type": "markdown",
   "id": "79a0096b-c0ff-4bc1-bff1-6a851a86ae25",
   "metadata": {},
   "source": [
    "Теперь проверим столбец `Gender`"
   ]
  },
  {
   "cell_type": "code",
   "execution_count": 7,
   "id": "c19bbdc7-2895-4501-9745-103de7a422a0",
   "metadata": {},
   "outputs": [
    {
     "data": {
      "text/plain": [
       "['U', 'M', 'F']"
      ]
     },
     "execution_count": 7,
     "metadata": {},
     "output_type": "execute_result"
    }
   ],
   "source": [
    "data['Gender'].unique().tolist()#выводим на экран уникальные значения столбца 'Gender'"
   ]
  },
  {
   "cell_type": "markdown",
   "id": "247c5ab9-899f-447b-a17a-113163b08886",
   "metadata": {},
   "source": [
    "В столбце всего три значения. Скрытых дубликатов нет.\n",
    "\n",
    "Теперь проверим столбец `Breed`"
   ]
  },
  {
   "cell_type": "code",
   "execution_count": 8,
   "id": "3bb22152-9892-488c-ac60-d539aa689dda",
   "metadata": {},
   "outputs": [
    {
     "data": {
      "text/plain": [
       "1702"
      ]
     },
     "execution_count": 8,
     "metadata": {},
     "output_type": "execute_result"
    }
   ],
   "source": [
    "len(data['Breed'].unique())#считаем уникальные значения столбца 'Breed'"
   ]
  },
  {
   "cell_type": "markdown",
   "id": "e98ef00c-0a8f-4cfd-948c-6235f7de7838",
   "metadata": {},
   "source": [
    "Всего в датасете встречаются 1702 уникальных названия пород\n",
    "\n",
    "Посмотрим какие из них встречаются чаще всего:"
   ]
  },
  {
   "cell_type": "code",
   "execution_count": 9,
   "id": "9dc45894-fc14-4bce-b18d-34071018fc13",
   "metadata": {},
   "outputs": [
    {
     "data": {
      "text/plain": [
       "Breed\n",
       "Pit Bull                                4450\n",
       "UNKNOWN                                 3217\n",
       "Shih Tzu                                 768\n",
       "Chihuahua                                711\n",
       "German Shepherd                          681\n",
       "American Pit Bull Mix / Pit Bull Mix     551\n",
       "Mixed/Other                              530\n",
       "Yorkshire Terrier                        524\n",
       "American Pit Bull Terrier/Pit Bull       521\n",
       "MIXED                                    485\n",
       "Name: count, dtype: int64"
      ]
     },
     "execution_count": 9,
     "metadata": {},
     "output_type": "execute_result"
    }
   ],
   "source": [
    "#подсчитываем уникальные значения в столбце и выводим на экран 10 самых часто встречающихся\n",
    "data['Breed'].value_counts().head(10)"
   ]
  },
  {
   "cell_type": "code",
   "execution_count": 10,
   "id": "47f5f728-b087-4573-9168-475d13d0fc6f",
   "metadata": {},
   "outputs": [
    {
     "data": {
      "text/plain": [
       "Breed\n",
       "LABRADOR/SHAR-PEI MIX         1\n",
       "RAT TERRIER / SHIH TZU MIX    1\n",
       "HOUND / LAB MIX               1\n",
       "DOBERMAN AND LABRADOR         1\n",
       "MALTESE / WESTIE MIX          1\n",
       "PITBULL BOXER MIX             1\n",
       "ROTTWEILER/HUSKY MIX          1\n",
       "MALTI-POO                     1\n",
       "JACK RUSSELL/MALTESE MIX      1\n",
       "SHIH TZU / POMERANIAN         1\n",
       "Name: count, dtype: int64"
      ]
     },
     "execution_count": 10,
     "metadata": {},
     "output_type": "execute_result"
    }
   ],
   "source": [
    "#подсчитываем уникальные значения в столбце и выводим на экран 10 редко встречающихся\n",
    "data['Breed'].value_counts().tail(10)"
   ]
  },
  {
   "cell_type": "markdown",
   "id": "218c294e-e5e1-4aa6-bddb-7a60add63dbe",
   "metadata": {},
   "source": [
    "**Наблюдения**\n",
    "\n",
    "В столбце собраны сырые данные. \n",
    "\n",
    "* Названия пород написаны разными способами (пример — `American Pit Bull Mix / Pit Bull Mix`  и `American Pit Bull Terrier/Pit Bull`), с опечатками и в разном регистре\n",
    "* Второе по частоте значение — `UNKNOWN` (англ. «неизвестный»), также в топ 20 встречается `MIXED`, который обозначает любого метиса.\n",
    "\n",
    "Пока что оставим этот столбец как есть и вернемся к нему позднее."
   ]
  },
  {
   "cell_type": "markdown",
   "id": "bc26f140-956d-4405-bb04-2024f03e2981",
   "metadata": {},
   "source": [
    "#### Удаление лишних столбцов\n",
    "\n",
    "Для исследования не понадобятся следующие столбцы:\n",
    "\n",
    "`UniqueID` — дублирует внутреннюю нумерацию в датафрейме\\\n",
    "`Species` — в данных речь идет только о собаках, так что вид — всегда `DOG`\\\n",
    "`ZipCode` - нас интересуют только распределения по районам(боро)\\\n",
    "`Age` — в этом столбце есть многочисленные пропуски (только 12 868 из 26 127 строк заполнены). Также, учитывая, что данные для этого столбца оцениваются приблизительно, сложно использовать эти данные для каких-либо выводов."
   ]
  },
  {
   "cell_type": "code",
   "execution_count": 11,
   "id": "82aae7a1-37ad-4f66-94d5-b6b6cabd3b50",
   "metadata": {},
   "outputs": [],
   "source": [
    "#удаление лишних столбцов\n",
    "data = data.drop(columns=['UniqueID','Species','ZipCode','Age'])"
   ]
  },
  {
   "cell_type": "markdown",
   "id": "7d691025-fc88-4dd1-86c7-7ee27107d873",
   "metadata": {},
   "source": [
    "#### Приведение названий столбцов к единому регистру"
   ]
  },
  {
   "cell_type": "code",
   "execution_count": 12,
   "id": "ab6201e6-a01f-4eae-8437-bd65910d8b58",
   "metadata": {},
   "outputs": [],
   "source": [
    "#приведение названий к змеиному регистру\n",
    "data.columns = data.columns.str.lower()\n",
    "data = data.rename(columns={'dateofbite': 'date_of_bite','spayneuter': 'spay_or_neuter'})"
   ]
  },
  {
   "cell_type": "markdown",
   "id": "54b97afb-c1e6-48e6-adf6-715504a5e6c2",
   "metadata": {},
   "source": [
    "Выведем первые 5 строк получившейся таблицы на экран"
   ]
  },
  {
   "cell_type": "code",
   "execution_count": 13,
   "id": "a97da355-82c0-47f0-881e-f82629dbd2c7",
   "metadata": {},
   "outputs": [
    {
     "data": {
      "text/html": [
       "<div>\n",
       "<style scoped>\n",
       "    .dataframe tbody tr th:only-of-type {\n",
       "        vertical-align: middle;\n",
       "    }\n",
       "\n",
       "    .dataframe tbody tr th {\n",
       "        vertical-align: top;\n",
       "    }\n",
       "\n",
       "    .dataframe thead th {\n",
       "        text-align: right;\n",
       "    }\n",
       "</style>\n",
       "<table border=\"1\" class=\"dataframe\">\n",
       "  <thead>\n",
       "    <tr style=\"text-align: right;\">\n",
       "      <th></th>\n",
       "      <th>date_of_bite</th>\n",
       "      <th>breed</th>\n",
       "      <th>gender</th>\n",
       "      <th>spay_or_neuter</th>\n",
       "      <th>borough</th>\n",
       "    </tr>\n",
       "  </thead>\n",
       "  <tbody>\n",
       "    <tr>\n",
       "      <th>0</th>\n",
       "      <td>January 01 2018</td>\n",
       "      <td>UNKNOWN</td>\n",
       "      <td>U</td>\n",
       "      <td>False</td>\n",
       "      <td>Brooklyn</td>\n",
       "    </tr>\n",
       "    <tr>\n",
       "      <th>1</th>\n",
       "      <td>January 04 2018</td>\n",
       "      <td>UNKNOWN</td>\n",
       "      <td>U</td>\n",
       "      <td>False</td>\n",
       "      <td>Brooklyn</td>\n",
       "    </tr>\n",
       "    <tr>\n",
       "      <th>2</th>\n",
       "      <td>January 06 2018</td>\n",
       "      <td>Pit Bull</td>\n",
       "      <td>U</td>\n",
       "      <td>False</td>\n",
       "      <td>Brooklyn</td>\n",
       "    </tr>\n",
       "    <tr>\n",
       "      <th>3</th>\n",
       "      <td>January 08 2018</td>\n",
       "      <td>Mixed/Other</td>\n",
       "      <td>M</td>\n",
       "      <td>False</td>\n",
       "      <td>Brooklyn</td>\n",
       "    </tr>\n",
       "    <tr>\n",
       "      <th>4</th>\n",
       "      <td>January 09 2018</td>\n",
       "      <td>Pit Bull</td>\n",
       "      <td>U</td>\n",
       "      <td>False</td>\n",
       "      <td>Brooklyn</td>\n",
       "    </tr>\n",
       "  </tbody>\n",
       "</table>\n",
       "</div>"
      ],
      "text/plain": [
       "      date_of_bite        breed gender  spay_or_neuter   borough\n",
       "0  January 01 2018      UNKNOWN      U           False  Brooklyn\n",
       "1  January 04 2018      UNKNOWN      U           False  Brooklyn\n",
       "2  January 06 2018     Pit Bull      U           False  Brooklyn\n",
       "3  January 08 2018  Mixed/Other      M           False  Brooklyn\n",
       "4  January 09 2018     Pit Bull      U           False  Brooklyn"
      ]
     },
     "execution_count": 13,
     "metadata": {},
     "output_type": "execute_result"
    }
   ],
   "source": [
    "data.head()"
   ]
  },
  {
   "cell_type": "markdown",
   "id": "cbd4813f-9035-4b82-a56c-459f8c5eb27d",
   "metadata": {},
   "source": [
    "#### Изменение типов данных и добавление новых столбцов\n",
    "\n",
    "* Поменяем столбцу `date_of_bite` тип на datetime64\n",
    "\n",
    "Добавим несколько столбцов на основе столбца `date_of_bite`:\n",
    "* `month_of_bite` — название месяца в виде сокращения\n",
    "* `month_of_bite_number` — месяц случая в виде числа\n",
    "* `year_of_bite` - год случая"
   ]
  },
  {
   "cell_type": "code",
   "execution_count": 14,
   "id": "bba9087c-1c40-4b3c-a67c-d04e54e30f68",
   "metadata": {},
   "outputs": [],
   "source": [
    "#преобразование типа данных\n",
    "data['date_of_bite'] = pd.to_datetime(data['date_of_bite'])"
   ]
  },
  {
   "cell_type": "code",
   "execution_count": 15,
   "id": "0fe0e249-e34f-4801-809b-5174772ae6c0",
   "metadata": {},
   "outputs": [
    {
     "data": {
      "text/html": [
       "<div>\n",
       "<style scoped>\n",
       "    .dataframe tbody tr th:only-of-type {\n",
       "        vertical-align: middle;\n",
       "    }\n",
       "\n",
       "    .dataframe tbody tr th {\n",
       "        vertical-align: top;\n",
       "    }\n",
       "\n",
       "    .dataframe thead th {\n",
       "        text-align: right;\n",
       "    }\n",
       "</style>\n",
       "<table border=\"1\" class=\"dataframe\">\n",
       "  <thead>\n",
       "    <tr style=\"text-align: right;\">\n",
       "      <th></th>\n",
       "      <th>date_of_bite</th>\n",
       "      <th>breed</th>\n",
       "      <th>gender</th>\n",
       "      <th>spay_or_neuter</th>\n",
       "      <th>borough</th>\n",
       "      <th>month_of_bite</th>\n",
       "      <th>month_of_bite_number</th>\n",
       "      <th>year_of_bite</th>\n",
       "    </tr>\n",
       "  </thead>\n",
       "  <tbody>\n",
       "    <tr>\n",
       "      <th>0</th>\n",
       "      <td>2018-01-01</td>\n",
       "      <td>UNKNOWN</td>\n",
       "      <td>U</td>\n",
       "      <td>False</td>\n",
       "      <td>Brooklyn</td>\n",
       "      <td>Jan</td>\n",
       "      <td>1</td>\n",
       "      <td>2018</td>\n",
       "    </tr>\n",
       "    <tr>\n",
       "      <th>1</th>\n",
       "      <td>2018-01-04</td>\n",
       "      <td>UNKNOWN</td>\n",
       "      <td>U</td>\n",
       "      <td>False</td>\n",
       "      <td>Brooklyn</td>\n",
       "      <td>Jan</td>\n",
       "      <td>1</td>\n",
       "      <td>2018</td>\n",
       "    </tr>\n",
       "    <tr>\n",
       "      <th>2</th>\n",
       "      <td>2018-01-06</td>\n",
       "      <td>Pit Bull</td>\n",
       "      <td>U</td>\n",
       "      <td>False</td>\n",
       "      <td>Brooklyn</td>\n",
       "      <td>Jan</td>\n",
       "      <td>1</td>\n",
       "      <td>2018</td>\n",
       "    </tr>\n",
       "    <tr>\n",
       "      <th>3</th>\n",
       "      <td>2018-01-08</td>\n",
       "      <td>Mixed/Other</td>\n",
       "      <td>M</td>\n",
       "      <td>False</td>\n",
       "      <td>Brooklyn</td>\n",
       "      <td>Jan</td>\n",
       "      <td>1</td>\n",
       "      <td>2018</td>\n",
       "    </tr>\n",
       "    <tr>\n",
       "      <th>4</th>\n",
       "      <td>2018-01-09</td>\n",
       "      <td>Pit Bull</td>\n",
       "      <td>U</td>\n",
       "      <td>False</td>\n",
       "      <td>Brooklyn</td>\n",
       "      <td>Jan</td>\n",
       "      <td>1</td>\n",
       "      <td>2018</td>\n",
       "    </tr>\n",
       "  </tbody>\n",
       "</table>\n",
       "</div>"
      ],
      "text/plain": [
       "  date_of_bite        breed gender  spay_or_neuter   borough month_of_bite  \\\n",
       "0   2018-01-01      UNKNOWN      U           False  Brooklyn           Jan   \n",
       "1   2018-01-04      UNKNOWN      U           False  Brooklyn           Jan   \n",
       "2   2018-01-06     Pit Bull      U           False  Brooklyn           Jan   \n",
       "3   2018-01-08  Mixed/Other      M           False  Brooklyn           Jan   \n",
       "4   2018-01-09     Pit Bull      U           False  Brooklyn           Jan   \n",
       "\n",
       "   month_of_bite_number  year_of_bite  \n",
       "0                     1          2018  \n",
       "1                     1          2018  \n",
       "2                     1          2018  \n",
       "3                     1          2018  \n",
       "4                     1          2018  "
      ]
     },
     "execution_count": 15,
     "metadata": {},
     "output_type": "execute_result"
    }
   ],
   "source": [
    "#добавление новых столбцов\n",
    "data['month_of_bite'] = data['date_of_bite'].dt.strftime('%b')\n",
    "data['month_of_bite_number'] = pd.DatetimeIndex(data['date_of_bite']).month \n",
    "data['year_of_bite'] = pd.DatetimeIndex(data['date_of_bite']).year \n",
    "\n",
    "data.head()"
   ]
  },
  {
   "cell_type": "markdown",
   "id": "5aab6c60-a628-4525-ad10-ade8b5f6cefc",
   "metadata": {},
   "source": [
    "#### Работа с пропусками\n"
   ]
  },
  {
   "cell_type": "code",
   "execution_count": 16,
   "id": "bfd4fa2e-7a90-4c06-b84f-4af254ee823b",
   "metadata": {},
   "outputs": [
    {
     "name": "stdout",
     "output_type": "stream",
     "text": [
      "<class 'pandas.core.frame.DataFrame'>\n",
      "Index: 24987 entries, 0 to 26126\n",
      "Data columns (total 8 columns):\n",
      " #   Column                Non-Null Count  Dtype         \n",
      "---  ------                --------------  -----         \n",
      " 0   date_of_bite          24987 non-null  datetime64[ns]\n",
      " 1   breed                 22861 non-null  object        \n",
      " 2   gender                24987 non-null  object        \n",
      " 3   spay_or_neuter        24987 non-null  bool          \n",
      " 4   borough               24987 non-null  object        \n",
      " 5   month_of_bite         24987 non-null  object        \n",
      " 6   month_of_bite_number  24987 non-null  int32         \n",
      " 7   year_of_bite          24987 non-null  int32         \n",
      "dtypes: bool(1), datetime64[ns](1), int32(2), object(4)\n",
      "memory usage: 1.4+ MB\n"
     ]
    }
   ],
   "source": [
    "data.info()#применим к обновленной таблице метод info()"
   ]
  },
  {
   "cell_type": "markdown",
   "id": "1e92ebea-2b77-406a-9e8e-559475e3bdd8",
   "metadata": {},
   "source": [
    "В датасете остался только один столбец, содержащий пропуски — `breed`.\n",
    "Выше мы выяснили, что одно из самых частых значений в столбце — `UNKNOWN` (англ. «неизвестный»), которое является в данном случае синонимом пропуска данных.\n",
    "Заменим на него все пропуски в столбце."
   ]
  },
  {
   "cell_type": "code",
   "execution_count": 17,
   "id": "98fc8f7d-3738-4080-aa4f-0c1b84504ea4",
   "metadata": {},
   "outputs": [
    {
     "data": {
      "text/plain": [
       "0"
      ]
     },
     "execution_count": 17,
     "metadata": {},
     "output_type": "execute_result"
    }
   ],
   "source": [
    "#меняем пропуски на UNKNOWN\n",
    "data['breed'] = data['breed'].fillna(value='UNKNOWN')\n",
    "#считаем пропуски в столбце breed\n",
    "data['breed'].isna().sum()"
   ]
  },
  {
   "cell_type": "markdown",
   "id": "41735376-082b-4df0-a05e-b45e91217cb4",
   "metadata": {},
   "source": [
    "#### Промежуточный вывод\n",
    "Мы подготовили данные к работе:\n",
    "\n",
    "* удалили ненужные столбцы\n",
    "* привели названия к единому написанию\n",
    "* проверили датасет на пропуски и заполнили пропуски подходящими значениями\n",
    "* проверили датасет на наличие явных и скрытых дубликатов, обнаружили проблемный столбец с породами собак\n",
    "* изменили тип данных в столбце date_of_bite на подходящий и добавили на его основе дополнительные столбцы с месяцем и годом случая."
   ]
  },
  {
   "cell_type": "markdown",
   "id": "b5db096a-e0b3-4529-a9df-d3aa451a99f4",
   "metadata": {},
   "source": [
    "### Анализ сезонности\n",
    "\n",
    "Проверим временной период, который охватывает датасет:"
   ]
  },
  {
   "cell_type": "code",
   "execution_count": 18,
   "id": "b16928e2-825b-4079-a501-4e87c469c25b",
   "metadata": {},
   "outputs": [
    {
     "name": "stdout",
     "output_type": "stream",
     "text": [
      "Самая ранняя дата в датасете: 2015-01-01 00:00:00\n",
      "Самая поздняя дата в датасете: 2022-12-31 00:00:00\n"
     ]
    }
   ],
   "source": [
    "print ('Самая ранняя дата в датасете:',data['date_of_bite'].min())\n",
    "print ('Самая поздняя дата в датасете:',data['date_of_bite'].max())"
   ]
  },
  {
   "cell_type": "markdown",
   "id": "08213b83-f010-4ef0-877f-2eda70ec0d10",
   "metadata": {},
   "source": [
    "Как и указано в описании данных — датасет охватывает 8 лет. С 1 января 2015 года по 31 декабря 2022 г.\n",
    "\n",
    "Сгруппируем случаи по годам и месяцам:"
   ]
  },
  {
   "cell_type": "code",
   "execution_count": 19,
   "id": "36cbfb99-3c0a-4d14-87de-370f39fad447",
   "metadata": {},
   "outputs": [
    {
     "data": {
      "text/html": [
       "<style type=\"text/css\">\n",
       "</style>\n",
       "<table id=\"T_347de\" style='display:inline'>\n",
       "  <caption><b>Распределение случаев укусов собак по годам</b></caption>\n",
       "  <thead>\n",
       "    <tr>\n",
       "      <th class=\"blank level0\" >&nbsp;</th>\n",
       "      <th id=\"T_347de_level0_col0\" class=\"col_heading level0 col0\" >year_of_bite</th>\n",
       "      <th id=\"T_347de_level0_col1\" class=\"col_heading level0 col1\" >total</th>\n",
       "    </tr>\n",
       "  </thead>\n",
       "  <tbody>\n",
       "    <tr>\n",
       "      <th id=\"T_347de_level0_row0\" class=\"row_heading level0 row0\" >0</th>\n",
       "      <td id=\"T_347de_row0_col0\" class=\"data row0 col0\" >2015</td>\n",
       "      <td id=\"T_347de_row0_col1\" class=\"data row0 col1\" >3390</td>\n",
       "    </tr>\n",
       "    <tr>\n",
       "      <th id=\"T_347de_level0_row1\" class=\"row_heading level0 row1\" >1</th>\n",
       "      <td id=\"T_347de_row1_col0\" class=\"data row1 col0\" >2016</td>\n",
       "      <td id=\"T_347de_row1_col1\" class=\"data row1 col1\" >3085</td>\n",
       "    </tr>\n",
       "    <tr>\n",
       "      <th id=\"T_347de_level0_row2\" class=\"row_heading level0 row2\" >2</th>\n",
       "      <td id=\"T_347de_row2_col0\" class=\"data row2 col0\" >2017</td>\n",
       "      <td id=\"T_347de_row2_col1\" class=\"data row2 col1\" >3368</td>\n",
       "    </tr>\n",
       "    <tr>\n",
       "      <th id=\"T_347de_level0_row3\" class=\"row_heading level0 row3\" >3</th>\n",
       "      <td id=\"T_347de_row3_col0\" class=\"data row3 col0\" >2018</td>\n",
       "      <td id=\"T_347de_row3_col1\" class=\"data row3 col1\" >3238</td>\n",
       "    </tr>\n",
       "    <tr>\n",
       "      <th id=\"T_347de_level0_row4\" class=\"row_heading level0 row4\" >4</th>\n",
       "      <td id=\"T_347de_row4_col0\" class=\"data row4 col0\" >2019</td>\n",
       "      <td id=\"T_347de_row4_col1\" class=\"data row4 col1\" >3389</td>\n",
       "    </tr>\n",
       "    <tr>\n",
       "      <th id=\"T_347de_level0_row5\" class=\"row_heading level0 row5\" >5</th>\n",
       "      <td id=\"T_347de_row5_col0\" class=\"data row5 col0\" >2020</td>\n",
       "      <td id=\"T_347de_row5_col1\" class=\"data row5 col1\" >2424</td>\n",
       "    </tr>\n",
       "    <tr>\n",
       "      <th id=\"T_347de_level0_row6\" class=\"row_heading level0 row6\" >6</th>\n",
       "      <td id=\"T_347de_row6_col0\" class=\"data row6 col0\" >2021</td>\n",
       "      <td id=\"T_347de_row6_col1\" class=\"data row6 col1\" >2788</td>\n",
       "    </tr>\n",
       "    <tr>\n",
       "      <th id=\"T_347de_level0_row7\" class=\"row_heading level0 row7\" >7</th>\n",
       "      <td id=\"T_347de_row7_col0\" class=\"data row7 col0\" >2022</td>\n",
       "      <td id=\"T_347de_row7_col1\" class=\"data row7 col1\" >3305</td>\n",
       "    </tr>\n",
       "  </tbody>\n",
       "</table>\n",
       "&nbsp&nbsp&nbsp&nbsp&nbsp&nbsp&nbsp&nbsp&nbsp&nbsp&nbsp&nbsp&nbsp&nbsp&nbsp<style type=\"text/css\">\n",
       "</style>\n",
       "<table id=\"T_3aab7\" style='display:inline'>\n",
       "  <caption><b>Распределение случаев укусов собак по месяцам</b></caption>\n",
       "  <thead>\n",
       "    <tr>\n",
       "      <th class=\"blank level0\" >&nbsp;</th>\n",
       "      <th id=\"T_3aab7_level0_col0\" class=\"col_heading level0 col0\" >month_of_bite</th>\n",
       "      <th id=\"T_3aab7_level0_col1\" class=\"col_heading level0 col1\" >total</th>\n",
       "    </tr>\n",
       "  </thead>\n",
       "  <tbody>\n",
       "    <tr>\n",
       "      <th id=\"T_3aab7_level0_row0\" class=\"row_heading level0 row0\" >0</th>\n",
       "      <td id=\"T_3aab7_row0_col0\" class=\"data row0 col0\" >Jan</td>\n",
       "      <td id=\"T_3aab7_row0_col1\" class=\"data row0 col1\" >1613</td>\n",
       "    </tr>\n",
       "    <tr>\n",
       "      <th id=\"T_3aab7_level0_row1\" class=\"row_heading level0 row1\" >1</th>\n",
       "      <td id=\"T_3aab7_row1_col0\" class=\"data row1 col0\" >Feb</td>\n",
       "      <td id=\"T_3aab7_row1_col1\" class=\"data row1 col1\" >1660</td>\n",
       "    </tr>\n",
       "    <tr>\n",
       "      <th id=\"T_3aab7_level0_row2\" class=\"row_heading level0 row2\" >2</th>\n",
       "      <td id=\"T_3aab7_row2_col0\" class=\"data row2 col0\" >Mar</td>\n",
       "      <td id=\"T_3aab7_row2_col1\" class=\"data row2 col1\" >1795</td>\n",
       "    </tr>\n",
       "    <tr>\n",
       "      <th id=\"T_3aab7_level0_row3\" class=\"row_heading level0 row3\" >3</th>\n",
       "      <td id=\"T_3aab7_row3_col0\" class=\"data row3 col0\" >Apr</td>\n",
       "      <td id=\"T_3aab7_row3_col1\" class=\"data row3 col1\" >2127</td>\n",
       "    </tr>\n",
       "    <tr>\n",
       "      <th id=\"T_3aab7_level0_row4\" class=\"row_heading level0 row4\" >4</th>\n",
       "      <td id=\"T_3aab7_row4_col0\" class=\"data row4 col0\" >May</td>\n",
       "      <td id=\"T_3aab7_row4_col1\" class=\"data row4 col1\" >2372</td>\n",
       "    </tr>\n",
       "    <tr>\n",
       "      <th id=\"T_3aab7_level0_row5\" class=\"row_heading level0 row5\" >5</th>\n",
       "      <td id=\"T_3aab7_row5_col0\" class=\"data row5 col0\" >Jun</td>\n",
       "      <td id=\"T_3aab7_row5_col1\" class=\"data row5 col1\" >2556</td>\n",
       "    </tr>\n",
       "    <tr>\n",
       "      <th id=\"T_3aab7_level0_row6\" class=\"row_heading level0 row6\" >6</th>\n",
       "      <td id=\"T_3aab7_row6_col0\" class=\"data row6 col0\" >Jul</td>\n",
       "      <td id=\"T_3aab7_row6_col1\" class=\"data row6 col1\" >2578</td>\n",
       "    </tr>\n",
       "    <tr>\n",
       "      <th id=\"T_3aab7_level0_row7\" class=\"row_heading level0 row7\" >7</th>\n",
       "      <td id=\"T_3aab7_row7_col0\" class=\"data row7 col0\" >Aug</td>\n",
       "      <td id=\"T_3aab7_row7_col1\" class=\"data row7 col1\" >2486</td>\n",
       "    </tr>\n",
       "    <tr>\n",
       "      <th id=\"T_3aab7_level0_row8\" class=\"row_heading level0 row8\" >8</th>\n",
       "      <td id=\"T_3aab7_row8_col0\" class=\"data row8 col0\" >Sep</td>\n",
       "      <td id=\"T_3aab7_row8_col1\" class=\"data row8 col1\" >2195</td>\n",
       "    </tr>\n",
       "    <tr>\n",
       "      <th id=\"T_3aab7_level0_row9\" class=\"row_heading level0 row9\" >9</th>\n",
       "      <td id=\"T_3aab7_row9_col0\" class=\"data row9 col0\" >Oct</td>\n",
       "      <td id=\"T_3aab7_row9_col1\" class=\"data row9 col1\" >2003</td>\n",
       "    </tr>\n",
       "    <tr>\n",
       "      <th id=\"T_3aab7_level0_row10\" class=\"row_heading level0 row10\" >10</th>\n",
       "      <td id=\"T_3aab7_row10_col0\" class=\"data row10 col0\" >Nov</td>\n",
       "      <td id=\"T_3aab7_row10_col1\" class=\"data row10 col1\" >1884</td>\n",
       "    </tr>\n",
       "    <tr>\n",
       "      <th id=\"T_3aab7_level0_row11\" class=\"row_heading level0 row11\" >11</th>\n",
       "      <td id=\"T_3aab7_row11_col0\" class=\"data row11 col0\" >Dec</td>\n",
       "      <td id=\"T_3aab7_row11_col1\" class=\"data row11 col1\" >1718</td>\n",
       "    </tr>\n",
       "  </tbody>\n",
       "</table>\n"
      ]
     },
     "metadata": {},
     "output_type": "display_data"
    }
   ],
   "source": [
    "#создаем сводную таблицу с группировкой по годам\n",
    "bites_per_year = data.groupby('year_of_bite')['date_of_bite'].count().to_frame().reset_index()\n",
    "bites_per_year.columns = ['year_of_bite','total']\n",
    "\n",
    "#создаем сводную таблицу с группировкой по месяцам\n",
    "bites_per_month = data.pivot_table(index=['month_of_bite_number','month_of_bite'],\n",
    "                                          values='date_of_bite',\n",
    "                                          aggfunc=['count']).droplevel('month_of_bite_number', axis=0)\n",
    "#переименуем столбец и сбросим индекс\n",
    "bites_per_month.columns = ['total']\n",
    "bites_per_month = bites_per_month.reset_index()\n",
    "\n",
    "#выведем обе таблицы на экран\n",
    "df1_styler = bites_per_year.style.set_table_attributes(\"style='display:inline'\").set_caption('<b>Распределение случаев укусов собак по годам</b>')\n",
    "df2_styler = bites_per_month.style.set_table_attributes(\"style='display:inline'\").set_caption('<b>Распределение случаев укусов собак по месяцам</b>')\n",
    "display_html(df1_styler._repr_html_()+15*'&nbsp' +df2_styler._repr_html_(), raw=True)"
   ]
  },
  {
   "cell_type": "code",
   "execution_count": 35,
   "id": "527a9fc8-2bbd-45eb-8bdb-29b60eb0b567",
   "metadata": {},
   "outputs": [
    {
     "name": "stdout",
     "output_type": "stream",
     "text": [
      "Разница между количеством укусов летом и зимой — 34.50%\n"
     ]
    }
   ],
   "source": [
    "#посчитаем среднее количество событий летом\n",
    "summer_months = bites_per_month.sort_values(by='total',ascending=False)['total'][:3]\n",
    "summer_months_mean = summer_months.sum()/3\n",
    "\n",
    "#посчитаем среднее количество событий зимой\n",
    "winter_months = bites_per_month.sort_values(by='total',ascending=False)['total'][-3:]\n",
    "winter_months_mean = winter_months.sum()/3\n",
    "\n",
    "#посчитаем разницу между количеством укусов летом и зимой в процентах\n",
    "print('Разница между количеством укусов летом и зимой —',\n",
    "      \"{0:.2f}%\".format(100 - round(winter_months_mean/summer_months_mean*100,2)))"
   ]
  },
  {
   "cell_type": "markdown",
   "id": "bf37d8d1-8dfd-46b0-9a1e-1129985ea0fd",
   "metadata": {},
   "source": [
    "**Визуализируем полученные таблицы на графике**"
   ]
  },
  {
   "cell_type": "code",
   "execution_count": 21,
   "id": "ea25b360-d373-472b-a739-9e0744d499f1",
   "metadata": {},
   "outputs": [
    {
     "data": {
      "image/png": "[encoded data removed]",
      "text/plain": [
       "<Figure size 2000x500 with 2 Axes>"
      ]
     },
     "metadata": {},
     "output_type": "display_data"
    }
   ],
   "source": [
    "#создаем графики\n",
    "fig, axes= plt.subplots(1, 2)\n",
    "fig.set_size_inches(20, 5)\n",
    "\n",
    "sns.barplot(ax=axes[0],data=bites_per_year, x='year_of_bite', y='total', errorbar=None)\n",
    "axes[0].set_title('Распределение случаев укусов собак по годам')\n",
    "axes[0].set_xlabel('Год')\n",
    "axes[0].set_ylabel('Количество зарегистрированных случаев')\n",
    "\n",
    "sns.barplot(ax=axes[1],data=bites_per_month, x='month_of_bite', y='total', errorbar=None)\n",
    "axes[1].set_title('Распределение случаев укусов собак по месяцам')\n",
    "axes[1].set_xlabel('Месяц (данные за 2015-2022 гг.)')\n",
    "axes[1].set_ylabel('Количество зарегистрированных случаев');"
   ]
  },
  {
   "cell_type": "markdown",
   "id": "5bc08617-f826-4e92-8e27-fb5984d94df2",
   "metadata": {},
   "source": [
    "#### Промежуточный вывод\n",
    "\n",
    "* Меньше всего укусов зарегистрировано в 2020 и 2021 году. Возможно это связано с пандемией коронавируса и периодом ввода в городе правил самоизоляции. Это единственные года за исследуемый период, за которые наблюдалось менее 3000 случаев.\n",
    "* Больше всего укусов зафиксировано в 2015 году (3390 случаев)\n",
    "* Наблюдается выраженная сезонность событий: в зимние месяцы в среднем зафиксировано на 34.5% меньше случаев, чем в летние"
   ]
  },
  {
   "cell_type": "markdown",
   "id": "7226a1dc-4b39-4940-812d-57267fcf1459",
   "metadata": {},
   "source": [
    "### Распределение случаев по районам"
   ]
  },
  {
   "cell_type": "markdown",
   "id": "6b2237df-2fec-4171-ac48-3cb89dfe1838",
   "metadata": {},
   "source": [
    "Напомним, что в Нью-Йорке существуют пять административных округов (районов, боро):\n",
    "\n",
    "1. `Manhattan` — Манхэттен \n",
    "2. `Brooklyn` — Бруклин\n",
    "3. `Queens` — Куинс\n",
    "4. `Bronx` — Бронкс\n",
    "5. `Staten Island` — Статен-Айленд\n",
    "\n",
    "\n",
    "Создадим сводную таблицу с группировкой по районам и месяцам: "
   ]
  },
  {
   "cell_type": "code",
   "execution_count": 22,
   "id": "12f97c08-9b89-4c5e-86c0-3d9358fefc01",
   "metadata": {},
   "outputs": [
    {
     "data": {
      "text/html": [
       "<div>\n",
       "<style scoped>\n",
       "    .dataframe tbody tr th:only-of-type {\n",
       "        vertical-align: middle;\n",
       "    }\n",
       "\n",
       "    .dataframe tbody tr th {\n",
       "        vertical-align: top;\n",
       "    }\n",
       "\n",
       "    .dataframe thead th {\n",
       "        text-align: right;\n",
       "    }\n",
       "</style>\n",
       "<table border=\"1\" class=\"dataframe\">\n",
       "  <thead>\n",
       "    <tr style=\"text-align: right;\">\n",
       "      <th>borough</th>\n",
       "      <th>Bronx</th>\n",
       "      <th>Brooklyn</th>\n",
       "      <th>Manhattan</th>\n",
       "      <th>Queens</th>\n",
       "      <th>Staten Island</th>\n",
       "    </tr>\n",
       "    <tr>\n",
       "      <th>month_of_bite</th>\n",
       "      <th></th>\n",
       "      <th></th>\n",
       "      <th></th>\n",
       "      <th></th>\n",
       "      <th></th>\n",
       "    </tr>\n",
       "  </thead>\n",
       "  <tbody>\n",
       "    <tr>\n",
       "      <th>Jan</th>\n",
       "      <td>322</td>\n",
       "      <td>353</td>\n",
       "      <td>419</td>\n",
       "      <td>370</td>\n",
       "      <td>149</td>\n",
       "    </tr>\n",
       "    <tr>\n",
       "      <th>Feb</th>\n",
       "      <td>297</td>\n",
       "      <td>370</td>\n",
       "      <td>440</td>\n",
       "      <td>415</td>\n",
       "      <td>138</td>\n",
       "    </tr>\n",
       "    <tr>\n",
       "      <th>Mar</th>\n",
       "      <td>345</td>\n",
       "      <td>378</td>\n",
       "      <td>443</td>\n",
       "      <td>469</td>\n",
       "      <td>160</td>\n",
       "    </tr>\n",
       "    <tr>\n",
       "      <th>Apr</th>\n",
       "      <td>357</td>\n",
       "      <td>500</td>\n",
       "      <td>521</td>\n",
       "      <td>560</td>\n",
       "      <td>189</td>\n",
       "    </tr>\n",
       "    <tr>\n",
       "      <th>May</th>\n",
       "      <td>405</td>\n",
       "      <td>527</td>\n",
       "      <td>609</td>\n",
       "      <td>625</td>\n",
       "      <td>206</td>\n",
       "    </tr>\n",
       "    <tr>\n",
       "      <th>Jun</th>\n",
       "      <td>392</td>\n",
       "      <td>626</td>\n",
       "      <td>578</td>\n",
       "      <td>751</td>\n",
       "      <td>209</td>\n",
       "    </tr>\n",
       "    <tr>\n",
       "      <th>Jul</th>\n",
       "      <td>448</td>\n",
       "      <td>613</td>\n",
       "      <td>534</td>\n",
       "      <td>751</td>\n",
       "      <td>232</td>\n",
       "    </tr>\n",
       "    <tr>\n",
       "      <th>Aug</th>\n",
       "      <td>398</td>\n",
       "      <td>586</td>\n",
       "      <td>599</td>\n",
       "      <td>708</td>\n",
       "      <td>195</td>\n",
       "    </tr>\n",
       "    <tr>\n",
       "      <th>Sep</th>\n",
       "      <td>378</td>\n",
       "      <td>519</td>\n",
       "      <td>527</td>\n",
       "      <td>588</td>\n",
       "      <td>183</td>\n",
       "    </tr>\n",
       "    <tr>\n",
       "      <th>Oct</th>\n",
       "      <td>349</td>\n",
       "      <td>446</td>\n",
       "      <td>494</td>\n",
       "      <td>535</td>\n",
       "      <td>179</td>\n",
       "    </tr>\n",
       "    <tr>\n",
       "      <th>Nov</th>\n",
       "      <td>359</td>\n",
       "      <td>421</td>\n",
       "      <td>484</td>\n",
       "      <td>465</td>\n",
       "      <td>155</td>\n",
       "    </tr>\n",
       "    <tr>\n",
       "      <th>Dec</th>\n",
       "      <td>325</td>\n",
       "      <td>359</td>\n",
       "      <td>433</td>\n",
       "      <td>456</td>\n",
       "      <td>145</td>\n",
       "    </tr>\n",
       "  </tbody>\n",
       "</table>\n",
       "</div>"
      ],
      "text/plain": [
       "borough        Bronx  Brooklyn  Manhattan  Queens  Staten Island\n",
       "month_of_bite                                                   \n",
       "Jan              322       353        419     370            149\n",
       "Feb              297       370        440     415            138\n",
       "Mar              345       378        443     469            160\n",
       "Apr              357       500        521     560            189\n",
       "May              405       527        609     625            206\n",
       "Jun              392       626        578     751            209\n",
       "Jul              448       613        534     751            232\n",
       "Aug              398       586        599     708            195\n",
       "Sep              378       519        527     588            183\n",
       "Oct              349       446        494     535            179\n",
       "Nov              359       421        484     465            155\n",
       "Dec              325       359        433     456            145"
      ]
     },
     "execution_count": 22,
     "metadata": {},
     "output_type": "execute_result"
    }
   ],
   "source": [
    "monthly_bites_by_borough = data.pivot_table(index=['month_of_bite_number','month_of_bite'],\n",
    "                        columns='borough',\n",
    "                                          values='date_of_bite',\n",
    "                                          aggfunc=['count'])\n",
    "\n",
    "monthly_bites_by_borough.columns = monthly_bites_by_borough.columns.droplevel()\n",
    "monthly_bites_by_borough.index = monthly_bites_by_borough.index.droplevel()\n",
    "monthly_bites_by_borough"
   ]
  },
  {
   "cell_type": "markdown",
   "id": "70518051-1010-4649-8e56-81c3b7c34904",
   "metadata": {},
   "source": [
    "Визуализируем полученную таблицу на тепловой карте:"
   ]
  },
  {
   "cell_type": "code",
   "execution_count": 23,
   "id": "11f5b1c9-afbf-4c45-a8db-b75cf09fce08",
   "metadata": {},
   "outputs": [
    {
     "data": {
      "image/png": "[encoded data removed]",
      "text/plain": [
       "<Figure size 2000x500 with 2 Axes>"
      ]
     },
     "metadata": {},
     "output_type": "display_data"
    }
   ],
   "source": [
    "#создаем график\n",
    "plt.figure(figsize=(20, 5))\n",
    "\n",
    "sns.heatmap(\n",
    "    monthly_bites_by_borough, ax=plt.subplot(1, 2, 1), cmap=\"coolwarm\", annot=True, fmt='.0f',cbar_kws={'label': '\\n количество событий за 8 лет (шт.)'}\n",
    ")\n",
    "plt.yticks(rotation=0)\n",
    "\n",
    "#прописываем оси и названия\n",
    "plt.title('Распределение случаев укусов по районам и месяцам \\n общее количество за 8 лет')\n",
    "plt.xlabel('Боро Нью-Йорка') \n",
    "plt.ylabel('Месяц (данные за 2015-2022 гг.)');"
   ]
  },
  {
   "cell_type": "markdown",
   "id": "55e5baa6-d000-4df3-a91e-618e9f2082d9",
   "metadata": {},
   "source": [
    "**Наблюдения:**\n",
    "\n",
    "* Отчетливо видна сезонность случаев, которую мы отметили выше\n",
    "* Менее всего событий происходит в районе Статен-Айленд, больше всего — в Куинс\n",
    "\n",
    "Можем ли мы из этого предположить, что самым опасным по укусам является Куинс, а безопасным — Статен-Айленд? При расчете мы не брали в расчет населенность районов.\n",
    "Ниже посчитаем количество укусов на жителя.\n",
    "\n",
    "----\n",
    "\n",
    "На <a href=\"https://en.wikipedia.org/wiki/Demographics_of_New_York_City#cite_note-41:~:text=New%20York%20City%27s%20five%20boroughs\">странице Wikipedia</a> размещены данные о последней переписи в США за 2020 год. Возьмем данные из этого источника и запишем в переменную:"
   ]
  },
  {
   "cell_type": "code",
   "execution_count": 24,
   "id": "e6783ef0-583a-459a-a89a-71b6b1d9e332",
   "metadata": {},
   "outputs": [
    {
     "data": {
      "text/plain": [
       "{'Bronx': 1.472654,\n",
       " 'Brooklyn': 2.736074,\n",
       " 'Manhattan': 1.694251,\n",
       " 'Queens': 2.405464,\n",
       " 'Staten Island': 0.495747}"
      ]
     },
     "execution_count": 24,
     "metadata": {},
     "output_type": "execute_result"
    }
   ],
   "source": [
    "#создаем словарь с данными переписи в млн. чел\n",
    "population = {\n",
    "  \"Bronx\": 1.472654,\n",
    "  \"Brooklyn\": 2.736074,\n",
    "  \"Manhattan\": 1.694251,\n",
    "   \"Queens\": 2.405464,\n",
    "  \"Staten Island\": 0.495747 \n",
    "}\n",
    "population"
   ]
  },
  {
   "cell_type": "code",
   "execution_count": 25,
   "id": "0934aeb1-5c4e-43e7-a7db-71f738bf43e5",
   "metadata": {},
   "outputs": [
    {
     "data": {
      "text/html": [
       "<div>\n",
       "<style scoped>\n",
       "    .dataframe tbody tr th:only-of-type {\n",
       "        vertical-align: middle;\n",
       "    }\n",
       "\n",
       "    .dataframe tbody tr th {\n",
       "        vertical-align: top;\n",
       "    }\n",
       "\n",
       "    .dataframe thead th {\n",
       "        text-align: right;\n",
       "    }\n",
       "</style>\n",
       "<table border=\"1\" class=\"dataframe\">\n",
       "  <thead>\n",
       "    <tr style=\"text-align: right;\">\n",
       "      <th>borough</th>\n",
       "      <th>Bronx</th>\n",
       "      <th>Brooklyn</th>\n",
       "      <th>Manhattan</th>\n",
       "      <th>Queens</th>\n",
       "      <th>Staten Island</th>\n",
       "    </tr>\n",
       "    <tr>\n",
       "      <th>month_of_bite</th>\n",
       "      <th></th>\n",
       "      <th></th>\n",
       "      <th></th>\n",
       "      <th></th>\n",
       "      <th></th>\n",
       "    </tr>\n",
       "  </thead>\n",
       "  <tbody>\n",
       "    <tr>\n",
       "      <th>Jan</th>\n",
       "      <td>218.65</td>\n",
       "      <td>129.02</td>\n",
       "      <td>247.31</td>\n",
       "      <td>153.82</td>\n",
       "      <td>300.56</td>\n",
       "    </tr>\n",
       "    <tr>\n",
       "      <th>Feb</th>\n",
       "      <td>201.68</td>\n",
       "      <td>135.23</td>\n",
       "      <td>259.70</td>\n",
       "      <td>172.52</td>\n",
       "      <td>278.37</td>\n",
       "    </tr>\n",
       "    <tr>\n",
       "      <th>Mar</th>\n",
       "      <td>234.27</td>\n",
       "      <td>138.15</td>\n",
       "      <td>261.47</td>\n",
       "      <td>194.97</td>\n",
       "      <td>322.75</td>\n",
       "    </tr>\n",
       "    <tr>\n",
       "      <th>Apr</th>\n",
       "      <td>242.42</td>\n",
       "      <td>182.74</td>\n",
       "      <td>307.51</td>\n",
       "      <td>232.80</td>\n",
       "      <td>381.24</td>\n",
       "    </tr>\n",
       "    <tr>\n",
       "      <th>May</th>\n",
       "      <td>275.01</td>\n",
       "      <td>192.61</td>\n",
       "      <td>359.45</td>\n",
       "      <td>259.83</td>\n",
       "      <td>415.53</td>\n",
       "    </tr>\n",
       "    <tr>\n",
       "      <th>Jun</th>\n",
       "      <td>266.19</td>\n",
       "      <td>228.79</td>\n",
       "      <td>341.15</td>\n",
       "      <td>312.21</td>\n",
       "      <td>421.59</td>\n",
       "    </tr>\n",
       "    <tr>\n",
       "      <th>Jul</th>\n",
       "      <td>304.21</td>\n",
       "      <td>224.04</td>\n",
       "      <td>315.18</td>\n",
       "      <td>312.21</td>\n",
       "      <td>467.98</td>\n",
       "    </tr>\n",
       "    <tr>\n",
       "      <th>Aug</th>\n",
       "      <td>270.26</td>\n",
       "      <td>214.18</td>\n",
       "      <td>353.55</td>\n",
       "      <td>294.33</td>\n",
       "      <td>393.35</td>\n",
       "    </tr>\n",
       "    <tr>\n",
       "      <th>Sep</th>\n",
       "      <td>256.68</td>\n",
       "      <td>189.69</td>\n",
       "      <td>311.05</td>\n",
       "      <td>244.44</td>\n",
       "      <td>369.14</td>\n",
       "    </tr>\n",
       "    <tr>\n",
       "      <th>Oct</th>\n",
       "      <td>236.99</td>\n",
       "      <td>163.01</td>\n",
       "      <td>291.57</td>\n",
       "      <td>222.41</td>\n",
       "      <td>361.07</td>\n",
       "    </tr>\n",
       "    <tr>\n",
       "      <th>Nov</th>\n",
       "      <td>243.78</td>\n",
       "      <td>153.87</td>\n",
       "      <td>285.67</td>\n",
       "      <td>193.31</td>\n",
       "      <td>312.66</td>\n",
       "    </tr>\n",
       "    <tr>\n",
       "      <th>Dec</th>\n",
       "      <td>220.69</td>\n",
       "      <td>131.21</td>\n",
       "      <td>255.57</td>\n",
       "      <td>189.57</td>\n",
       "      <td>292.49</td>\n",
       "    </tr>\n",
       "  </tbody>\n",
       "</table>\n",
       "</div>"
      ],
      "text/plain": [
       "borough         Bronx  Brooklyn  Manhattan  Queens  Staten Island\n",
       "month_of_bite                                                    \n",
       "Jan            218.65    129.02     247.31  153.82         300.56\n",
       "Feb            201.68    135.23     259.70  172.52         278.37\n",
       "Mar            234.27    138.15     261.47  194.97         322.75\n",
       "Apr            242.42    182.74     307.51  232.80         381.24\n",
       "May            275.01    192.61     359.45  259.83         415.53\n",
       "Jun            266.19    228.79     341.15  312.21         421.59\n",
       "Jul            304.21    224.04     315.18  312.21         467.98\n",
       "Aug            270.26    214.18     353.55  294.33         393.35\n",
       "Sep            256.68    189.69     311.05  244.44         369.14\n",
       "Oct            236.99    163.01     291.57  222.41         361.07\n",
       "Nov            243.78    153.87     285.67  193.31         312.66\n",
       "Dec            220.69    131.21     255.57  189.57         292.49"
      ]
     },
     "execution_count": 25,
     "metadata": {},
     "output_type": "execute_result"
    }
   ],
   "source": [
    "#создаем копию датасета monthly_bites_by_borough\n",
    "bites_per_population = monthly_bites_by_borough.copy()\n",
    "\n",
    "#делим значения в копии на соответствующее количество млн. жителей с округлением до 2-х знаков после запятой\n",
    "for i in bites_per_population:\n",
    "    bites_per_population[i] = round(bites_per_population[i]/population[i],2)\n",
    "\n",
    "bites_per_population"
   ]
  },
  {
   "cell_type": "markdown",
   "id": "6870823f-bd6e-4eeb-a9f3-aa92e78e8afb",
   "metadata": {},
   "source": [
    "**Визуализируем новую таблицу на тепловой карте:**"
   ]
  },
  {
   "cell_type": "code",
   "execution_count": 26,
   "id": "7acd54d2-1eeb-4834-aba6-83fdbec2250d",
   "metadata": {},
   "outputs": [
    {
     "data": {
      "image/png": "[encoded data removed]",
      "text/plain": [
       "<Figure size 2000x500 with 2 Axes>"
      ]
     },
     "metadata": {},
     "output_type": "display_data"
    }
   ],
   "source": [
    "#создаем график\n",
    "plt.figure(figsize=(20, 5))\n",
    "\n",
    "sns.heatmap(\n",
    "    bites_per_population, ax=plt.subplot(1, 2, 1),  cmap=\"coolwarm\", annot=True, fmt='.0f',cbar_kws={'label': '\\n количество событий за 8 лет на 1 млн. чел'}\n",
    ")\n",
    "\n",
    "plt.yticks(rotation=0)\n",
    "\n",
    "#прописываем оси и названия\n",
    "plt.title('Распределение случаев укусов по районам и месяцам\\n на 1 млн. человек\\n')\n",
    "plt.xlabel('Боро Нью-Йорка') \n",
    "plt.ylabel('Месяц (данные за 2015-2022 гг.)');"
   ]
  },
  {
   "cell_type": "markdown",
   "id": "81277cc5-ee59-41a3-8e38-6a959849336b",
   "metadata": {},
   "source": [
    "Уточним сколько в среднем в год зарегистрировано укусов в районе-лидере Статен-Айленд."
   ]
  },
  {
   "cell_type": "code",
   "execution_count": 27,
   "id": "04335dd7-350d-4bd9-bb0b-e3eaa0c23d95",
   "metadata": {},
   "outputs": [
    {
     "data": {
      "text/plain": [
       "539.59125"
      ]
     },
     "execution_count": 27,
     "metadata": {},
     "output_type": "execute_result"
    }
   ],
   "source": [
    "#делим сумму столбца 'Staten Island' на 8 лет\n",
    "bites_per_population['Staten Island'].sum()/8"
   ]
  },
  {
   "cell_type": "markdown",
   "id": "10aaceac-e4f3-4aab-9cf1-f3e7d02d9482",
   "metadata": {},
   "source": [
    "**Наблюдения:**\n",
    "\n",
    "Ситуация изменилась. Так как в Статен-Айленд меньше всего жителей, район вышел на первое место по количеству событий на жителя (540 на 1 млн. человек в год)"
   ]
  },
  {
   "cell_type": "markdown",
   "id": "53e2886a-c9df-494d-b9a8-9fc82c67ef00",
   "metadata": {},
   "source": [
    "#### Промежуточный вывод\n",
    "\n",
    "* Больше всего событий на жителя происходит в Статен-Айленде\n",
    "* Меньше всего — в Бруклине"
   ]
  },
  {
   "cell_type": "markdown",
   "id": "d7c4aa83-dffb-49ec-a407-c47bd010f016",
   "metadata": {},
   "source": [
    "### Поиск агрессивных пород\n",
    "\n",
    "Напомним, что информацию о породе собаки, содержит столбец `breed`. Выше, на этапе предобработки данных, мы выяснили, что этот **столбец содержит сырые данные**, попробуем исправить их хотя бы частично, чтобы отследить основные тенденции"
   ]
  },
  {
   "cell_type": "code",
   "execution_count": 28,
   "id": "d6231049-636f-4ebe-9757-23e3582c848d",
   "metadata": {},
   "outputs": [
    {
     "name": "stdout",
     "output_type": "stream",
     "text": [
      "Количество уникальных названий пород до очистки — 1701\n"
     ]
    }
   ],
   "source": [
    "print('Количество уникальных названий пород до очистки —', len(data['breed'].unique().tolist()))"
   ]
  },
  {
   "cell_type": "code",
   "execution_count": 29,
   "id": "050c8a7e-380a-4c8a-8625-1701c07ffc6e",
   "metadata": {},
   "outputs": [
    {
     "name": "stdout",
     "output_type": "stream",
     "text": [
      "Количество уникальных названий пород после очистки — 1522\n"
     ]
    }
   ],
   "source": [
    "#приведем все названия к нижнему регистру\n",
    "data['breed'] = data['breed'].str.lower()\n",
    "#унифицируем написание смешанных пород\n",
    "data['breed'] = data['breed'].str.replace(' x', '')\n",
    "data['breed'] = data['breed'].str.replace(' / ', '/')\n",
    "data['breed'] = data['breed'].str.replace('/ ', '/')\n",
    "data['breed'] = data['breed'].str.replace(' /', '/')\n",
    "data['breed'] = data['breed'].str.replace('mix/other', 'unknown')\n",
    "data['breed'] = data['breed'].str.replace('mixed', 'unknown')\n",
    "data['breed'] = data['breed'].str.replace('mixed/other', 'unknown')\n",
    "data['breed'] = data['breed'].str.replace('mixed breed', 'unknown')\n",
    "data['breed'] = data['breed'].str.replace('unknown breed', 'unknown')\n",
    "data['breed'] = data['breed'].str.replace('american pit bull terrier/pit bull', 'american pit bull/pit bull mix')\n",
    "data['breed'] = data['breed'].str.replace('american pit bull mix/pit bull mix', 'american pit bull/pit bull mix')\n",
    "\n",
    "print('Количество уникальных названий пород после очистки —', len(data['breed'].unique().tolist()))"
   ]
  },
  {
   "cell_type": "markdown",
   "id": "79d22457-1890-45eb-a28b-f0c09261ad5a",
   "metadata": {},
   "source": [
    "Удалось избавиться от 180 дублей в названиях, но все ровно данные достаточно грязные, выведем, например, на экран варианты со словом 'german', так как в слове 'shepherd' (german shepherd — англ. «немецкая овчарка») часто допускаются ошибки или сокращения. Выведем на экран количество вариантов и первые 15 из них."
   ]
  },
  {
   "cell_type": "code",
   "execution_count": 30,
   "id": "ddeab8a7-dcaa-440a-ae6a-8a465e289e97",
   "metadata": {},
   "outputs": [
    {
     "data": {
      "text/plain": [
       "['german shepherd',\n",
       " 'german shepherd crossbreed',\n",
       " 'german shepherd/golden retriever',\n",
       " 'german shepherd/labrador mix',\n",
       " 'german pinscher',\n",
       " 'german shep, pit bull & husky mix',\n",
       " 'pit bull/german shepherd mix',\n",
       " 'german shepherd/siberian husky mix',\n",
       " 'german shepherd mix',\n",
       " 'german sheperd/pitbull',\n",
       " 'husky/german shepherd mix',\n",
       " 'german shepher mix',\n",
       " 'astralian cattle/german pointer mix',\n",
       " 'golden retreiver/german shepherd',\n",
       " 'german shepard mix']"
      ]
     },
     "metadata": {},
     "output_type": "display_data"
    },
    {
     "data": {
      "text/plain": [
       "50"
      ]
     },
     "metadata": {},
     "output_type": "display_data"
    }
   ],
   "source": [
    "myvar = 'german'\n",
    "display(data.loc[data['breed'].str.contains(myvar)]['breed'].unique().tolist()[:15])\n",
    "display(len(data.loc[data['breed'].str.contains(myvar)]['breed'].unique().tolist()))"
   ]
  },
  {
   "cell_type": "markdown",
   "id": "e159438d-3145-436a-9308-cfb04cf23d25",
   "metadata": {},
   "source": [
    "Итак, с одними только немецкими овчарками встречаются 50 вариантов написания и смешанных пород.\n",
    "\n",
    "Поэтому мы не можем делать какие-либо точные выводы из информации о породах в датафрейме.\n",
    "Но можно взглянуть на топ пород по частоте:"
   ]
  },
  {
   "cell_type": "code",
   "execution_count": 31,
   "id": "bf3db829-ed68-4c70-8759-246c287aae4b",
   "metadata": {},
   "outputs": [
    {
     "data": {
      "text/plain": [
       "breed\n",
       "unknown                           24.89\n",
       "pit bull                          17.86\n",
       "american pit bull/pit bull mix     4.29\n",
       "shih tzu                           3.14\n",
       "chihuahua                          2.86\n",
       "german shepherd                    2.73\n",
       "unknown/other                      2.12\n",
       "yorkshire terrier                  2.11\n",
       "maltese                            1.64\n",
       "rottweiler                         1.42\n",
       "siberian husky                     1.38\n",
       "labrador retriever                 1.18\n",
       "poodle, standard                   1.11\n",
       "bull dog                           0.98\n",
       "jack russ                          0.78\n",
       "terrier                            0.76\n",
       "cocker spaniel                     0.68\n",
       "labrador retriever crossbreed      0.66\n",
       "beagle                             0.64\n",
       "golden retriever                   0.60\n",
       "Name: proportion, dtype: float64"
      ]
     },
     "execution_count": 31,
     "metadata": {},
     "output_type": "execute_result"
    }
   ],
   "source": [
    "#выведем топ 20 чаще всего встречающихся пород на экран\n",
    "\n",
    "breed_top = data['breed'].value_counts().head(21)[1:]\n",
    "breed_top = breed_top.to_frame().reset_index()\n",
    "round(data['breed'].value_counts(normalize=True).head(20)*100,2)"
   ]
  },
  {
   "cell_type": "markdown",
   "id": "b8793ff4-b135-4d12-bf9c-8a0677939bde",
   "metadata": {},
   "source": [
    "**Наблюдения:**\n",
    "\n",
    "* в 17% случаев указана порода `pit bull` (англ. «питбультерьер»), также следующий по популярности (4% — метис этой породы)\n",
    "\n",
    "Даже с учетом того, что данные в столбце не соответствуют идеалу, можно предположить, что эта порода лидирует с большим отрывом.\n",
    "На всякий случай уточним топ пород в Нью-Йорке.\n",
    "\n",
    "Данные за 2021 г. есть на сайте <a href=\"https://www.akc.org/expert-advice/news/most-popular-dog-breeds-city-2021/\">Американского клуб собаководства (англ. American Kennel Club) </a>— некоммерческой кинологической организации, ведущей реестр чистокровных пород собак. В соответствии с информацией этой организации топ 5 пород в Нью-Йорке:\n",
    "\n",
    "1 — `French Bulldog` — французский бульдог\\\n",
    "2 — `Poodle` — пудель\\\n",
    "3 — `Golden Retriever` — золотистый ретривер\\\n",
    "4 — `Bulldog` — английский бульдог\\\n",
    "5 — `Labrador Retriever` — лабрадор ретривер\n",
    "\n",
    "Таким образом питбули являются лидерами по нападениям, несмотря на то, что их нет в топ 5 популярных пород.\n",
    "\n",
    "\n",
    "**Посмотрим деление по породам на графике(для топ 20 чаще всего встречающихся пород, исключая `unknown`)**"
   ]
  },
  {
   "cell_type": "code",
   "execution_count": 32,
   "id": "85625503-827b-4def-aebf-09885a28a271",
   "metadata": {},
   "outputs": [
    {
     "data": {
      "image/png": "[encoded data removed]",
      "text/plain": [
       "<Figure size 1000x500 with 1 Axes>"
      ]
     },
     "metadata": {},
     "output_type": "display_data"
    }
   ],
   "source": [
    "#создаем график\n",
    "plt.figure(figsize=(10, 5))\n",
    "sns.barplot(data=breed_top, x='count', y='breed', errorbar=None)\n",
    "\n",
    "#прописываем оси и названия\n",
    "plt.title('Распределение случаев по породам')\n",
    "plt.xlabel('Количество зарегистрированных случаев (данные за 2015-2022 гг.) ') \n",
    "plt.ylabel('Порода');"
   ]
  },
  {
   "cell_type": "markdown",
   "id": "79adcdf0-61e4-4c94-9701-f2e794c30e17",
   "metadata": {},
   "source": [
    "**Уточним, распределение случаев по полу животного**"
   ]
  },
  {
   "cell_type": "code",
   "execution_count": 33,
   "id": "1deb1448-247b-46fa-ba5f-122b4d269ff2",
   "metadata": {},
   "outputs": [
    {
     "data": {
      "text/plain": [
       "gender\n",
       "U    47.728819\n",
       "M    37.803658\n",
       "F    14.467523\n",
       "Name: proportion, dtype: float64"
      ]
     },
     "execution_count": 33,
     "metadata": {},
     "output_type": "execute_result"
    }
   ],
   "source": [
    "data['gender'].value_counts(normalize=True)*100"
   ]
  },
  {
   "cell_type": "raw",
   "id": "44dc87cd-cd0a-4a11-bb69-4d01dd3b867c",
   "metadata": {},
   "source": [
    "**Наблюдения:**\n",
    "\n",
    "* в 48% случаев пол животного остался неизвестен\n",
    "* в случаях, когда пол животного был указан, кобели встречаются в 2,64 раза чаще сук"
   ]
  },
  {
   "cell_type": "markdown",
   "id": "d37693b7-f229-44b6-85bf-5a5f08a87b9b",
   "metadata": {},
   "source": [
    "#### Промежуточный вывод\n",
    "\n",
    "Мы проанализировали столбцы `breed` и `gender` и сделали следующие выводы:\n",
    "\n",
    "* в случаях, когда пол животного был указан, кобели встречаются в 2,64 раза чаще\n",
    "* питбули лидируют по количеству случаев с достаточно высоким отрывом (14% всех нападений)\n",
    "* выяснили, что для более точного изучения агрессивности пород, данные слишком загрязнены ошибками и дублями, также у нас нет более точной информации по количеству в городе собак каждой из пород."
   ]
  },
  {
   "cell_type": "markdown",
   "id": "bfafc54a-a280-41ab-964e-a2a3b14f84f5",
   "metadata": {},
   "source": [
    "### Итоги исследования\n"
   ]
  },
  {
   "cell_type": "markdown",
   "id": "fc54e404-e1bb-4a2f-b8f2-3a45f6e3c013",
   "metadata": {},
   "source": [
    "В ходе исследования:\n",
    "\n",
    "**`В рамках предобработки данных:`**\n",
    "\n",
    "* удалили ненужные столбцы и привели названия к единому написанию\n",
    "* проверили датасет на пропуски и заполнили пропуски подходящими значениями\n",
    "* проверили датасет на наличие явных и скрытых дубликатов, обнаружили проблемный столбец с породами собак\n",
    "* изменили тип данных в столбце date_of_bite на подходящий и добавили на его основе дополнительные столбцы с месяцем и годом случая.\n",
    "\n",
    "**`Провели исследовательский анализ и сделали следующие выводы:`**\n",
    "\n",
    "* **Гипотеза, что сезонность влияет на количество нападений подтвердилась.** В зимние месяцы в среднем зафиксировано на 34.5% меньше случаев, чем в летние\n",
    "* Выяснили **район-лидер по количеству укусов —  Статен-Айленд**. Здесь зарегистрировано в среднем 540 нападений на 1 млн. жителей в год\n",
    "* В случаях, когда пол животного был указан, **кобели встречаются в 2,64 раза чаще сук**\n",
    "* **Питбультерьеры лидируют по количеству случаев с достаточно высоким отрывом (14% всех нападений)**, но более детальные выводы по имеющимся данным мы сделать не можем\n",
    "\n",
    "\n",
    "Публикация результатов анализа может способствовать повышению осведомлённости людей о рисках, связанных с укусами собак, и стимулировать их к более ответственному обращению с животными."
   ]
  },
  {
   "cell_type": "code",
   "execution_count": null,
   "id": "637b186e-e6c9-455a-b270-eee0f343b185",
   "metadata": {},
   "outputs": [],
   "source": []
  }
 ],
 "metadata": {
  "kernelspec": {
   "display_name": "Python 3 (ipykernel)",
   "language": "python",
   "name": "python3"
  },
  "language_info": {
   "codemirror_mode": {
    "name": "ipython",
    "version": 3
   },
   "file_extension": ".py",
   "mimetype": "text/x-python",
   "name": "python",
   "nbconvert_exporter": "python",
   "pygments_lexer": "ipython3",
   "version": "3.11.9"
  }
 },
 "nbformat": 4,
 "nbformat_minor": 5
}
